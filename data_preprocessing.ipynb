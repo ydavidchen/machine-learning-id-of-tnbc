{
 "cells": [
  {
   "cell_type": "markdown",
   "id": "lucky-gentleman",
   "metadata": {},
   "source": [
    "# Healthcare ML Project Notebook I: Data Pre-processing\n",
    "\n",
    "In this notebook, we will accomplish the following:\n",
    "\n",
    "* Load clinical data as a DataFrame `clinical`, required to define class label `clinical[Label] : bool`\n",
    "* Load molecular data as an mxn DataFrame, `genes`. We will select the appropriate rows (patients) and match the `genes` DataFrame with the `clinical` data."
   ]
  },
  {
   "cell_type": "code",
   "execution_count": 1,
   "id": "designed-tokyo",
   "metadata": {},
   "outputs": [],
   "source": [
    "import pandas as pd \n",
    "import numpy as np\n",
    "import matplotlib.pyplot as plt\n",
    "%matplotlib inline\n",
    "\n",
    "import sagemaker\n",
    "from sagemaker import get_execution_role"
   ]
  },
  {
   "cell_type": "markdown",
   "id": "exciting-ottawa",
   "metadata": {},
   "source": [
    "## Sagemaker Resources\n",
    "\n",
    "The data downloaded has been uploaded to S3 default bucket manually."
   ]
  },
  {
   "cell_type": "code",
   "execution_count": 2,
   "id": "referenced-credit",
   "metadata": {},
   "outputs": [
    {
     "data": {
      "text/plain": [
       "<sagemaker.session.Session at 0x7f53f2fea160>"
      ]
     },
     "execution_count": 2,
     "metadata": {},
     "output_type": "execute_result"
    }
   ],
   "source": [
    "sagemaker_session = sagemaker.Session()\n",
    "sagemaker_session"
   ]
  },
  {
   "cell_type": "code",
   "execution_count": 3,
   "id": "young-kennedy",
   "metadata": {},
   "outputs": [
    {
     "data": {
      "text/plain": [
       "'arn:aws:iam::906713186745:role/service-role/AmazonSageMaker-ExecutionRole-20210419T071573'"
      ]
     },
     "execution_count": 3,
     "metadata": {},
     "output_type": "execute_result"
    }
   ],
   "source": [
    "role = sagemaker.get_execution_role()\n",
    "role"
   ]
  },
  {
   "cell_type": "code",
   "execution_count": 4,
   "id": "distinct-detail",
   "metadata": {},
   "outputs": [
    {
     "data": {
      "text/plain": [
       "'sagemaker-us-east-1-906713186745'"
      ]
     },
     "execution_count": 4,
     "metadata": {},
     "output_type": "execute_result"
    }
   ],
   "source": [
    "bucket = sagemaker_session.default_bucket()\n",
    "bucket"
   ]
  },
  {
   "cell_type": "code",
   "execution_count": 5,
   "id": "indirect-personality",
   "metadata": {},
   "outputs": [
    {
     "name": "stdout",
     "output_type": "stream",
     "text": [
      "assets/\n",
      "assets/data/brca_tcga_clinical_data.tsv\n",
      "assets/data/data_RNA_Seq_v2_mRNA_median_all_sample_Zscores.txt\n",
      "assets/data/meta_RNA_Seq_v2_mRNA_median_all_sample_Zscores.txt\n",
      "assets/processed_data/\n",
      "sagemaker-scikit-learn-2021-04-22-02-22-29-590/debug-output/training_job_end.ts\n",
      "sagemaker-scikit-learn-2021-04-22-02-22-29-590/output/model.tar.gz\n",
      "sagemaker-scikit-learn-2021-04-22-02-22-29-590/profiler-output/framework/training_job_end.ts\n",
      "sagemaker-scikit-learn-2021-04-22-02-22-29-590/profiler-output/system/incremental/2021042202/1619058240.algo-1.json\n",
      "sagemaker-scikit-learn-2021-04-22-02-22-29-590/profiler-output/system/incremental/2021042202/1619058300.algo-1.json\n",
      "sagemaker-scikit-learn-2021-04-22-02-22-29-590/profiler-output/system/training_job_end.ts\n",
      "sagemaker-scikit-learn-2021-04-22-02-22-29-590/rule-output/ProfilerReport-1619058149/profiler-output/profiler-report.html\n",
      "sagemaker-scikit-learn-2021-04-22-02-22-29-590/rule-output/ProfilerReport-1619058149/profiler-output/profiler-report.ipynb\n",
      "sagemaker-scikit-learn-2021-04-22-02-22-29-590/rule-output/ProfilerReport-1619058149/profiler-output/profiler-reports/BatchSize.json\n",
      "sagemaker-scikit-learn-2021-04-22-02-22-29-590/rule-output/ProfilerReport-1619058149/profiler-output/profiler-reports/CPUBottleneck.json\n",
      "sagemaker-scikit-learn-2021-04-22-02-22-29-590/rule-output/ProfilerReport-1619058149/profiler-output/profiler-reports/Dataloader.json\n",
      "sagemaker-scikit-learn-2021-04-22-02-22-29-590/rule-output/ProfilerReport-1619058149/profiler-output/profiler-reports/GPUMemoryIncrease.json\n",
      "sagemaker-scikit-learn-2021-04-22-02-22-29-590/rule-output/ProfilerReport-1619058149/profiler-output/profiler-reports/IOBottleneck.json\n",
      "sagemaker-scikit-learn-2021-04-22-02-22-29-590/rule-output/ProfilerReport-1619058149/profiler-output/profiler-reports/LoadBalancing.json\n",
      "sagemaker-scikit-learn-2021-04-22-02-22-29-590/rule-output/ProfilerReport-1619058149/profiler-output/profiler-reports/LowGPUUtilization.json\n",
      "sagemaker-scikit-learn-2021-04-22-02-22-29-590/rule-output/ProfilerReport-1619058149/profiler-output/profiler-reports/MaxInitializationTime.json\n",
      "sagemaker-scikit-learn-2021-04-22-02-22-29-590/rule-output/ProfilerReport-1619058149/profiler-output/profiler-reports/OverallFrameworkMetrics.json\n",
      "sagemaker-scikit-learn-2021-04-22-02-22-29-590/rule-output/ProfilerReport-1619058149/profiler-output/profiler-reports/OverallSystemUsage.json\n",
      "sagemaker-scikit-learn-2021-04-22-02-22-29-590/rule-output/ProfilerReport-1619058149/profiler-output/profiler-reports/StepOutlier.json\n",
      "sagemaker-scikit-learn-2021-04-22-02-22-29-590/source/sourcedir.tar.gz\n",
      "sagemaker/iris-data/iris.csv\n"
     ]
    }
   ],
   "source": [
    "def reveal_bucket(bucket=bucket):\n",
    "    \"\"\"Helper to show Bucket content\"\"\"\n",
    "    import boto3\n",
    "    for obj in boto3.resource('s3').Bucket(bucket).objects.all():\n",
    "        print(obj.key)\n",
    "        \n",
    "reveal_bucket()"
   ]
  },
  {
   "cell_type": "markdown",
   "id": "three-prisoner",
   "metadata": {},
   "source": [
    "### Load Data from S3"
   ]
  },
  {
   "cell_type": "code",
   "execution_count": 6,
   "id": "included-announcement",
   "metadata": {},
   "outputs": [],
   "source": [
    "def get_s3_uri(prefix, bucket=bucket):\n",
    "    return \"s3://{}/{}\".format(bucket, prefix)\n",
    "\n",
    "path_input = get_s3_uri(\"assets/data/data_RNA_Seq_v2_mRNA_median_all_sample_Zscores.txt\")\n",
    "path_annot = get_s3_uri(\"assets/data/brca_tcga_clinical_data.tsv\")"
   ]
  },
  {
   "cell_type": "code",
   "execution_count": 7,
   "id": "digital-custom",
   "metadata": {},
   "outputs": [
    {
     "data": {
      "text/plain": [
       "(20531, 1102)"
      ]
     },
     "execution_count": 7,
     "metadata": {},
     "output_type": "execute_result"
    }
   ],
   "source": [
    "## Features - high dimensional\n",
    "genes = pd.read_csv(path_input, delimiter=\"\\t\")\n",
    "genes.shape"
   ]
  },
  {
   "cell_type": "code",
   "execution_count": 8,
   "id": "bizarre-bedroom",
   "metadata": {},
   "outputs": [
    {
     "data": {
      "text/html": [
       "<div>\n",
       "<style scoped>\n",
       "    .dataframe tbody tr th:only-of-type {\n",
       "        vertical-align: middle;\n",
       "    }\n",
       "\n",
       "    .dataframe tbody tr th {\n",
       "        vertical-align: top;\n",
       "    }\n",
       "\n",
       "    .dataframe thead th {\n",
       "        text-align: right;\n",
       "    }\n",
       "</style>\n",
       "<table border=\"1\" class=\"dataframe\">\n",
       "  <thead>\n",
       "    <tr style=\"text-align: right;\">\n",
       "      <th></th>\n",
       "      <th>Hugo_Symbol</th>\n",
       "      <th>Entrez_Gene_Id</th>\n",
       "      <th>TCGA-3C-AAAU-01</th>\n",
       "      <th>TCGA-3C-AALI-01</th>\n",
       "      <th>TCGA-3C-AALJ-01</th>\n",
       "      <th>TCGA-3C-AALK-01</th>\n",
       "      <th>TCGA-4H-AAAK-01</th>\n",
       "      <th>TCGA-5L-AAT0-01</th>\n",
       "      <th>TCGA-5L-AAT1-01</th>\n",
       "      <th>TCGA-5T-A9QA-01</th>\n",
       "      <th>...</th>\n",
       "      <th>TCGA-UL-AAZ6-01</th>\n",
       "      <th>TCGA-UU-A93S-01</th>\n",
       "      <th>TCGA-V7-A7HQ-01</th>\n",
       "      <th>TCGA-W8-A86G-01</th>\n",
       "      <th>TCGA-WT-AB41-01</th>\n",
       "      <th>TCGA-WT-AB44-01</th>\n",
       "      <th>TCGA-XX-A899-01</th>\n",
       "      <th>TCGA-XX-A89A-01</th>\n",
       "      <th>TCGA-Z7-A8R5-01</th>\n",
       "      <th>TCGA-Z7-A8R6-01</th>\n",
       "    </tr>\n",
       "  </thead>\n",
       "  <tbody>\n",
       "    <tr>\n",
       "      <th>0</th>\n",
       "      <td>LOC100130426</td>\n",
       "      <td>100130426</td>\n",
       "      <td>-1.7608</td>\n",
       "      <td>-1.7608</td>\n",
       "      <td>1.1240</td>\n",
       "      <td>-1.7608</td>\n",
       "      <td>-1.7608</td>\n",
       "      <td>-1.7608</td>\n",
       "      <td>-1.7608</td>\n",
       "      <td>-1.7608</td>\n",
       "      <td>...</td>\n",
       "      <td>-1.7608</td>\n",
       "      <td>-1.7608</td>\n",
       "      <td>-1.7608</td>\n",
       "      <td>-1.7608</td>\n",
       "      <td>-1.7608</td>\n",
       "      <td>-1.7608</td>\n",
       "      <td>-1.7608</td>\n",
       "      <td>-1.7608</td>\n",
       "      <td>-1.7608</td>\n",
       "      <td>-1.7608</td>\n",
       "    </tr>\n",
       "    <tr>\n",
       "      <th>1</th>\n",
       "      <td>UBE2Q2P3</td>\n",
       "      <td>100133144</td>\n",
       "      <td>1.0944</td>\n",
       "      <td>0.3540</td>\n",
       "      <td>0.6451</td>\n",
       "      <td>0.6963</td>\n",
       "      <td>-0.0246</td>\n",
       "      <td>-0.6627</td>\n",
       "      <td>-2.9270</td>\n",
       "      <td>-1.6563</td>\n",
       "      <td>...</td>\n",
       "      <td>-2.4538</td>\n",
       "      <td>-0.5741</td>\n",
       "      <td>-2.9270</td>\n",
       "      <td>-0.2765</td>\n",
       "      <td>-2.9270</td>\n",
       "      <td>-2.9270</td>\n",
       "      <td>0.9240</td>\n",
       "      <td>1.5101</td>\n",
       "      <td>-1.2605</td>\n",
       "      <td>-0.0175</td>\n",
       "    </tr>\n",
       "    <tr>\n",
       "      <th>2</th>\n",
       "      <td>UBE2Q2P3</td>\n",
       "      <td>100134869</td>\n",
       "      <td>1.0230</td>\n",
       "      <td>1.4736</td>\n",
       "      <td>0.5206</td>\n",
       "      <td>0.7910</td>\n",
       "      <td>1.1891</td>\n",
       "      <td>1.1002</td>\n",
       "      <td>0.7244</td>\n",
       "      <td>0.4830</td>\n",
       "      <td>...</td>\n",
       "      <td>1.1830</td>\n",
       "      <td>0.7643</td>\n",
       "      <td>-0.9748</td>\n",
       "      <td>1.1829</td>\n",
       "      <td>-0.0262</td>\n",
       "      <td>-0.9051</td>\n",
       "      <td>1.7984</td>\n",
       "      <td>2.1743</td>\n",
       "      <td>0.1793</td>\n",
       "      <td>2.0240</td>\n",
       "    </tr>\n",
       "    <tr>\n",
       "      <th>3</th>\n",
       "      <td>LOC149767</td>\n",
       "      <td>10357</td>\n",
       "      <td>-1.7033</td>\n",
       "      <td>-1.0056</td>\n",
       "      <td>0.9114</td>\n",
       "      <td>0.7418</td>\n",
       "      <td>-0.5522</td>\n",
       "      <td>0.1842</td>\n",
       "      <td>0.2208</td>\n",
       "      <td>0.0383</td>\n",
       "      <td>...</td>\n",
       "      <td>0.5990</td>\n",
       "      <td>0.6079</td>\n",
       "      <td>-3.0182</td>\n",
       "      <td>0.4649</td>\n",
       "      <td>-1.6364</td>\n",
       "      <td>-2.2051</td>\n",
       "      <td>0.6371</td>\n",
       "      <td>-1.2071</td>\n",
       "      <td>-0.5285</td>\n",
       "      <td>1.1111</td>\n",
       "    </tr>\n",
       "    <tr>\n",
       "      <th>4</th>\n",
       "      <td>TIMM23</td>\n",
       "      <td>10431</td>\n",
       "      <td>-2.5248</td>\n",
       "      <td>-1.6307</td>\n",
       "      <td>0.8069</td>\n",
       "      <td>-0.4455</td>\n",
       "      <td>-0.7821</td>\n",
       "      <td>-0.6367</td>\n",
       "      <td>0.2389</td>\n",
       "      <td>0.9257</td>\n",
       "      <td>...</td>\n",
       "      <td>1.2029</td>\n",
       "      <td>2.8887</td>\n",
       "      <td>1.4583</td>\n",
       "      <td>-1.0420</td>\n",
       "      <td>0.5612</td>\n",
       "      <td>1.6977</td>\n",
       "      <td>-1.2260</td>\n",
       "      <td>-0.9444</td>\n",
       "      <td>0.3174</td>\n",
       "      <td>-0.0360</td>\n",
       "    </tr>\n",
       "  </tbody>\n",
       "</table>\n",
       "<p>5 rows × 1102 columns</p>\n",
       "</div>"
      ],
      "text/plain": [
       "    Hugo_Symbol  Entrez_Gene_Id  TCGA-3C-AAAU-01  TCGA-3C-AALI-01  \\\n",
       "0  LOC100130426       100130426          -1.7608          -1.7608   \n",
       "1      UBE2Q2P3       100133144           1.0944           0.3540   \n",
       "2      UBE2Q2P3       100134869           1.0230           1.4736   \n",
       "3     LOC149767           10357          -1.7033          -1.0056   \n",
       "4        TIMM23           10431          -2.5248          -1.6307   \n",
       "\n",
       "   TCGA-3C-AALJ-01  TCGA-3C-AALK-01  TCGA-4H-AAAK-01  TCGA-5L-AAT0-01  \\\n",
       "0           1.1240          -1.7608          -1.7608          -1.7608   \n",
       "1           0.6451           0.6963          -0.0246          -0.6627   \n",
       "2           0.5206           0.7910           1.1891           1.1002   \n",
       "3           0.9114           0.7418          -0.5522           0.1842   \n",
       "4           0.8069          -0.4455          -0.7821          -0.6367   \n",
       "\n",
       "   TCGA-5L-AAT1-01  TCGA-5T-A9QA-01  ...  TCGA-UL-AAZ6-01  TCGA-UU-A93S-01  \\\n",
       "0          -1.7608          -1.7608  ...          -1.7608          -1.7608   \n",
       "1          -2.9270          -1.6563  ...          -2.4538          -0.5741   \n",
       "2           0.7244           0.4830  ...           1.1830           0.7643   \n",
       "3           0.2208           0.0383  ...           0.5990           0.6079   \n",
       "4           0.2389           0.9257  ...           1.2029           2.8887   \n",
       "\n",
       "   TCGA-V7-A7HQ-01  TCGA-W8-A86G-01  TCGA-WT-AB41-01  TCGA-WT-AB44-01  \\\n",
       "0          -1.7608          -1.7608          -1.7608          -1.7608   \n",
       "1          -2.9270          -0.2765          -2.9270          -2.9270   \n",
       "2          -0.9748           1.1829          -0.0262          -0.9051   \n",
       "3          -3.0182           0.4649          -1.6364          -2.2051   \n",
       "4           1.4583          -1.0420           0.5612           1.6977   \n",
       "\n",
       "   TCGA-XX-A899-01  TCGA-XX-A89A-01  TCGA-Z7-A8R5-01  TCGA-Z7-A8R6-01  \n",
       "0          -1.7608          -1.7608          -1.7608          -1.7608  \n",
       "1           0.9240           1.5101          -1.2605          -0.0175  \n",
       "2           1.7984           2.1743           0.1793           2.0240  \n",
       "3           0.6371          -1.2071          -0.5285           1.1111  \n",
       "4          -1.2260          -0.9444           0.3174          -0.0360  \n",
       "\n",
       "[5 rows x 1102 columns]"
      ]
     },
     "execution_count": 8,
     "metadata": {},
     "output_type": "execute_result"
    }
   ],
   "source": [
    "genes.head()"
   ]
  },
  {
   "cell_type": "code",
   "execution_count": 9,
   "id": "multiple-swiss",
   "metadata": {},
   "outputs": [],
   "source": [
    "## Set aside gene name to numerical id\n",
    "gene_map = genes.iloc[:, 0:2]"
   ]
  },
  {
   "cell_type": "code",
   "execution_count": 10,
   "id": "catholic-picnic",
   "metadata": {},
   "outputs": [],
   "source": [
    "assert not any(genes.duplicated(\"Entrez_Gene_Id\"))  #ensure no duplicate id\n",
    "genes.index = genes[\"Entrez_Gene_Id\"]\n",
    "genes = genes.iloc[:, 2:] #drop gene id cols"
   ]
  },
  {
   "cell_type": "code",
   "execution_count": 11,
   "id": "round-librarian",
   "metadata": {},
   "outputs": [
    {
     "data": {
      "text/html": [
       "<div>\n",
       "<style scoped>\n",
       "    .dataframe tbody tr th:only-of-type {\n",
       "        vertical-align: middle;\n",
       "    }\n",
       "\n",
       "    .dataframe tbody tr th {\n",
       "        vertical-align: top;\n",
       "    }\n",
       "\n",
       "    .dataframe thead th {\n",
       "        text-align: right;\n",
       "    }\n",
       "</style>\n",
       "<table border=\"1\" class=\"dataframe\">\n",
       "  <thead>\n",
       "    <tr style=\"text-align: right;\">\n",
       "      <th>Entrez_Gene_Id</th>\n",
       "      <th>100130426</th>\n",
       "      <th>100133144</th>\n",
       "      <th>100134869</th>\n",
       "      <th>10357</th>\n",
       "      <th>10431</th>\n",
       "      <th>136542</th>\n",
       "      <th>155060</th>\n",
       "      <th>26823</th>\n",
       "      <th>280660</th>\n",
       "      <th>317712</th>\n",
       "      <th>...</th>\n",
       "      <th>7789</th>\n",
       "      <th>158586</th>\n",
       "      <th>79364</th>\n",
       "      <th>440590</th>\n",
       "      <th>79699</th>\n",
       "      <th>7791</th>\n",
       "      <th>23140</th>\n",
       "      <th>26009</th>\n",
       "      <th>387590</th>\n",
       "      <th>389932</th>\n",
       "    </tr>\n",
       "  </thead>\n",
       "  <tbody>\n",
       "    <tr>\n",
       "      <th>TCGA-3C-AAAU-01</th>\n",
       "      <td>-1.7608</td>\n",
       "      <td>1.0944</td>\n",
       "      <td>1.0230</td>\n",
       "      <td>-1.7033</td>\n",
       "      <td>-2.5248</td>\n",
       "      <td>NaN</td>\n",
       "      <td>2.6672</td>\n",
       "      <td>-1.9754</td>\n",
       "      <td>-1.0239</td>\n",
       "      <td>-3.8503</td>\n",
       "      <td>...</td>\n",
       "      <td>1.6674</td>\n",
       "      <td>1.3652</td>\n",
       "      <td>1.7323</td>\n",
       "      <td>1.1787</td>\n",
       "      <td>1.0112</td>\n",
       "      <td>0.0077</td>\n",
       "      <td>1.2480</td>\n",
       "      <td>0.7011</td>\n",
       "      <td>-2.2857</td>\n",
       "      <td>-1.0151</td>\n",
       "    </tr>\n",
       "    <tr>\n",
       "      <th>TCGA-3C-AALI-01</th>\n",
       "      <td>-1.7608</td>\n",
       "      <td>0.3540</td>\n",
       "      <td>1.4736</td>\n",
       "      <td>-1.0056</td>\n",
       "      <td>-1.6307</td>\n",
       "      <td>NaN</td>\n",
       "      <td>1.4841</td>\n",
       "      <td>0.6553</td>\n",
       "      <td>-0.5570</td>\n",
       "      <td>-3.8503</td>\n",
       "      <td>...</td>\n",
       "      <td>0.0469</td>\n",
       "      <td>-0.2845</td>\n",
       "      <td>0.8841</td>\n",
       "      <td>0.9389</td>\n",
       "      <td>-0.8990</td>\n",
       "      <td>0.9335</td>\n",
       "      <td>0.3568</td>\n",
       "      <td>-1.8110</td>\n",
       "      <td>1.7416</td>\n",
       "      <td>-1.0151</td>\n",
       "    </tr>\n",
       "    <tr>\n",
       "      <th>TCGA-3C-AALJ-01</th>\n",
       "      <td>1.1240</td>\n",
       "      <td>0.6451</td>\n",
       "      <td>0.5206</td>\n",
       "      <td>0.9114</td>\n",
       "      <td>0.8069</td>\n",
       "      <td>NaN</td>\n",
       "      <td>1.6791</td>\n",
       "      <td>-1.9754</td>\n",
       "      <td>-1.0239</td>\n",
       "      <td>-3.8503</td>\n",
       "      <td>...</td>\n",
       "      <td>-1.0439</td>\n",
       "      <td>0.0704</td>\n",
       "      <td>-1.3588</td>\n",
       "      <td>1.4057</td>\n",
       "      <td>-1.2453</td>\n",
       "      <td>0.9163</td>\n",
       "      <td>-0.4675</td>\n",
       "      <td>-1.2802</td>\n",
       "      <td>-0.4957</td>\n",
       "      <td>-1.0151</td>\n",
       "    </tr>\n",
       "    <tr>\n",
       "      <th>TCGA-3C-AALK-01</th>\n",
       "      <td>-1.7608</td>\n",
       "      <td>0.6963</td>\n",
       "      <td>0.7910</td>\n",
       "      <td>0.7418</td>\n",
       "      <td>-0.4455</td>\n",
       "      <td>NaN</td>\n",
       "      <td>1.5817</td>\n",
       "      <td>-0.7379</td>\n",
       "      <td>-1.0239</td>\n",
       "      <td>-3.8503</td>\n",
       "      <td>...</td>\n",
       "      <td>-0.1270</td>\n",
       "      <td>-0.3346</td>\n",
       "      <td>-0.8902</td>\n",
       "      <td>0.8269</td>\n",
       "      <td>-0.8818</td>\n",
       "      <td>1.0020</td>\n",
       "      <td>-0.9299</td>\n",
       "      <td>-0.5286</td>\n",
       "      <td>-0.0672</td>\n",
       "      <td>-1.0151</td>\n",
       "    </tr>\n",
       "    <tr>\n",
       "      <th>TCGA-4H-AAAK-01</th>\n",
       "      <td>-1.7608</td>\n",
       "      <td>-0.0246</td>\n",
       "      <td>1.1891</td>\n",
       "      <td>-0.5522</td>\n",
       "      <td>-0.7821</td>\n",
       "      <td>NaN</td>\n",
       "      <td>0.5166</td>\n",
       "      <td>-0.7082</td>\n",
       "      <td>-1.0239</td>\n",
       "      <td>-3.8503</td>\n",
       "      <td>...</td>\n",
       "      <td>-0.3710</td>\n",
       "      <td>-0.3982</td>\n",
       "      <td>-0.1067</td>\n",
       "      <td>-1.4182</td>\n",
       "      <td>-0.2086</td>\n",
       "      <td>0.2990</td>\n",
       "      <td>-0.7752</td>\n",
       "      <td>0.0127</td>\n",
       "      <td>0.6400</td>\n",
       "      <td>-1.0151</td>\n",
       "    </tr>\n",
       "  </tbody>\n",
       "</table>\n",
       "<p>5 rows × 20531 columns</p>\n",
       "</div>"
      ],
      "text/plain": [
       "Entrez_Gene_Id   100130426  100133144  100134869  10357      10431      \\\n",
       "TCGA-3C-AAAU-01    -1.7608     1.0944     1.0230    -1.7033    -2.5248   \n",
       "TCGA-3C-AALI-01    -1.7608     0.3540     1.4736    -1.0056    -1.6307   \n",
       "TCGA-3C-AALJ-01     1.1240     0.6451     0.5206     0.9114     0.8069   \n",
       "TCGA-3C-AALK-01    -1.7608     0.6963     0.7910     0.7418    -0.4455   \n",
       "TCGA-4H-AAAK-01    -1.7608    -0.0246     1.1891    -0.5522    -0.7821   \n",
       "\n",
       "Entrez_Gene_Id   136542     155060     26823      280660     317712     ...  \\\n",
       "TCGA-3C-AAAU-01        NaN     2.6672    -1.9754    -1.0239    -3.8503  ...   \n",
       "TCGA-3C-AALI-01        NaN     1.4841     0.6553    -0.5570    -3.8503  ...   \n",
       "TCGA-3C-AALJ-01        NaN     1.6791    -1.9754    -1.0239    -3.8503  ...   \n",
       "TCGA-3C-AALK-01        NaN     1.5817    -0.7379    -1.0239    -3.8503  ...   \n",
       "TCGA-4H-AAAK-01        NaN     0.5166    -0.7082    -1.0239    -3.8503  ...   \n",
       "\n",
       "Entrez_Gene_Id   7789       158586     79364      440590     79699      \\\n",
       "TCGA-3C-AAAU-01     1.6674     1.3652     1.7323     1.1787     1.0112   \n",
       "TCGA-3C-AALI-01     0.0469    -0.2845     0.8841     0.9389    -0.8990   \n",
       "TCGA-3C-AALJ-01    -1.0439     0.0704    -1.3588     1.4057    -1.2453   \n",
       "TCGA-3C-AALK-01    -0.1270    -0.3346    -0.8902     0.8269    -0.8818   \n",
       "TCGA-4H-AAAK-01    -0.3710    -0.3982    -0.1067    -1.4182    -0.2086   \n",
       "\n",
       "Entrez_Gene_Id   7791       23140      26009      387590     389932     \n",
       "TCGA-3C-AAAU-01     0.0077     1.2480     0.7011    -2.2857    -1.0151  \n",
       "TCGA-3C-AALI-01     0.9335     0.3568    -1.8110     1.7416    -1.0151  \n",
       "TCGA-3C-AALJ-01     0.9163    -0.4675    -1.2802    -0.4957    -1.0151  \n",
       "TCGA-3C-AALK-01     1.0020    -0.9299    -0.5286    -0.0672    -1.0151  \n",
       "TCGA-4H-AAAK-01     0.2990    -0.7752     0.0127     0.6400    -1.0151  \n",
       "\n",
       "[5 rows x 20531 columns]"
      ]
     },
     "execution_count": 11,
     "metadata": {},
     "output_type": "execute_result"
    }
   ],
   "source": [
    "## Transpose dataframe such that each row=patient(observation), each col=gene(feature)\n",
    "genes = genes.transpose()\n",
    "genes.head() #preview again"
   ]
  },
  {
   "cell_type": "markdown",
   "id": "dress-convert",
   "metadata": {},
   "source": [
    "## Inspect Clinical Information \n",
    "\n",
    "Needed to generate label"
   ]
  },
  {
   "cell_type": "code",
   "execution_count": 12,
   "id": "graphic-planner",
   "metadata": {},
   "outputs": [
    {
     "data": {
      "text/plain": [
       "(1108, 140)"
      ]
     },
     "execution_count": 12,
     "metadata": {},
     "output_type": "execute_result"
    }
   ],
   "source": [
    "clinical = pd.read_csv(path_annot, delimiter=\"\\t\")\n",
    "# sorted(clinical.columns.to_list())\n",
    "clinical.shape"
   ]
  },
  {
   "cell_type": "code",
   "execution_count": 13,
   "id": "pursuant-robin",
   "metadata": {},
   "outputs": [
    {
     "data": {
      "text/html": [
       "<div>\n",
       "<style scoped>\n",
       "    .dataframe tbody tr th:only-of-type {\n",
       "        vertical-align: middle;\n",
       "    }\n",
       "\n",
       "    .dataframe tbody tr th {\n",
       "        vertical-align: top;\n",
       "    }\n",
       "\n",
       "    .dataframe thead th {\n",
       "        text-align: right;\n",
       "    }\n",
       "</style>\n",
       "<table border=\"1\" class=\"dataframe\">\n",
       "  <thead>\n",
       "    <tr style=\"text-align: right;\">\n",
       "      <th></th>\n",
       "      <th>Sample ID</th>\n",
       "      <th>Sample Type</th>\n",
       "      <th>Fraction Genome Altered</th>\n",
       "      <th>Diagnosis Age</th>\n",
       "      <th>Sex</th>\n",
       "      <th>Race Category</th>\n",
       "      <th>Ethnicity Category</th>\n",
       "      <th>Informed consent verified</th>\n",
       "      <th>ER Status By IHC</th>\n",
       "      <th>PR status by ihc</th>\n",
       "      <th>IHC-HER2</th>\n",
       "    </tr>\n",
       "  </thead>\n",
       "  <tbody>\n",
       "    <tr>\n",
       "      <th>0</th>\n",
       "      <td>TCGA-3C-AAAU-01</td>\n",
       "      <td>Primary</td>\n",
       "      <td>0.7787</td>\n",
       "      <td>55.0</td>\n",
       "      <td>Female</td>\n",
       "      <td>WHITE</td>\n",
       "      <td>NOT HISPANIC OR LATINO</td>\n",
       "      <td>YES</td>\n",
       "      <td>Positive</td>\n",
       "      <td>Positive</td>\n",
       "      <td>Negative</td>\n",
       "    </tr>\n",
       "    <tr>\n",
       "      <th>1</th>\n",
       "      <td>TCGA-3C-AALI-01</td>\n",
       "      <td>Primary</td>\n",
       "      <td>0.7164</td>\n",
       "      <td>50.0</td>\n",
       "      <td>Female</td>\n",
       "      <td>BLACK OR AFRICAN AMERICAN</td>\n",
       "      <td>NOT HISPANIC OR LATINO</td>\n",
       "      <td>YES</td>\n",
       "      <td>Positive</td>\n",
       "      <td>Positive</td>\n",
       "      <td>Positive</td>\n",
       "    </tr>\n",
       "    <tr>\n",
       "      <th>2</th>\n",
       "      <td>TCGA-3C-AALJ-01</td>\n",
       "      <td>Primary</td>\n",
       "      <td>0.5340</td>\n",
       "      <td>62.0</td>\n",
       "      <td>Female</td>\n",
       "      <td>BLACK OR AFRICAN AMERICAN</td>\n",
       "      <td>NOT HISPANIC OR LATINO</td>\n",
       "      <td>YES</td>\n",
       "      <td>Positive</td>\n",
       "      <td>Positive</td>\n",
       "      <td>Indeterminate</td>\n",
       "    </tr>\n",
       "    <tr>\n",
       "      <th>3</th>\n",
       "      <td>TCGA-3C-AALK-01</td>\n",
       "      <td>Primary</td>\n",
       "      <td>0.0764</td>\n",
       "      <td>52.0</td>\n",
       "      <td>Female</td>\n",
       "      <td>BLACK OR AFRICAN AMERICAN</td>\n",
       "      <td>NOT HISPANIC OR LATINO</td>\n",
       "      <td>YES</td>\n",
       "      <td>Positive</td>\n",
       "      <td>Positive</td>\n",
       "      <td>Positive</td>\n",
       "    </tr>\n",
       "    <tr>\n",
       "      <th>4</th>\n",
       "      <td>TCGA-4H-AAAK-01</td>\n",
       "      <td>Primary</td>\n",
       "      <td>0.2364</td>\n",
       "      <td>50.0</td>\n",
       "      <td>Female</td>\n",
       "      <td>WHITE</td>\n",
       "      <td>NOT HISPANIC OR LATINO</td>\n",
       "      <td>YES</td>\n",
       "      <td>Positive</td>\n",
       "      <td>Positive</td>\n",
       "      <td>Equivocal</td>\n",
       "    </tr>\n",
       "  </tbody>\n",
       "</table>\n",
       "</div>"
      ],
      "text/plain": [
       "         Sample ID Sample Type  Fraction Genome Altered  Diagnosis Age  \\\n",
       "0  TCGA-3C-AAAU-01     Primary                   0.7787           55.0   \n",
       "1  TCGA-3C-AALI-01     Primary                   0.7164           50.0   \n",
       "2  TCGA-3C-AALJ-01     Primary                   0.5340           62.0   \n",
       "3  TCGA-3C-AALK-01     Primary                   0.0764           52.0   \n",
       "4  TCGA-4H-AAAK-01     Primary                   0.2364           50.0   \n",
       "\n",
       "      Sex              Race Category      Ethnicity Category  \\\n",
       "0  Female                      WHITE  NOT HISPANIC OR LATINO   \n",
       "1  Female  BLACK OR AFRICAN AMERICAN  NOT HISPANIC OR LATINO   \n",
       "2  Female  BLACK OR AFRICAN AMERICAN  NOT HISPANIC OR LATINO   \n",
       "3  Female  BLACK OR AFRICAN AMERICAN  NOT HISPANIC OR LATINO   \n",
       "4  Female                      WHITE  NOT HISPANIC OR LATINO   \n",
       "\n",
       "  Informed consent verified ER Status By IHC PR status by ihc       IHC-HER2  \n",
       "0                       YES         Positive         Positive       Negative  \n",
       "1                       YES         Positive         Positive       Positive  \n",
       "2                       YES         Positive         Positive  Indeterminate  \n",
       "3                       YES         Positive         Positive       Positive  \n",
       "4                       YES         Positive         Positive      Equivocal  "
      ]
     },
     "execution_count": 13,
     "metadata": {},
     "output_type": "execute_result"
    }
   ],
   "source": [
    "COLUMNS_CLIN = [\n",
    "    'Sample ID', #ids\n",
    "    'Sample Type','Fraction Genome Altered', #tumor info\n",
    "    'Diagnosis Age','Sex','Race Category','Ethnicity Category', #patient info\n",
    "    'Informed consent verified', #ethics\n",
    "    'ER Status By IHC','PR status by ihc','IHC-HER2' #required for CLASS LABEL\n",
    "]\n",
    "\n",
    "clinical = clinical[COLUMNS_CLIN]\n",
    "clinical.head()"
   ]
  },
  {
   "cell_type": "code",
   "execution_count": 14,
   "id": "vocal-command",
   "metadata": {},
   "outputs": [],
   "source": [
    "## Focus on primary tumors from female patients only\n",
    "clinical = clinical[(clinical[\"Sex\"]==\"Female\") & (clinical[\"Sample Type\"]==\"Primary\")]"
   ]
  },
  {
   "cell_type": "code",
   "execution_count": 15,
   "id": "advanced-determination",
   "metadata": {},
   "outputs": [
    {
     "name": "stdout",
     "output_type": "stream",
     "text": [
      "Number of NaNs: 94\n"
     ]
    }
   ],
   "source": [
    "## Aggregate Race Category (most patients in the data are white - a known limitation of the data)\n",
    "print(\"Number of NaNs: %d\" % sum(clinical['Race Category'].isna()))\n",
    "clinical['RaceWhite'] = (clinical['Race Category']==\"WHITE\") "
   ]
  },
  {
   "cell_type": "code",
   "execution_count": 16,
   "id": "lovely-identity",
   "metadata": {},
   "outputs": [
    {
     "data": {
      "text/plain": [
       "94"
      ]
     },
     "execution_count": 16,
     "metadata": {},
     "output_type": "execute_result"
    }
   ],
   "source": [
    "clinical.loc[clinical['Race Category'].isna(), \"RaceWhite\"] = None\n",
    "sum(clinical['RaceWhite'].isna()) #should be same as above"
   ]
  },
  {
   "cell_type": "markdown",
   "id": "tropical-ultimate",
   "metadata": {},
   "source": [
    "### Define class labels, 1 if a cancer is ER-negative, PR-negative, and HER2-negative; 0 otherwise\n",
    "\n",
    "Receptors ER, PR, HER2 have missing values!\n",
    "\n",
    "* All 3 needs to be 'Negative' for Label=1. \n",
    "* As long as one of which is 'Positive' or 'Intermediate' or 'Equivocal', we have Label=0.\n",
    "* Label=None is defined\n",
    "    - All 3 are 'Negative'\n",
    "    - 1 'Negative' + 2 NaN\n",
    "    - 2 'Negative' + 1 NaN\n",
    "\n",
    "We need to exclude samples whose Label=NaN."
   ]
  },
  {
   "cell_type": "code",
   "execution_count": 17,
   "id": "constitutional-begin",
   "metadata": {},
   "outputs": [
    {
     "data": {
      "text/plain": [
       "[0, 0, 18, 1, 0, 94, 171, 0, 49, 50, 176]"
      ]
     },
     "execution_count": 17,
     "metadata": {},
     "output_type": "execute_result"
    }
   ],
   "source": [
    "[sum(clinical[col].isna()) for col in COLUMNS_CLIN] #last 3 numbers indicate missing "
   ]
  },
  {
   "cell_type": "code",
   "execution_count": 18,
   "id": "pointed-class",
   "metadata": {},
   "outputs": [],
   "source": [
    "## Initialize the label definition:\n",
    "clinical['Label'] = (clinical['ER Status By IHC']=='Negative') & \\\n",
    "                    (clinical['PR status by ihc']=='Negative') & \\\n",
    "                    (clinical['IHC-HER2']=='Negative')"
   ]
  },
  {
   "cell_type": "code",
   "execution_count": 19,
   "id": "dramatic-shift",
   "metadata": {},
   "outputs": [
    {
     "data": {
      "text/html": [
       "<div>\n",
       "<style scoped>\n",
       "    .dataframe tbody tr th:only-of-type {\n",
       "        vertical-align: middle;\n",
       "    }\n",
       "\n",
       "    .dataframe tbody tr th {\n",
       "        vertical-align: top;\n",
       "    }\n",
       "\n",
       "    .dataframe thead th {\n",
       "        text-align: right;\n",
       "    }\n",
       "</style>\n",
       "<table border=\"1\" class=\"dataframe\">\n",
       "  <thead>\n",
       "    <tr style=\"text-align: right;\">\n",
       "      <th></th>\n",
       "      <th>ER Status By IHC</th>\n",
       "      <th>PR status by ihc</th>\n",
       "      <th>IHC-HER2</th>\n",
       "    </tr>\n",
       "  </thead>\n",
       "  <tbody>\n",
       "    <tr>\n",
       "      <th>0</th>\n",
       "      <td>False</td>\n",
       "      <td>False</td>\n",
       "      <td>False</td>\n",
       "    </tr>\n",
       "    <tr>\n",
       "      <th>1</th>\n",
       "      <td>False</td>\n",
       "      <td>False</td>\n",
       "      <td>False</td>\n",
       "    </tr>\n",
       "    <tr>\n",
       "      <th>2</th>\n",
       "      <td>False</td>\n",
       "      <td>False</td>\n",
       "      <td>False</td>\n",
       "    </tr>\n",
       "    <tr>\n",
       "      <th>3</th>\n",
       "      <td>False</td>\n",
       "      <td>False</td>\n",
       "      <td>False</td>\n",
       "    </tr>\n",
       "    <tr>\n",
       "      <th>4</th>\n",
       "      <td>False</td>\n",
       "      <td>False</td>\n",
       "      <td>False</td>\n",
       "    </tr>\n",
       "    <tr>\n",
       "      <th>...</th>\n",
       "      <td>...</td>\n",
       "      <td>...</td>\n",
       "      <td>...</td>\n",
       "    </tr>\n",
       "    <tr>\n",
       "      <th>1103</th>\n",
       "      <td>False</td>\n",
       "      <td>False</td>\n",
       "      <td>False</td>\n",
       "    </tr>\n",
       "    <tr>\n",
       "      <th>1104</th>\n",
       "      <td>False</td>\n",
       "      <td>False</td>\n",
       "      <td>False</td>\n",
       "    </tr>\n",
       "    <tr>\n",
       "      <th>1105</th>\n",
       "      <td>False</td>\n",
       "      <td>False</td>\n",
       "      <td>False</td>\n",
       "    </tr>\n",
       "    <tr>\n",
       "      <th>1106</th>\n",
       "      <td>False</td>\n",
       "      <td>False</td>\n",
       "      <td>False</td>\n",
       "    </tr>\n",
       "    <tr>\n",
       "      <th>1107</th>\n",
       "      <td>False</td>\n",
       "      <td>False</td>\n",
       "      <td>False</td>\n",
       "    </tr>\n",
       "  </tbody>\n",
       "</table>\n",
       "<p>1085 rows × 3 columns</p>\n",
       "</div>"
      ],
      "text/plain": [
       "      ER Status By IHC  PR status by ihc  IHC-HER2\n",
       "0                False             False     False\n",
       "1                False             False     False\n",
       "2                False             False     False\n",
       "3                False             False     False\n",
       "4                False             False     False\n",
       "...                ...               ...       ...\n",
       "1103             False             False     False\n",
       "1104             False             False     False\n",
       "1105             False             False     False\n",
       "1106             False             False     False\n",
       "1107             False             False     False\n",
       "\n",
       "[1085 rows x 3 columns]"
      ]
     },
     "execution_count": 19,
     "metadata": {},
     "output_type": "execute_result"
    }
   ],
   "source": [
    "clinical.loc[:,['ER Status By IHC','PR status by ihc','IHC-HER2']].isna()"
   ]
  },
  {
   "cell_type": "code",
   "execution_count": 20,
   "id": "inclusive-bradley",
   "metadata": {},
   "outputs": [
    {
     "data": {
      "text/plain": [
       "{0, 1, 2, 3}"
      ]
     },
     "execution_count": 20,
     "metadata": {},
     "output_type": "execute_result"
    }
   ],
   "source": [
    "## Count the number of missing receptors in each patient or sample\n",
    "clinical['num_receptor_missing'] = clinical.loc[:,['ER Status By IHC','PR status by ihc','IHC-HER2']].isna().sum(axis=1)\n",
    "set(clinical['num_receptor_missing'].to_list()) #few as 0, up to all 3 missing"
   ]
  },
  {
   "cell_type": "code",
   "execution_count": 21,
   "id": "authorized-dancing",
   "metadata": {},
   "outputs": [
    {
     "data": {
      "text/plain": [
       "178"
      ]
     },
     "execution_count": 21,
     "metadata": {},
     "output_type": "execute_result"
    }
   ],
   "source": [
    "## Begin by setting any patient with 1+ receptor missing has having Label=None\n",
    "clinical.loc[clinical['num_receptor_missing']>0, \"Label\"] = None\n",
    "sum(clinical['Label'].isna())"
   ]
  },
  {
   "cell_type": "code",
   "execution_count": 22,
   "id": "fluid-discharge",
   "metadata": {},
   "outputs": [
    {
     "data": {
      "text/plain": [
       "83"
      ]
     },
     "execution_count": 22,
     "metadata": {},
     "output_type": "execute_result"
    }
   ],
   "source": [
    "## Then, re-set Label=0 from NaN if at least 1 receptor is NOT negative\n",
    "label0_indicator = ['Positive','Intermediate','Equivocal']\n",
    "\n",
    "clinical.loc[clinical['ER Status By IHC'].isin(label0_indicator) | \\\n",
    "         clinical['PR status by ihc'].isin(label0_indicator) | \\\n",
    "         clinical['IHC-HER2'].isin(label0_indicator), \"Label\"] = 0\n",
    "\n",
    "sum(clinical['Label'].isna())"
   ]
  },
  {
   "cell_type": "code",
   "execution_count": 23,
   "id": "living-astrology",
   "metadata": {},
   "outputs": [],
   "source": [
    "## Finally, exclude label-less rows (patients)\n",
    "clinical = clinical.loc[~clinical['Label'].isna(), :]"
   ]
  },
  {
   "cell_type": "markdown",
   "id": "sophisticated-memory",
   "metadata": {},
   "source": [
    "### Make a summary table stratified by _Class Label=1 (True)_ vs. _Class Label=0 (False)_"
   ]
  },
  {
   "cell_type": "code",
   "execution_count": 24,
   "id": "floppy-garbage",
   "metadata": {},
   "outputs": [
    {
     "name": "stdout",
     "output_type": "stream",
     "text": [
      "Requirement already satisfied: tableone in /home/ec2-user/anaconda3/envs/pytorch_p36/lib/python3.6/site-packages (0.7.10)\n",
      "Requirement already satisfied: statsmodels>=0.8.0 in /home/ec2-user/anaconda3/envs/pytorch_p36/lib/python3.6/site-packages (from tableone) (0.12.2)\n",
      "Requirement already satisfied: numpy>=1.12.1 in /home/ec2-user/anaconda3/envs/pytorch_p36/lib/python3.6/site-packages (from tableone) (1.19.5)\n",
      "Requirement already satisfied: tabulate>=0.8.2 in /home/ec2-user/anaconda3/envs/pytorch_p36/lib/python3.6/site-packages (from tableone) (0.8.9)\n",
      "Requirement already satisfied: pandas>=0.22.0 in /home/ec2-user/anaconda3/envs/pytorch_p36/lib/python3.6/site-packages (from tableone) (1.1.5)\n",
      "Requirement already satisfied: scipy>=0.18.1 in /home/ec2-user/anaconda3/envs/pytorch_p36/lib/python3.6/site-packages (from tableone) (1.5.3)\n",
      "Requirement already satisfied: python-dateutil>=2.7.3 in /home/ec2-user/anaconda3/envs/pytorch_p36/lib/python3.6/site-packages (from pandas>=0.22.0->tableone) (2.8.1)\n",
      "Requirement already satisfied: pytz>=2017.2 in /home/ec2-user/anaconda3/envs/pytorch_p36/lib/python3.6/site-packages (from pandas>=0.22.0->tableone) (2021.1)\n",
      "Requirement already satisfied: six>=1.5 in /home/ec2-user/anaconda3/envs/pytorch_p36/lib/python3.6/site-packages (from python-dateutil>=2.7.3->pandas>=0.22.0->tableone) (1.15.0)\n",
      "Requirement already satisfied: patsy>=0.5 in /home/ec2-user/anaconda3/envs/pytorch_p36/lib/python3.6/site-packages (from statsmodels>=0.8.0->tableone) (0.5.1)\n"
     ]
    }
   ],
   "source": [
    "# Create “Table 1” summary statistics for a patient population\n",
    "!pip install tableone"
   ]
  },
  {
   "cell_type": "code",
   "execution_count": 25,
   "id": "welsh-mexico",
   "metadata": {},
   "outputs": [],
   "source": [
    "from tableone import TableOne\n",
    "\n",
    "selected_cols = ['Fraction Genome Altered','Diagnosis Age','num_receptor_missing',\n",
    "                 'Informed consent verified','Sex',\n",
    "                 'RaceWhite','Ethnicity Category']\n",
    "\n",
    "myTable1 = TableOne(\n",
    "    clinical,\n",
    "    columns=selected_cols, \n",
    "    categorical=selected_cols[3:],\n",
    "    groupby='Label'\n",
    ")"
   ]
  },
  {
   "cell_type": "code",
   "execution_count": 26,
   "id": "genetic-withdrawal",
   "metadata": {},
   "outputs": [
    {
     "name": "stdout",
     "output_type": "stream",
     "text": [
      "==================================  ======================  =========  ============  ===========  ===========\n",
      "..                                                          Missing    Overall       0.0          1.0\n",
      "==================================  ======================  =========  ============  ===========  ===========\n",
      "n                                                                      1002          886          116\n",
      "Fraction Genome Altered, mean (SD)                          16         0.3 (0.2)     0.3 (0.2)    0.4 (0.2)\n",
      "Diagnosis Age, mean (SD)                                    1          58.7 (13.1)   59.3 (13.1)  54.5 (12.0)\n",
      "num_receptor_missing, mean (SD)                             0          0.1 (0.3)     0.1 (0.3)    0.0 (0.0)\n",
      "Informed consent verified, n (%)    YES                     0          1002 (100.0)  886 (100.0)  116 (100.0)\n",
      "Sex, n (%)                          Female                  0          1002 (100.0)  886 (100.0)  116 (100.0)\n",
      "RaceWhite, n (%)                    0.0                     94         216 (23.8)    176 (22.0)   40 (36.7)\n",
      "..                                  1.0                                692 (76.2)    623 (78.0)   69 (63.3)\n",
      "Ethnicity Category, n (%)           HISPANIC OR LATINO      167        36 (4.3)      32 (4.4)     4 (3.9)\n",
      "..                                  NOT HISPANIC OR LATINO             799 (95.7)    700 (95.6)   99 (96.1)\n",
      "==================================  ======================  =========  ============  ===========  ===========\n"
     ]
    }
   ],
   "source": [
    "# Column 'True' or '1.0' means Class=1, i.e. the triple negative cancers\n",
    "print(myTable1.tabulate(tablefmt=\"rst\"))"
   ]
  },
  {
   "cell_type": "markdown",
   "id": "specified-beads",
   "metadata": {},
   "source": [
    "### Important: \n",
    "\n",
    "Even though the data is public, I made sure that 100\\% data points have informed consent, a basic ethical principle for Healthcare research"
   ]
  },
  {
   "cell_type": "markdown",
   "id": "approximate-vaccine",
   "metadata": {},
   "source": [
    "## Mutually subset the mRNA data & clinical annotation\n",
    "\n",
    "* Ensure all rows in the dataframe `genes` have a matching record in `clinical` (with class labels)\n",
    "* Make the order of data and class label the same\n",
    "* Export the subsetted, order-matched data to S3 bucket"
   ]
  },
  {
   "cell_type": "code",
   "execution_count": 27,
   "id": "closed-tract",
   "metadata": {},
   "outputs": [
    {
     "data": {
      "text/plain": [
       "999"
      ]
     },
     "execution_count": 27,
     "metadata": {},
     "output_type": "execute_result"
    }
   ],
   "source": [
    "sum(clinical['Sample ID'].isin(genes.index))"
   ]
  },
  {
   "cell_type": "code",
   "execution_count": 28,
   "id": "sexual-inclusion",
   "metadata": {},
   "outputs": [
    {
     "data": {
      "text/plain": [
       "999"
      ]
     },
     "execution_count": 28,
     "metadata": {},
     "output_type": "execute_result"
    }
   ],
   "source": [
    "sum(genes.index.isin(clinical['Sample ID']))"
   ]
  },
  {
   "cell_type": "code",
   "execution_count": 29,
   "id": "communist-sponsorship",
   "metadata": {},
   "outputs": [
    {
     "data": {
      "text/plain": [
       "(999, 14)"
      ]
     },
     "execution_count": 29,
     "metadata": {},
     "output_type": "execute_result"
    }
   ],
   "source": [
    "clinical = clinical.loc[clinical['Sample ID'].isin(genes.index), :]\n",
    "clinical.shape"
   ]
  },
  {
   "cell_type": "code",
   "execution_count": 30,
   "id": "animated-communications",
   "metadata": {},
   "outputs": [
    {
     "data": {
      "text/plain": [
       "(999, 20531)"
      ]
     },
     "execution_count": 30,
     "metadata": {},
     "output_type": "execute_result"
    }
   ],
   "source": [
    "genes = genes.loc[clinical['Sample ID'],:]\n",
    "genes.shape"
   ]
  },
  {
   "cell_type": "code",
   "execution_count": 31,
   "id": "modern-defensive",
   "metadata": {},
   "outputs": [
    {
     "data": {
      "text/plain": [
       "True"
      ]
     },
     "execution_count": 31,
     "metadata": {},
     "output_type": "execute_result"
    }
   ],
   "source": [
    "## Bonus: Confirm mutually subsetted dataframes are also matched\n",
    "all(genes.index == clinical['Sample ID'])\n",
    "\n",
    "## But even if True 100%, we want to check it every time to make sure there's no mismatch between features & labels"
   ]
  },
  {
   "cell_type": "markdown",
   "id": "checked-gather",
   "metadata": {},
   "source": [
    "Directly Pandas export to S3"
   ]
  },
  {
   "cell_type": "code",
   "execution_count": 32,
   "id": "dangerous-fighter",
   "metadata": {},
   "outputs": [],
   "source": [
    "def directS3Save(df, path_s3='df.csv', bucket=bucket):\n",
    "    from io import StringIO\n",
    "    import boto3\n",
    "\n",
    "    csv_buffer = StringIO()\n",
    "    df.to_csv(csv_buffer)\n",
    "    s3_resource = boto3.resource('s3')\n",
    "    s3_resource.Object(bucket, path_s3).put(Body=csv_buffer.getvalue())"
   ]
  },
  {
   "cell_type": "code",
   "execution_count": 33,
   "id": "mineral-discrimination",
   "metadata": {},
   "outputs": [],
   "source": [
    "directS3Save(clinical, \"assets/processed_data/clinical.csv\")"
   ]
  },
  {
   "cell_type": "code",
   "execution_count": 34,
   "id": "short-latex",
   "metadata": {},
   "outputs": [],
   "source": [
    "directS3Save(genes, \"assets/processed_data/genes.csv\")"
   ]
  },
  {
   "cell_type": "code",
   "execution_count": 36,
   "id": "cooked-arrangement",
   "metadata": {},
   "outputs": [],
   "source": [
    "directS3Save(gene_map, \"assets/processed_data/gene_name_map.csv\")"
   ]
  },
  {
   "cell_type": "code",
   "execution_count": 37,
   "id": "necessary-postcard",
   "metadata": {},
   "outputs": [
    {
     "name": "stdout",
     "output_type": "stream",
     "text": [
      "assets/\n",
      "assets/data/brca_tcga_clinical_data.tsv\n",
      "assets/data/data_RNA_Seq_v2_mRNA_median_all_sample_Zscores.txt\n",
      "assets/data/meta_RNA_Seq_v2_mRNA_median_all_sample_Zscores.txt\n",
      "assets/processed_data/\n",
      "assets/processed_data/clinical.csv\n",
      "assets/processed_data/gene_name_map.csv\n",
      "assets/processed_data/genes.csv\n",
      "sagemaker-scikit-learn-2021-04-22-02-22-29-590/debug-output/training_job_end.ts\n",
      "sagemaker-scikit-learn-2021-04-22-02-22-29-590/output/model.tar.gz\n",
      "sagemaker-scikit-learn-2021-04-22-02-22-29-590/profiler-output/framework/training_job_end.ts\n",
      "sagemaker-scikit-learn-2021-04-22-02-22-29-590/profiler-output/system/incremental/2021042202/1619058240.algo-1.json\n",
      "sagemaker-scikit-learn-2021-04-22-02-22-29-590/profiler-output/system/incremental/2021042202/1619058300.algo-1.json\n",
      "sagemaker-scikit-learn-2021-04-22-02-22-29-590/profiler-output/system/training_job_end.ts\n",
      "sagemaker-scikit-learn-2021-04-22-02-22-29-590/rule-output/ProfilerReport-1619058149/profiler-output/profiler-report.html\n",
      "sagemaker-scikit-learn-2021-04-22-02-22-29-590/rule-output/ProfilerReport-1619058149/profiler-output/profiler-report.ipynb\n",
      "sagemaker-scikit-learn-2021-04-22-02-22-29-590/rule-output/ProfilerReport-1619058149/profiler-output/profiler-reports/BatchSize.json\n",
      "sagemaker-scikit-learn-2021-04-22-02-22-29-590/rule-output/ProfilerReport-1619058149/profiler-output/profiler-reports/CPUBottleneck.json\n",
      "sagemaker-scikit-learn-2021-04-22-02-22-29-590/rule-output/ProfilerReport-1619058149/profiler-output/profiler-reports/Dataloader.json\n",
      "sagemaker-scikit-learn-2021-04-22-02-22-29-590/rule-output/ProfilerReport-1619058149/profiler-output/profiler-reports/GPUMemoryIncrease.json\n",
      "sagemaker-scikit-learn-2021-04-22-02-22-29-590/rule-output/ProfilerReport-1619058149/profiler-output/profiler-reports/IOBottleneck.json\n",
      "sagemaker-scikit-learn-2021-04-22-02-22-29-590/rule-output/ProfilerReport-1619058149/profiler-output/profiler-reports/LoadBalancing.json\n",
      "sagemaker-scikit-learn-2021-04-22-02-22-29-590/rule-output/ProfilerReport-1619058149/profiler-output/profiler-reports/LowGPUUtilization.json\n",
      "sagemaker-scikit-learn-2021-04-22-02-22-29-590/rule-output/ProfilerReport-1619058149/profiler-output/profiler-reports/MaxInitializationTime.json\n",
      "sagemaker-scikit-learn-2021-04-22-02-22-29-590/rule-output/ProfilerReport-1619058149/profiler-output/profiler-reports/OverallFrameworkMetrics.json\n",
      "sagemaker-scikit-learn-2021-04-22-02-22-29-590/rule-output/ProfilerReport-1619058149/profiler-output/profiler-reports/OverallSystemUsage.json\n",
      "sagemaker-scikit-learn-2021-04-22-02-22-29-590/rule-output/ProfilerReport-1619058149/profiler-output/profiler-reports/StepOutlier.json\n",
      "sagemaker-scikit-learn-2021-04-22-02-22-29-590/source/sourcedir.tar.gz\n",
      "sagemaker/iris-data/iris.csv\n"
     ]
    }
   ],
   "source": [
    "## Check whether direct export was successful:\n",
    "reveal_bucket()"
   ]
  },
  {
   "cell_type": "code",
   "execution_count": null,
   "id": "horizontal-yahoo",
   "metadata": {},
   "outputs": [],
   "source": []
  }
 ],
 "metadata": {
  "kernelspec": {
   "display_name": "conda_pytorch_p36",
   "language": "python",
   "name": "conda_pytorch_p36"
  },
  "language_info": {
   "codemirror_mode": {
    "name": "ipython",
    "version": 3
   },
   "file_extension": ".py",
   "mimetype": "text/x-python",
   "name": "python",
   "nbconvert_exporter": "python",
   "pygments_lexer": "ipython3",
   "version": "3.6.13"
  }
 },
 "nbformat": 4,
 "nbformat_minor": 5
}
