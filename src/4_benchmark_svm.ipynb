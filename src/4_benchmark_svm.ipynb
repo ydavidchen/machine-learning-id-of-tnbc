{
 "cells": [
  {
   "cell_type": "markdown",
   "id": "85b03007",
   "metadata": {},
   "source": [
    "# Project Notebook IV: Supervised Learning with SVM with Hyperparameter Tuning as Benchmark\n",
    "\n",
    "David Chen"
   ]
  },
  {
   "cell_type": "code",
   "execution_count": 1,
   "id": "caaf0c98",
   "metadata": {},
   "outputs": [],
   "source": [
    "import pandas as pd \n",
    "import numpy as np\n",
    "import os\n",
    "import matplotlib.pyplot as plt\n",
    "%matplotlib inline\n",
    "\n",
    "import sagemaker\n",
    "from sagemaker import get_execution_role\n",
    "from sagemaker.amazon.amazon_estimator import get_image_uri\n",
    "from sagemaker.predictor import csv_serializer\n",
    "import boto3"
   ]
  },
  {
   "cell_type": "code",
   "execution_count": 2,
   "id": "c94da1e6",
   "metadata": {},
   "outputs": [],
   "source": [
    "## My custom helper functions\n",
    "from helpers import *"
   ]
  },
  {
   "cell_type": "markdown",
   "id": "80f59cd1",
   "metadata": {},
   "source": [
    "## Step 1. Sagemaker Resources & Processed+FeatureSelected Data Saved in S3"
   ]
  },
  {
   "cell_type": "code",
   "execution_count": 3,
   "id": "54f80da7",
   "metadata": {},
   "outputs": [
    {
     "data": {
      "text/plain": [
       "<sagemaker.session.Session at 0x7f828559af28>"
      ]
     },
     "execution_count": 3,
     "metadata": {},
     "output_type": "execute_result"
    }
   ],
   "source": [
    "sagemaker_session = sagemaker.Session()\n",
    "sagemaker_session"
   ]
  },
  {
   "cell_type": "code",
   "execution_count": 4,
   "id": "45c79e7a",
   "metadata": {},
   "outputs": [
    {
     "data": {
      "text/plain": [
       "'arn:aws:iam::644307290749:role/service-role/AmazonSageMaker-ExecutionRole-20210527T073969'"
      ]
     },
     "execution_count": 4,
     "metadata": {},
     "output_type": "execute_result"
    }
   ],
   "source": [
    "role = sagemaker.get_execution_role()\n",
    "role"
   ]
  },
  {
   "cell_type": "code",
   "execution_count": 5,
   "id": "d44cb580",
   "metadata": {},
   "outputs": [
    {
     "data": {
      "text/plain": [
       "'sagemaker-us-west-1-644307290749'"
      ]
     },
     "execution_count": 5,
     "metadata": {},
     "output_type": "execute_result"
    }
   ],
   "source": [
    "bucket = sagemaker_session.default_bucket()\n",
    "bucket"
   ]
  },
  {
   "cell_type": "code",
   "execution_count": 6,
   "id": "38d92b23",
   "metadata": {},
   "outputs": [
    {
     "data": {
      "text/plain": [
       "(999, 33)"
      ]
     },
     "execution_count": 6,
     "metadata": {},
     "output_type": "execute_result"
    }
   ],
   "source": [
    "## Load processed, L1-selected features:\n",
    "genes = pd.read_csv(get_s3_uri(\"assets/processed_data/genes_l1_selected.csv\", bucket), index_col=0)\n",
    "genes.shape"
   ]
  },
  {
   "cell_type": "code",
   "execution_count": 7,
   "id": "25985fcb",
   "metadata": {},
   "outputs": [
    {
     "data": {
      "text/plain": [
       "(999, 15)"
      ]
     },
     "execution_count": 7,
     "metadata": {},
     "output_type": "execute_result"
    }
   ],
   "source": [
    "## Load processed patient annotations (with defined class label):\n",
    "clinical = pd.read_csv(get_s3_uri(\"assets/processed_data/clinical.csv\", bucket))\n",
    "clinical.index = clinical['Sample ID'].values\n",
    "clinical.shape"
   ]
  },
  {
   "cell_type": "code",
   "execution_count": 8,
   "id": "66597e56",
   "metadata": {},
   "outputs": [],
   "source": [
    "## Check to see if patient IDs in the 2 DataFrames match\n",
    "assert all(genes.index == clinical.index)"
   ]
  },
  {
   "cell_type": "code",
   "execution_count": 9,
   "id": "131e9afb",
   "metadata": {},
   "outputs": [],
   "source": [
    "y = clinical[\"Label\"].astype(int)"
   ]
  },
  {
   "cell_type": "markdown",
   "id": "06c6da1f",
   "metadata": {},
   "source": [
    "## Step 2. Train-val-test split for Hyperparameter Tuning\n",
    "\n",
    "Here, I will split the data into the following sets:\n",
    "\n",
    "* Training Set (for Hyperparameter Tuning)\n",
    "* Validation Set (Hyperparameter Tuning)\n",
    "* Test Set (no labels, just features)\n",
    "\n",
    "The approach will match that of the main model XGBoost as closely as possible, including:\n",
    "\n",
    "* Maximum 20 candidates for Random Search\n",
    "* Identical 100 test set examples"
   ]
  },
  {
   "cell_type": "code",
   "execution_count": 10,
   "id": "2fd0f6ef",
   "metadata": {},
   "outputs": [],
   "source": [
    "from sklearn.model_selection import train_test_split\n",
    "\n",
    "Xtrain, Xtest, ytrain, ytest = train_test_split(genes, y, test_size=100, random_state=42)"
   ]
  },
  {
   "cell_type": "code",
   "execution_count": 11,
   "id": "988e4581",
   "metadata": {},
   "outputs": [
    {
     "data": {
      "text/plain": [
       "array([0.56504525, 4.34347826])"
      ]
     },
     "execution_count": 11,
     "metadata": {},
     "output_type": "execute_result"
    }
   ],
   "source": [
    "## Check class weights: inverse proportion of prevalence\n",
    "## n_samples / (n_classes * np.bincount(y))\n",
    "## No need to manually specify weights in sklearn. Simply run class_weight='balanced'\n",
    "## See sklearn doc: scikit-learn.org/stable/modules/generated/sklearn.svm.SVC.html\n",
    "\n",
    "class_weights = len(y) / (2 * np.bincount(y))\n",
    "class_weights #balanced class weights"
   ]
  },
  {
   "cell_type": "code",
   "execution_count": 12,
   "id": "f41fed91",
   "metadata": {},
   "outputs": [
    {
     "data": {
      "text/plain": [
       "7.6869565217391305"
      ]
     },
     "execution_count": 12,
     "metadata": {},
     "output_type": "execute_result"
    }
   ],
   "source": [
    "## Relative positive class weight\n",
    "class_weights[1] / class_weights[0]"
   ]
  },
  {
   "cell_type": "code",
   "execution_count": 13,
   "id": "701808d3",
   "metadata": {},
   "outputs": [
    {
     "data": {
      "text/plain": [
       "7.6869565217391305"
      ]
     },
     "execution_count": 13,
     "metadata": {},
     "output_type": "execute_result"
    }
   ],
   "source": [
    "## Note that these weights equal to the format used by Sagemaker XGBoost\n",
    "## See doc: docs.aws.amazon.com/sagemaker/latest/dg/xgboost_hyperparameters.html\n",
    "sum(y == 0) / sum(y == 1)"
   ]
  },
  {
   "cell_type": "markdown",
   "id": "6568f093",
   "metadata": {},
   "source": [
    "## Step 3. Train SVM with Hyperparameter Tuning\n",
    "\n",
    "Use the same strategy here as in XGBoost"
   ]
  },
  {
   "cell_type": "code",
   "execution_count": 14,
   "id": "d3306a46",
   "metadata": {},
   "outputs": [],
   "source": [
    "from sklearn.svm import SVC\n",
    "from sklearn.model_selection import RandomizedSearchCV\n",
    "from sklearn import metrics\n",
    "from scipy import stats\n",
    "\n",
    "NUM_CANDIDATES = 20\n",
    "SVM_PARAMS = {'C': stats.expon(scale=100), 'gamma': stats.expon(scale=0.1)}"
   ]
  },
  {
   "cell_type": "code",
   "execution_count": 15,
   "id": "e917551a",
   "metadata": {},
   "outputs": [],
   "source": [
    "## Use hold-out validation instead of cross validation for Random Search\n",
    "## so that it matches with my strategy used for XGBoost\n",
    "## see https://stackoverflow.com/questions/62656660\n",
    "\n",
    "idx_validation = np.random.choice(range(Xtrain.shape[0]), size=100)\n",
    "idx_train = np.setdiff1d(range(Xtrain.shape[0]), idx_validation)"
   ]
  },
  {
   "cell_type": "code",
   "execution_count": 16,
   "id": "ace9ba32",
   "metadata": {},
   "outputs": [
    {
     "data": {
      "text/plain": [
       "RandomizedSearchCV(cv=[(array([  0,   1,   2,   4,   5,   6,   9,  10,  11,  12,  13,  14,  15,\n",
       "        16,  17,  18,  19,  20,  21,  22,  23,  24,  25,  26,  27,  28,\n",
       "        29,  30,  31,  32,  34,  35,  36,  37,  38,  39,  40,  42,  43,\n",
       "        44,  45,  46,  47,  48,  49,  50,  51,  52,  53,  54,  55,  58,\n",
       "        59,  60,  61,  63,  64,  65,  66,  67,  68,  69,  70,  71,  72,\n",
       "        73,  74,  75,  76,  77,  78,  80,  81,  82,  85,  86,  87,  88,\n",
       "        89,  90,  95,  96,  97,  98,  99, 100, 101, 102, 103, 104, 105,\n",
       "       106, 107, 108, 109, 110, 111, 112, 113, 114, 115, 116, 118...\n",
       "        93, 449, 535, 723, 264, 620,  57,   3, 629, 778, 413, 452, 845,\n",
       "       546, 308,  83, 734, 676, 801, 682, 635, 377, 542, 699, 159, 233,\n",
       "       837, 356,  79, 417, 726, 319,  33, 424, 221]))],\n",
       "                   estimator=SVC(class_weight='balanced', probability=True),\n",
       "                   n_iter=20,\n",
       "                   param_distributions={'C': <scipy.stats._distn_infrastructure.rv_frozen object at 0x7f8258487048>,\n",
       "                                        'gamma': <scipy.stats._distn_infrastructure.rv_frozen object at 0x7f8258487390>},\n",
       "                   scoring='roc_auc')"
      ]
     },
     "execution_count": 16,
     "metadata": {},
     "output_type": "execute_result"
    }
   ],
   "source": [
    "random_search = RandomizedSearchCV(\n",
    "    SVC(probability=True, kernel=\"rbf\", class_weight='balanced'), \n",
    "    param_distributions = SVM_PARAMS, \n",
    "    n_iter = NUM_CANDIDATES,\n",
    "    cv = [(idx_train, idx_validation)], #hold out validation\n",
    "    scoring = \"roc_auc\"\n",
    ")\n",
    "\n",
    "random_search.fit(Xtrain, ytrain)"
   ]
  },
  {
   "cell_type": "code",
   "execution_count": 17,
   "id": "98606c29",
   "metadata": {},
   "outputs": [
    {
     "data": {
      "text/html": [
       "<div>\n",
       "<style scoped>\n",
       "    .dataframe tbody tr th:only-of-type {\n",
       "        vertical-align: middle;\n",
       "    }\n",
       "\n",
       "    .dataframe tbody tr th {\n",
       "        vertical-align: top;\n",
       "    }\n",
       "\n",
       "    .dataframe thead th {\n",
       "        text-align: right;\n",
       "    }\n",
       "</style>\n",
       "<table border=\"1\" class=\"dataframe\">\n",
       "  <thead>\n",
       "    <tr style=\"text-align: right;\">\n",
       "      <th></th>\n",
       "      <th>Hyperparam C</th>\n",
       "      <th>Hyperparam gamma</th>\n",
       "      <th>mean_AUC_score</th>\n",
       "    </tr>\n",
       "  </thead>\n",
       "  <tbody>\n",
       "    <tr>\n",
       "      <th>17</th>\n",
       "      <td>124.999</td>\n",
       "      <td>0.00404266</td>\n",
       "      <td>0.907048</td>\n",
       "    </tr>\n",
       "    <tr>\n",
       "      <th>10</th>\n",
       "      <td>3.59612</td>\n",
       "      <td>0.0183093</td>\n",
       "      <td>0.893769</td>\n",
       "    </tr>\n",
       "    <tr>\n",
       "      <th>14</th>\n",
       "      <td>63.8943</td>\n",
       "      <td>0.0264297</td>\n",
       "      <td>0.893769</td>\n",
       "    </tr>\n",
       "    <tr>\n",
       "      <th>5</th>\n",
       "      <td>6.13966</td>\n",
       "      <td>0.00733784</td>\n",
       "      <td>0.892748</td>\n",
       "    </tr>\n",
       "    <tr>\n",
       "      <th>4</th>\n",
       "      <td>22.1138</td>\n",
       "      <td>0.049096</td>\n",
       "      <td>0.892748</td>\n",
       "    </tr>\n",
       "    <tr>\n",
       "      <th>7</th>\n",
       "      <td>116.441</td>\n",
       "      <td>0.0283545</td>\n",
       "      <td>0.892748</td>\n",
       "    </tr>\n",
       "    <tr>\n",
       "      <th>8</th>\n",
       "      <td>48.8439</td>\n",
       "      <td>0.0271356</td>\n",
       "      <td>0.892748</td>\n",
       "    </tr>\n",
       "    <tr>\n",
       "      <th>13</th>\n",
       "      <td>76.3303</td>\n",
       "      <td>0.0545992</td>\n",
       "      <td>0.890705</td>\n",
       "    </tr>\n",
       "    <tr>\n",
       "      <th>9</th>\n",
       "      <td>162.677</td>\n",
       "      <td>0.0449379</td>\n",
       "      <td>0.890705</td>\n",
       "    </tr>\n",
       "    <tr>\n",
       "      <th>0</th>\n",
       "      <td>4.847</td>\n",
       "      <td>0.0468231</td>\n",
       "      <td>0.890705</td>\n",
       "    </tr>\n",
       "    <tr>\n",
       "      <th>11</th>\n",
       "      <td>53.581</td>\n",
       "      <td>0.0586243</td>\n",
       "      <td>0.888662</td>\n",
       "    </tr>\n",
       "    <tr>\n",
       "      <th>19</th>\n",
       "      <td>39.247</td>\n",
       "      <td>0.0436294</td>\n",
       "      <td>0.888662</td>\n",
       "    </tr>\n",
       "    <tr>\n",
       "      <th>18</th>\n",
       "      <td>158.068</td>\n",
       "      <td>0.0341223</td>\n",
       "      <td>0.888662</td>\n",
       "    </tr>\n",
       "    <tr>\n",
       "      <th>6</th>\n",
       "      <td>84.2817</td>\n",
       "      <td>0.122182</td>\n",
       "      <td>0.882533</td>\n",
       "    </tr>\n",
       "    <tr>\n",
       "      <th>15</th>\n",
       "      <td>83.2102</td>\n",
       "      <td>0.220961</td>\n",
       "      <td>0.879469</td>\n",
       "    </tr>\n",
       "    <tr>\n",
       "      <th>12</th>\n",
       "      <td>44.6226</td>\n",
       "      <td>0.143844</td>\n",
       "      <td>0.878447</td>\n",
       "    </tr>\n",
       "    <tr>\n",
       "      <th>3</th>\n",
       "      <td>14.7071</td>\n",
       "      <td>0.193036</td>\n",
       "      <td>0.878447</td>\n",
       "    </tr>\n",
       "    <tr>\n",
       "      <th>2</th>\n",
       "      <td>144.577</td>\n",
       "      <td>0.209676</td>\n",
       "      <td>0.878447</td>\n",
       "    </tr>\n",
       "    <tr>\n",
       "      <th>1</th>\n",
       "      <td>9.42357</td>\n",
       "      <td>0.35</td>\n",
       "      <td>0.875383</td>\n",
       "    </tr>\n",
       "    <tr>\n",
       "      <th>16</th>\n",
       "      <td>24.7433</td>\n",
       "      <td>0.349818</td>\n",
       "      <td>0.875383</td>\n",
       "    </tr>\n",
       "  </tbody>\n",
       "</table>\n",
       "</div>"
      ],
      "text/plain": [
       "   Hyperparam C Hyperparam gamma  mean_AUC_score\n",
       "17      124.999       0.00404266        0.907048\n",
       "10      3.59612        0.0183093        0.893769\n",
       "14      63.8943        0.0264297        0.893769\n",
       "5       6.13966       0.00733784        0.892748\n",
       "4       22.1138         0.049096        0.892748\n",
       "7       116.441        0.0283545        0.892748\n",
       "8       48.8439        0.0271356        0.892748\n",
       "13      76.3303        0.0545992        0.890705\n",
       "9       162.677        0.0449379        0.890705\n",
       "0         4.847        0.0468231        0.890705\n",
       "11       53.581        0.0586243        0.888662\n",
       "19       39.247        0.0436294        0.888662\n",
       "18      158.068        0.0341223        0.888662\n",
       "6       84.2817         0.122182        0.882533\n",
       "15      83.2102         0.220961        0.879469\n",
       "12      44.6226         0.143844        0.878447\n",
       "3       14.7071         0.193036        0.878447\n",
       "2       144.577         0.209676        0.878447\n",
       "1       9.42357             0.35        0.875383\n",
       "16      24.7433         0.349818        0.875383"
      ]
     },
     "execution_count": 17,
     "metadata": {},
     "output_type": "execute_result"
    }
   ],
   "source": [
    "df_tune = pd.DataFrame({\n",
    "    \"Hyperparam C\": random_search.cv_results_[\"param_C\"],\n",
    "    \"Hyperparam gamma\": random_search.cv_results_[\"param_gamma\"],\n",
    "    \"mean_AUC_score\": random_search.cv_results_['mean_test_score']\n",
    "})\n",
    "\n",
    "df_tune.sort_values(by=\"mean_AUC_score\", ascending=False, inplace=True)\n",
    "df_tune"
   ]
  },
  {
   "cell_type": "code",
   "execution_count": 18,
   "id": "a2bfad7d",
   "metadata": {},
   "outputs": [],
   "source": [
    "## Export a copy\n",
    "directS3Save(df_tune, bucket, \"assets/svm-hpo-results.csv\")"
   ]
  },
  {
   "cell_type": "code",
   "execution_count": 19,
   "id": "40db7655",
   "metadata": {},
   "outputs": [
    {
     "data": {
      "text/plain": [
       "0.9070480081716036"
      ]
     },
     "execution_count": 19,
     "metadata": {},
     "output_type": "execute_result"
    }
   ],
   "source": [
    "random_search.best_score_ #double-check"
   ]
  },
  {
   "cell_type": "markdown",
   "id": "c9d2e39f",
   "metadata": {},
   "source": [
    "### Show evaluation metrics on the hold-out Test Set"
   ]
  },
  {
   "cell_type": "code",
   "execution_count": 20,
   "id": "70a17def",
   "metadata": {},
   "outputs": [],
   "source": [
    "## Retrieve the best model:\n",
    "svm = random_search.best_estimator_"
   ]
  },
  {
   "cell_type": "code",
   "execution_count": 21,
   "id": "42e0bbd4",
   "metadata": {},
   "outputs": [],
   "source": [
    "yTestScore = svm.predict_proba(Xtest)"
   ]
  },
  {
   "cell_type": "code",
   "execution_count": 22,
   "id": "7c84a3de",
   "metadata": {},
   "outputs": [],
   "source": [
    "yTestPred = svm.predict(Xtest)"
   ]
  },
  {
   "cell_type": "code",
   "execution_count": 23,
   "id": "07752f17",
   "metadata": {},
   "outputs": [
    {
     "name": "stdout",
     "output_type": "stream",
     "text": [
      "              precision    recall  f1-score   support\n",
      "\n",
      "           0       0.97      0.94      0.95        89\n",
      "           1       0.62      0.73      0.67        11\n",
      "\n",
      "    accuracy                           0.92       100\n",
      "   macro avg       0.79      0.84      0.81       100\n",
      "weighted avg       0.93      0.92      0.92       100\n",
      "\n"
     ]
    }
   ],
   "source": [
    "print(metrics.classification_report(ytest, yTestPred))"
   ]
  },
  {
   "cell_type": "code",
   "execution_count": 24,
   "id": "95bedb52",
   "metadata": {},
   "outputs": [
    {
     "data": {
      "text/plain": [
       "array([[84,  5],\n",
       "       [ 3,  8]])"
      ]
     },
     "execution_count": 24,
     "metadata": {},
     "output_type": "execute_result"
    }
   ],
   "source": [
    "## Confusion matrix\n",
    "metrics.confusion_matrix(ytest, yTestPred)"
   ]
  },
  {
   "cell_type": "code",
   "execution_count": 25,
   "id": "af4cc510",
   "metadata": {},
   "outputs": [
    {
     "data": {
      "image/png": "[encoded data removed]",
      "text/plain": [
       "<Figure size 600x400 with 1 Axes>"
      ]
     },
     "metadata": {
      "needs_background": "light"
     },
     "output_type": "display_data"
    }
   ],
   "source": [
    "plot_roc(ytest, yTestScore[:,1])"
   ]
  },
  {
   "cell_type": "code",
   "execution_count": null,
   "id": "6ee5dccb",
   "metadata": {},
   "outputs": [],
   "source": []
  }
 ],
 "metadata": {
  "kernelspec": {
   "display_name": "conda_pytorch_p36",
   "language": "python",
   "name": "conda_pytorch_p36"
  },
  "language_info": {
   "codemirror_mode": {
    "name": "ipython",
    "version": 3
   },
   "file_extension": ".py",
   "mimetype": "text/x-python",
   "name": "python",
   "nbconvert_exporter": "python",
   "pygments_lexer": "ipython3",
   "version": "3.6.13"
  }
 },
 "nbformat": 4,
 "nbformat_minor": 5
}
