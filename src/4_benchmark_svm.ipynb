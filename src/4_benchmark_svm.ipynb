{
 "cells": [
  {
   "cell_type": "markdown",
   "id": "cd0ff9a5",
   "metadata": {},
   "source": [
    "# Project Notebook IV: Supervised Learning with SVM with Hyperparameter Tuning as Benchmark\n",
    "\n",
    "David Chen"
   ]
  },
  {
   "cell_type": "code",
   "execution_count": 1,
   "id": "66eee5a0",
   "metadata": {},
   "outputs": [],
   "source": [
    "import pandas as pd \n",
    "import numpy as np\n",
    "import os\n",
    "import matplotlib.pyplot as plt\n",
    "%matplotlib inline\n",
    "\n",
    "import sagemaker\n",
    "from sagemaker import get_execution_role\n",
    "from sagemaker.amazon.amazon_estimator import get_image_uri\n",
    "from sagemaker.predictor import csv_serializer\n",
    "import boto3"
   ]
  },
  {
   "cell_type": "code",
   "execution_count": 2,
   "id": "0c963145",
   "metadata": {},
   "outputs": [],
   "source": [
    "## My custom helper functions\n",
    "from helpers import *"
   ]
  },
  {
   "cell_type": "markdown",
   "id": "27459af2",
   "metadata": {},
   "source": [
    "## Step 1. Sagemaker Resources & Processed+FeatureSelected Data Saved in S3"
   ]
  },
  {
   "cell_type": "code",
   "execution_count": 3,
   "id": "febdfa4d",
   "metadata": {},
   "outputs": [
    {
     "data": {
      "text/plain": [
       "<sagemaker.session.Session at 0x7fe6d821a1d0>"
      ]
     },
     "execution_count": 3,
     "metadata": {},
     "output_type": "execute_result"
    }
   ],
   "source": [
    "sagemaker_session = sagemaker.Session()\n",
    "sagemaker_session"
   ]
  },
  {
   "cell_type": "code",
   "execution_count": 4,
   "id": "91e2ae19",
   "metadata": {},
   "outputs": [
    {
     "data": {
      "text/plain": [
       "'arn:aws:iam::644307290749:role/service-role/AmazonSageMaker-ExecutionRole-20210527T073969'"
      ]
     },
     "execution_count": 4,
     "metadata": {},
     "output_type": "execute_result"
    }
   ],
   "source": [
    "role = sagemaker.get_execution_role()\n",
    "role"
   ]
  },
  {
   "cell_type": "code",
   "execution_count": 5,
   "id": "ddaaaa0b",
   "metadata": {},
   "outputs": [
    {
     "data": {
      "text/plain": [
       "'sagemaker-us-west-1-644307290749'"
      ]
     },
     "execution_count": 5,
     "metadata": {},
     "output_type": "execute_result"
    }
   ],
   "source": [
    "bucket = sagemaker_session.default_bucket()\n",
    "bucket"
   ]
  },
  {
   "cell_type": "code",
   "execution_count": 6,
   "id": "b29e356c",
   "metadata": {},
   "outputs": [
    {
     "data": {
      "text/plain": [
       "(999, 33)"
      ]
     },
     "execution_count": 6,
     "metadata": {},
     "output_type": "execute_result"
    }
   ],
   "source": [
    "## Load processed, L1-selected features:\n",
    "genes = pd.read_csv(get_s3_uri(\"assets/processed_data/genes_l1_selected.csv\", bucket), index_col=0)\n",
    "genes.shape"
   ]
  },
  {
   "cell_type": "code",
   "execution_count": 7,
   "id": "d312f378",
   "metadata": {},
   "outputs": [
    {
     "data": {
      "text/plain": [
       "(999, 15)"
      ]
     },
     "execution_count": 7,
     "metadata": {},
     "output_type": "execute_result"
    }
   ],
   "source": [
    "## Load processed patient annotations (with defined class label):\n",
    "clinical = pd.read_csv(get_s3_uri(\"assets/processed_data/clinical.csv\", bucket))\n",
    "clinical.index = clinical['Sample ID'].values\n",
    "clinical.shape"
   ]
  },
  {
   "cell_type": "code",
   "execution_count": 8,
   "id": "8ebcdc8a",
   "metadata": {},
   "outputs": [],
   "source": [
    "## Check to see if patient IDs in the 2 DataFrames match\n",
    "assert all(genes.index == clinical.index)"
   ]
  },
  {
   "cell_type": "markdown",
   "id": "f7e02441",
   "metadata": {},
   "source": [
    "## Step 2. Train-val-test split for Hyperparameter Tuning\n",
    "\n",
    "Here, I will split the data into the following sets:\n",
    "\n",
    "* Training Set (for Hyperparameter Tuning)\n",
    "* Validation Set (Hyperparameter Tuning)\n",
    "* Test Set (no labels, just features)\n",
    "\n",
    "The approach will match that of the main model XGBoost as closely as possible, including:\n",
    "\n",
    "* Maximum 20 candidates for Random Search\n",
    "* Identical 100 test set examples"
   ]
  },
  {
   "cell_type": "code",
   "execution_count": 9,
   "id": "aa1327d0",
   "metadata": {},
   "outputs": [],
   "source": [
    "from sklearn.model_selection import train_test_split\n",
    "\n",
    "Xtrain, Xtest, ytrain, ytest = train_test_split(\n",
    "    genes, \n",
    "    clinical[\"Label\"].astype(int), \n",
    "    test_size = 100, \n",
    "    random_state = 42 #reproducibility\n",
    ")"
   ]
  },
  {
   "cell_type": "markdown",
   "id": "da5f7047",
   "metadata": {},
   "source": [
    "## Step 3. Train SVM with Hyperparameter Tuning\n",
    "\n",
    "Use the same strategy here as in XGBoost"
   ]
  },
  {
   "cell_type": "code",
   "execution_count": 10,
   "id": "e49406d3",
   "metadata": {},
   "outputs": [],
   "source": [
    "from sklearn.svm import SVC\n",
    "from sklearn.model_selection import RandomizedSearchCV\n",
    "from sklearn import metrics\n",
    "from scipy import stats\n",
    "\n",
    "NUM_CANDIDATES = 20\n",
    "SVM_PARAMS = {'C': stats.expon(scale=100), 'gamma': stats.expon(scale=0.1)}"
   ]
  },
  {
   "cell_type": "code",
   "execution_count": 11,
   "id": "23868d19",
   "metadata": {},
   "outputs": [
    {
     "data": {
      "text/plain": [
       "RandomizedSearchCV(estimator=SVC(probability=True), n_iter=20,\n",
       "                   param_distributions={'C': <scipy.stats._distn_infrastructure.rv_frozen object at 0x7fe6a5df9550>,\n",
       "                                        'gamma': <scipy.stats._distn_infrastructure.rv_frozen object at 0x7fe6a5df9710>},\n",
       "                   scoring='roc_auc')"
      ]
     },
     "execution_count": 11,
     "metadata": {},
     "output_type": "execute_result"
    }
   ],
   "source": [
    "random_search = RandomizedSearchCV(\n",
    "    SVC(probability=True, kernel=\"rbf\"), \n",
    "    param_distributions = SVM_PARAMS, \n",
    "    n_iter = NUM_CANDIDATES,\n",
    "    scoring = \"roc_auc\"\n",
    ")\n",
    "\n",
    "random_search.fit(Xtrain, ytrain)"
   ]
  },
  {
   "cell_type": "code",
   "execution_count": 12,
   "id": "61b0ee4a",
   "metadata": {},
   "outputs": [
    {
     "data": {
      "text/html": [
       "<div>\n",
       "<style scoped>\n",
       "    .dataframe tbody tr th:only-of-type {\n",
       "        vertical-align: middle;\n",
       "    }\n",
       "\n",
       "    .dataframe tbody tr th {\n",
       "        vertical-align: top;\n",
       "    }\n",
       "\n",
       "    .dataframe thead th {\n",
       "        text-align: right;\n",
       "    }\n",
       "</style>\n",
       "<table border=\"1\" class=\"dataframe\">\n",
       "  <thead>\n",
       "    <tr style=\"text-align: right;\">\n",
       "      <th></th>\n",
       "      <th>Hyperparam C</th>\n",
       "      <th>Hyperparam gamma</th>\n",
       "      <th>mean_AUC_score</th>\n",
       "    </tr>\n",
       "  </thead>\n",
       "  <tbody>\n",
       "    <tr>\n",
       "      <th>12</th>\n",
       "      <td>442.138</td>\n",
       "      <td>0.0361924</td>\n",
       "      <td>0.960629</td>\n",
       "    </tr>\n",
       "    <tr>\n",
       "      <th>0</th>\n",
       "      <td>32.2037</td>\n",
       "      <td>0.0483688</td>\n",
       "      <td>0.960476</td>\n",
       "    </tr>\n",
       "    <tr>\n",
       "      <th>9</th>\n",
       "      <td>27.9179</td>\n",
       "      <td>0.0531682</td>\n",
       "      <td>0.960237</td>\n",
       "    </tr>\n",
       "    <tr>\n",
       "      <th>7</th>\n",
       "      <td>110.013</td>\n",
       "      <td>0.0328842</td>\n",
       "      <td>0.960069</td>\n",
       "    </tr>\n",
       "    <tr>\n",
       "      <th>5</th>\n",
       "      <td>421.374</td>\n",
       "      <td>0.0443586</td>\n",
       "      <td>0.960039</td>\n",
       "    </tr>\n",
       "    <tr>\n",
       "      <th>14</th>\n",
       "      <td>72.6956</td>\n",
       "      <td>0.0739451</td>\n",
       "      <td>0.958958</td>\n",
       "    </tr>\n",
       "    <tr>\n",
       "      <th>4</th>\n",
       "      <td>86.2225</td>\n",
       "      <td>0.0768489</td>\n",
       "      <td>0.958667</td>\n",
       "    </tr>\n",
       "    <tr>\n",
       "      <th>8</th>\n",
       "      <td>463.824</td>\n",
       "      <td>0.0220753</td>\n",
       "      <td>0.958461</td>\n",
       "    </tr>\n",
       "    <tr>\n",
       "      <th>2</th>\n",
       "      <td>287.732</td>\n",
       "      <td>0.0854741</td>\n",
       "      <td>0.958356</td>\n",
       "    </tr>\n",
       "    <tr>\n",
       "      <th>1</th>\n",
       "      <td>120.233</td>\n",
       "      <td>0.0184938</td>\n",
       "      <td>0.956972</td>\n",
       "    </tr>\n",
       "    <tr>\n",
       "      <th>6</th>\n",
       "      <td>0.657824</td>\n",
       "      <td>0.0253757</td>\n",
       "      <td>0.955412</td>\n",
       "    </tr>\n",
       "    <tr>\n",
       "      <th>10</th>\n",
       "      <td>52.2396</td>\n",
       "      <td>0.118055</td>\n",
       "      <td>0.955046</td>\n",
       "    </tr>\n",
       "    <tr>\n",
       "      <th>3</th>\n",
       "      <td>108.464</td>\n",
       "      <td>0.00507842</td>\n",
       "      <td>0.954265</td>\n",
       "    </tr>\n",
       "    <tr>\n",
       "      <th>16</th>\n",
       "      <td>101.144</td>\n",
       "      <td>0.148742</td>\n",
       "      <td>0.952761</td>\n",
       "    </tr>\n",
       "    <tr>\n",
       "      <th>19</th>\n",
       "      <td>56.6583</td>\n",
       "      <td>0.157955</td>\n",
       "      <td>0.952282</td>\n",
       "    </tr>\n",
       "    <tr>\n",
       "      <th>15</th>\n",
       "      <td>426.208</td>\n",
       "      <td>0.166362</td>\n",
       "      <td>0.951917</td>\n",
       "    </tr>\n",
       "    <tr>\n",
       "      <th>18</th>\n",
       "      <td>280.08</td>\n",
       "      <td>0.355652</td>\n",
       "      <td>0.948613</td>\n",
       "    </tr>\n",
       "    <tr>\n",
       "      <th>13</th>\n",
       "      <td>56.9242</td>\n",
       "      <td>0.303675</td>\n",
       "      <td>0.948317</td>\n",
       "    </tr>\n",
       "    <tr>\n",
       "      <th>17</th>\n",
       "      <td>70.6171</td>\n",
       "      <td>0.298404</td>\n",
       "      <td>0.947838</td>\n",
       "    </tr>\n",
       "    <tr>\n",
       "      <th>11</th>\n",
       "      <td>159.322</td>\n",
       "      <td>0.631265</td>\n",
       "      <td>0.945854</td>\n",
       "    </tr>\n",
       "  </tbody>\n",
       "</table>\n",
       "</div>"
      ],
      "text/plain": [
       "   Hyperparam C Hyperparam gamma  mean_AUC_score\n",
       "12      442.138        0.0361924        0.960629\n",
       "0       32.2037        0.0483688        0.960476\n",
       "9       27.9179        0.0531682        0.960237\n",
       "7       110.013        0.0328842        0.960069\n",
       "5       421.374        0.0443586        0.960039\n",
       "14      72.6956        0.0739451        0.958958\n",
       "4       86.2225        0.0768489        0.958667\n",
       "8       463.824        0.0220753        0.958461\n",
       "2       287.732        0.0854741        0.958356\n",
       "1       120.233        0.0184938        0.956972\n",
       "6      0.657824        0.0253757        0.955412\n",
       "10      52.2396         0.118055        0.955046\n",
       "3       108.464       0.00507842        0.954265\n",
       "16      101.144         0.148742        0.952761\n",
       "19      56.6583         0.157955        0.952282\n",
       "15      426.208         0.166362        0.951917\n",
       "18       280.08         0.355652        0.948613\n",
       "13      56.9242         0.303675        0.948317\n",
       "17      70.6171         0.298404        0.947838\n",
       "11      159.322         0.631265        0.945854"
      ]
     },
     "execution_count": 12,
     "metadata": {},
     "output_type": "execute_result"
    }
   ],
   "source": [
    "df_tune = pd.DataFrame({\n",
    "    \"Hyperparam C\": random_search.cv_results_[\"param_C\"],\n",
    "    \"Hyperparam gamma\": random_search.cv_results_[\"param_gamma\"],\n",
    "    \"mean_AUC_score\": random_search.cv_results_['mean_test_score']\n",
    "})\n",
    "\n",
    "df_tune.sort_values(by=\"mean_AUC_score\", ascending=False, inplace=True)\n",
    "df_tune"
   ]
  },
  {
   "cell_type": "code",
   "execution_count": 13,
   "id": "624297e3",
   "metadata": {},
   "outputs": [
    {
     "data": {
      "text/plain": [
       "0.96062893081761"
      ]
     },
     "execution_count": 13,
     "metadata": {},
     "output_type": "execute_result"
    }
   ],
   "source": [
    "random_search.best_score_ #double-check"
   ]
  },
  {
   "cell_type": "markdown",
   "id": "a8c18ca6",
   "metadata": {},
   "source": [
    "### Show evaluation metrics on the hold-out Test Set"
   ]
  },
  {
   "cell_type": "code",
   "execution_count": 14,
   "id": "0386547b",
   "metadata": {},
   "outputs": [],
   "source": [
    "## Retrieve the best model:\n",
    "svm = random_search.best_estimator_"
   ]
  },
  {
   "cell_type": "code",
   "execution_count": 15,
   "id": "d38071ee",
   "metadata": {},
   "outputs": [],
   "source": [
    "yTestScore = svm.predict_proba(Xtest)"
   ]
  },
  {
   "cell_type": "code",
   "execution_count": 16,
   "id": "51f8c6cd",
   "metadata": {},
   "outputs": [],
   "source": [
    "yTestPred = svm.predict(Xtest)"
   ]
  },
  {
   "cell_type": "code",
   "execution_count": 17,
   "id": "ca684a90",
   "metadata": {},
   "outputs": [
    {
     "name": "stdout",
     "output_type": "stream",
     "text": [
      "              precision    recall  f1-score   support\n",
      "\n",
      "           0       0.97      0.97      0.97        89\n",
      "           1       0.73      0.73      0.73        11\n",
      "\n",
      "    accuracy                           0.94       100\n",
      "   macro avg       0.85      0.85      0.85       100\n",
      "weighted avg       0.94      0.94      0.94       100\n",
      "\n"
     ]
    }
   ],
   "source": [
    "print(metrics.classification_report(ytest, yTestPred))"
   ]
  },
  {
   "cell_type": "code",
   "execution_count": 18,
   "id": "69dccc59",
   "metadata": {},
   "outputs": [
    {
     "data": {
      "text/plain": [
       "array([[86,  3],\n",
       "       [ 3,  8]])"
      ]
     },
     "execution_count": 18,
     "metadata": {},
     "output_type": "execute_result"
    }
   ],
   "source": [
    "## Confusion matrix\n",
    "metrics.confusion_matrix(ytest, yTestPred)"
   ]
  },
  {
   "cell_type": "code",
   "execution_count": 19,
   "id": "6ed688eb",
   "metadata": {},
   "outputs": [
    {
     "data": {
      "image/png": "[encoded data removed]",
      "text/plain": [
       "<Figure size 600x400 with 1 Axes>"
      ]
     },
     "metadata": {
      "needs_background": "light"
     },
     "output_type": "display_data"
    }
   ],
   "source": [
    "plot_roc(ytest, yTestScore[:,1])"
   ]
  },
  {
   "cell_type": "code",
   "execution_count": null,
   "id": "9b17e541",
   "metadata": {},
   "outputs": [],
   "source": []
  }
 ],
 "metadata": {
  "kernelspec": {
   "display_name": "conda_pytorch_p36",
   "language": "python",
   "name": "conda_pytorch_p36"
  },
  "language_info": {
   "codemirror_mode": {
    "name": "ipython",
    "version": 3
   },
   "file_extension": ".py",
   "mimetype": "text/x-python",
   "name": "python",
   "nbconvert_exporter": "python",
   "pygments_lexer": "ipython3",
   "version": "3.6.13"
  }
 },
 "nbformat": 4,
 "nbformat_minor": 5
}
