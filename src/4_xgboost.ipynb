{
 "cells": [
  {
   "cell_type": "markdown",
   "id": "b7985027",
   "metadata": {},
   "source": [
    "# Project Notebook IV: Supervised Learning with Sagemaker XGBoost with Hyperparameter Tuning\n",
    "\n",
    "David Chen"
   ]
  },
  {
   "cell_type": "code",
   "execution_count": 1,
   "id": "3c2daf3c",
   "metadata": {
    "scrolled": true
   },
   "outputs": [
    {
     "name": "stdout",
     "output_type": "stream",
     "text": [
      "Requirement already satisfied: sagemaker==1.72.0 in /home/ec2-user/anaconda3/envs/pytorch_p36/lib/python3.6/site-packages (1.72.0)\n",
      "Requirement already satisfied: boto3>=1.14.12 in /home/ec2-user/anaconda3/envs/pytorch_p36/lib/python3.6/site-packages (from sagemaker==1.72.0) (1.17.76)\n",
      "Requirement already satisfied: smdebug-rulesconfig==0.1.4 in /home/ec2-user/anaconda3/envs/pytorch_p36/lib/python3.6/site-packages (from sagemaker==1.72.0) (0.1.4)\n",
      "Requirement already satisfied: importlib-metadata>=1.4.0 in /home/ec2-user/anaconda3/envs/pytorch_p36/lib/python3.6/site-packages (from sagemaker==1.72.0) (3.7.0)\n",
      "Requirement already satisfied: scipy>=0.19.0 in /home/ec2-user/anaconda3/envs/pytorch_p36/lib/python3.6/site-packages (from sagemaker==1.72.0) (1.5.3)\n",
      "Requirement already satisfied: numpy>=1.9.0 in /home/ec2-user/anaconda3/envs/pytorch_p36/lib/python3.6/site-packages (from sagemaker==1.72.0) (1.19.5)\n",
      "Requirement already satisfied: packaging>=20.0 in /home/ec2-user/anaconda3/envs/pytorch_p36/lib/python3.6/site-packages (from sagemaker==1.72.0) (20.9)\n",
      "Requirement already satisfied: protobuf3-to-dict>=0.1.5 in /home/ec2-user/anaconda3/envs/pytorch_p36/lib/python3.6/site-packages (from sagemaker==1.72.0) (0.1.5)\n",
      "Requirement already satisfied: protobuf>=3.1 in /home/ec2-user/anaconda3/envs/pytorch_p36/lib/python3.6/site-packages (from sagemaker==1.72.0) (3.15.2)\n",
      "Requirement already satisfied: jmespath<1.0.0,>=0.7.1 in /home/ec2-user/anaconda3/envs/pytorch_p36/lib/python3.6/site-packages (from boto3>=1.14.12->sagemaker==1.72.0) (0.10.0)\n",
      "Requirement already satisfied: s3transfer<0.5.0,>=0.4.0 in /home/ec2-user/anaconda3/envs/pytorch_p36/lib/python3.6/site-packages (from boto3>=1.14.12->sagemaker==1.72.0) (0.4.2)\n",
      "Requirement already satisfied: botocore<1.21.0,>=1.20.76 in /home/ec2-user/anaconda3/envs/pytorch_p36/lib/python3.6/site-packages (from boto3>=1.14.12->sagemaker==1.72.0) (1.20.76)\n",
      "Requirement already satisfied: urllib3<1.27,>=1.25.4 in /home/ec2-user/anaconda3/envs/pytorch_p36/lib/python3.6/site-packages (from botocore<1.21.0,>=1.20.76->boto3>=1.14.12->sagemaker==1.72.0) (1.26.4)\n",
      "Requirement already satisfied: python-dateutil<3.0.0,>=2.1 in /home/ec2-user/anaconda3/envs/pytorch_p36/lib/python3.6/site-packages (from botocore<1.21.0,>=1.20.76->boto3>=1.14.12->sagemaker==1.72.0) (2.8.1)\n",
      "Requirement already satisfied: typing-extensions>=3.6.4 in /home/ec2-user/anaconda3/envs/pytorch_p36/lib/python3.6/site-packages (from importlib-metadata>=1.4.0->sagemaker==1.72.0) (3.7.4.3)\n",
      "Requirement already satisfied: zipp>=0.5 in /home/ec2-user/anaconda3/envs/pytorch_p36/lib/python3.6/site-packages (from importlib-metadata>=1.4.0->sagemaker==1.72.0) (3.4.0)\n",
      "Requirement already satisfied: pyparsing>=2.0.2 in /home/ec2-user/anaconda3/envs/pytorch_p36/lib/python3.6/site-packages (from packaging>=20.0->sagemaker==1.72.0) (2.4.7)\n",
      "Requirement already satisfied: six>=1.9 in /home/ec2-user/anaconda3/envs/pytorch_p36/lib/python3.6/site-packages (from protobuf>=3.1->sagemaker==1.72.0) (1.15.0)\n"
     ]
    }
   ],
   "source": [
    "!pip install sagemaker==1.72.0"
   ]
  },
  {
   "cell_type": "code",
   "execution_count": 2,
   "id": "f0b33b7e",
   "metadata": {},
   "outputs": [],
   "source": [
    "import pandas as pd \n",
    "import numpy as np\n",
    "import os\n",
    "import matplotlib.pyplot as plt\n",
    "%matplotlib inline\n",
    "\n",
    "import sagemaker\n",
    "from sagemaker import get_execution_role\n",
    "from sagemaker.amazon.amazon_estimator import get_image_uri\n",
    "from sagemaker.predictor import csv_serializer\n",
    "import boto3\n",
    "\n",
    "## My custom helper functions\n",
    "from helpers import *"
   ]
  },
  {
   "cell_type": "markdown",
   "id": "6e6e970d",
   "metadata": {},
   "source": [
    "## Step 1. Sagemaker Resources & Processed+FeatureSelected Data Saved in S3"
   ]
  },
  {
   "cell_type": "code",
   "execution_count": 3,
   "id": "fea30e52",
   "metadata": {},
   "outputs": [
    {
     "data": {
      "text/plain": [
       "<sagemaker.session.Session at 0x7fd39c4d10b8>"
      ]
     },
     "execution_count": 3,
     "metadata": {},
     "output_type": "execute_result"
    }
   ],
   "source": [
    "sagemaker_session = sagemaker.Session()\n",
    "sagemaker_session"
   ]
  },
  {
   "cell_type": "code",
   "execution_count": 4,
   "id": "51f01570",
   "metadata": {},
   "outputs": [
    {
     "data": {
      "text/plain": [
       "'arn:aws:iam::644307290749:role/service-role/AmazonSageMaker-ExecutionRole-20210527T073969'"
      ]
     },
     "execution_count": 4,
     "metadata": {},
     "output_type": "execute_result"
    }
   ],
   "source": [
    "role = sagemaker.get_execution_role()\n",
    "role"
   ]
  },
  {
   "cell_type": "code",
   "execution_count": 5,
   "id": "3446cfbf",
   "metadata": {},
   "outputs": [
    {
     "data": {
      "text/plain": [
       "'sagemaker-us-west-1-644307290749'"
      ]
     },
     "execution_count": 5,
     "metadata": {},
     "output_type": "execute_result"
    }
   ],
   "source": [
    "bucket = sagemaker_session.default_bucket()\n",
    "bucket"
   ]
  },
  {
   "cell_type": "code",
   "execution_count": 6,
   "id": "365f7a7e",
   "metadata": {},
   "outputs": [
    {
     "data": {
      "text/plain": [
       "(999, 33)"
      ]
     },
     "execution_count": 6,
     "metadata": {},
     "output_type": "execute_result"
    }
   ],
   "source": [
    "## Load processed features:\n",
    "genes = pd.read_csv(get_s3_uri(\"assets/processed_data/genes_l1_selected.csv\", bucket), index_col=0)\n",
    "genes.shape"
   ]
  },
  {
   "cell_type": "code",
   "execution_count": 7,
   "id": "b082be1e",
   "metadata": {},
   "outputs": [
    {
     "data": {
      "text/plain": [
       "(999, 15)"
      ]
     },
     "execution_count": 7,
     "metadata": {},
     "output_type": "execute_result"
    }
   ],
   "source": [
    "## Load processed patient annotations (with defined class label):\n",
    "clinical = pd.read_csv(get_s3_uri(\"assets/processed_data/clinical.csv\", bucket))\n",
    "clinical.shape"
   ]
  },
  {
   "cell_type": "code",
   "execution_count": 8,
   "id": "d93b7962",
   "metadata": {},
   "outputs": [],
   "source": [
    "clinical.index = clinical['Sample ID'].values"
   ]
  },
  {
   "cell_type": "code",
   "execution_count": 9,
   "id": "13f4b613",
   "metadata": {},
   "outputs": [
    {
     "data": {
      "text/plain": [
       "True"
      ]
     },
     "execution_count": 9,
     "metadata": {},
     "output_type": "execute_result"
    }
   ],
   "source": [
    "## Check to see if patient IDs in the 2 DataFrames match\n",
    "all(genes.index == clinical.index)"
   ]
  },
  {
   "cell_type": "markdown",
   "id": "4b7db89d",
   "metadata": {},
   "source": [
    "## Step 2. Train-val-test split & save for Sagemaker XGBoost\n",
    "\n",
    "### Perform Train-val-test split"
   ]
  },
  {
   "cell_type": "code",
   "execution_count": 10,
   "id": "b57058aa",
   "metadata": {},
   "outputs": [],
   "source": [
    "from sklearn.model_selection import train_test_split\n",
    "\n",
    "SIZE_VAL_TEST = 100 #set aside 100 observations for validation & testing\n",
    "\n",
    "## Run sklearn helper 1st time to split out the test set:\n",
    "## The hold-out test set is NEVER used until the very end\n",
    "Xtrain, Xtest, ytrain, ytest = train_test_split(\n",
    "    genes, \n",
    "    clinical[\"Label\"].astype(int), \n",
    "    test_size=SIZE_VAL_TEST, \n",
    "    random_state=42\n",
    ")"
   ]
  },
  {
   "cell_type": "code",
   "execution_count": 11,
   "id": "d8cedb1c",
   "metadata": {},
   "outputs": [],
   "source": [
    "## Run sklearn helper again to split out a validation set for optimization\n",
    "Xtrain, Xval, ytrain, yval = train_test_split(Xtrain, ytrain.astype(int), test_size=SIZE_VAL_TEST)"
   ]
  },
  {
   "cell_type": "markdown",
   "id": "2be1eb2f",
   "metadata": {},
   "source": [
    "### Concatenate class label (y) & features (X) for each set and directly export to S3 bucket\n",
    "\n",
    "Concatenation is required ONLY for training and validation set but NOT for the test set."
   ]
  },
  {
   "cell_type": "code",
   "execution_count": 12,
   "id": "683799ed",
   "metadata": {},
   "outputs": [],
   "source": [
    "directS3Save(pd.concat([ytrain, Xtrain], axis=1), bucket, \"assets/tnbc-xgboost/train.csv\", False, False)"
   ]
  },
  {
   "cell_type": "code",
   "execution_count": 13,
   "id": "2de43d16",
   "metadata": {},
   "outputs": [],
   "source": [
    "directS3Save(pd.concat([yval, Xval], axis=1), bucket, \"assets/tnbc-xgboost/validation.csv\", False, False)"
   ]
  },
  {
   "cell_type": "code",
   "execution_count": 14,
   "id": "549db903",
   "metadata": {},
   "outputs": [],
   "source": [
    "## For Test set, do NOT concatenate\n",
    "directS3Save(Xtest, bucket, \"assets/tnbc-xgboost/test.csv\", False, False)"
   ]
  },
  {
   "cell_type": "markdown",
   "id": "c60421a2",
   "metadata": {},
   "source": [
    "## Step 3. Train Sagemaker XGBoost"
   ]
  },
  {
   "cell_type": "code",
   "execution_count": 15,
   "id": "b8869629",
   "metadata": {},
   "outputs": [
    {
     "name": "stderr",
     "output_type": "stream",
     "text": [
      "'get_image_uri' method will be deprecated in favor of 'ImageURIProvider' class in SageMaker Python SDK v2.\n",
      "There is a more up to date SageMaker XGBoost image. To use the newer image, please set 'repo_version'='1.0-1'. For example:\n",
      "\tget_image_uri(region, 'xgboost', '1.0-1').\n"
     ]
    },
    {
     "data": {
      "text/plain": [
       "'632365934929.dkr.ecr.us-west-1.amazonaws.com/xgboost:1'"
      ]
     },
     "execution_count": 15,
     "metadata": {},
     "output_type": "execute_result"
    }
   ],
   "source": [
    "container = get_image_uri(sagemaker_session.boto_region_name, 'xgboost')\n",
    "container"
   ]
  },
  {
   "cell_type": "code",
   "execution_count": 16,
   "id": "ba835623",
   "metadata": {},
   "outputs": [],
   "source": [
    "prefix = \"tnbc-xgboost\""
   ]
  },
  {
   "cell_type": "code",
   "execution_count": 17,
   "id": "2e582a7d",
   "metadata": {},
   "outputs": [
    {
     "name": "stderr",
     "output_type": "stream",
     "text": [
      "Parameter image_name will be renamed to image_uri in SageMaker Python SDK v2.\n"
     ]
    }
   ],
   "source": [
    "xgb = sagemaker.estimator.Estimator(\n",
    "    container, \n",
    "    role,\n",
    "    train_instance_count = 1,\n",
    "    train_instance_type = 'ml.m4.xlarge',\n",
    "    output_path = 's3://{}/{}/output'.format(bucket, prefix),\n",
    "    sagemaker_session = sagemaker_session\n",
    ")"
   ]
  },
  {
   "cell_type": "code",
   "execution_count": 18,
   "id": "c70cd5cd",
   "metadata": {},
   "outputs": [],
   "source": [
    "xgb.set_hyperparameters(\n",
    "    max_depth = 5,\n",
    "    eta = 0.2,\n",
    "    gamma = 4,\n",
    "    min_child_weight = 6,\n",
    "    subsample = 0.8,\n",
    "    objective = 'binary:logistic',\n",
    "    early_stopping_rounds = 10,\n",
    "    num_round = 100\n",
    ")"
   ]
  },
  {
   "cell_type": "code",
   "execution_count": 19,
   "id": "c72fdf9b",
   "metadata": {},
   "outputs": [
    {
     "name": "stderr",
     "output_type": "stream",
     "text": [
      "'s3_input' class will be renamed to 'TrainingInput' in SageMaker Python SDK v2.\n"
     ]
    },
    {
     "data": {
      "text/plain": [
       "<sagemaker.inputs.s3_input at 0x7fd36a32cf98>"
      ]
     },
     "execution_count": 19,
     "metadata": {},
     "output_type": "execute_result"
    }
   ],
   "source": [
    "s3_input_train = sagemaker.s3_input(\n",
    "    s3_data = get_s3_uri(os.path.join(\"assets\",prefix,\"train.csv\"), bucket), \n",
    "    content_type = 'csv'\n",
    ")\n",
    "\n",
    "s3_input_train"
   ]
  },
  {
   "cell_type": "code",
   "execution_count": 20,
   "id": "f7ae0d93",
   "metadata": {},
   "outputs": [
    {
     "name": "stderr",
     "output_type": "stream",
     "text": [
      "'s3_input' class will be renamed to 'TrainingInput' in SageMaker Python SDK v2.\n"
     ]
    },
    {
     "data": {
      "text/plain": [
       "<sagemaker.inputs.s3_input at 0x7fd36a32ce80>"
      ]
     },
     "execution_count": 20,
     "metadata": {},
     "output_type": "execute_result"
    }
   ],
   "source": [
    "s3_input_val = sagemaker.s3_input(\n",
    "    s3_data = get_s3_uri(os.path.join(\"assets\",prefix,\"validation.csv\"), bucket), \n",
    "    content_type = 'csv'\n",
    ")\n",
    "\n",
    "s3_input_val"
   ]
  },
  {
   "cell_type": "code",
   "execution_count": 21,
   "id": "6e226368",
   "metadata": {
    "scrolled": true
   },
   "outputs": [
    {
     "name": "stdout",
     "output_type": "stream",
     "text": [
      "2021-05-28 03:22:02 Starting - Starting the training job...\n",
      "2021-05-28 03:22:04 Starting - Launching requested ML instances......\n",
      "2021-05-28 03:23:11 Starting - Preparing the instances for training......\n",
      "2021-05-28 03:24:25 Downloading - Downloading input data...\n",
      "2021-05-28 03:25:00 Training - Training image download completed. Training in progress..\u001b[34mArguments: train\u001b[0m\n",
      "\u001b[34m[2021-05-28:03:25:01:INFO] Running standalone xgboost training.\u001b[0m\n",
      "\u001b[34m[2021-05-28:03:25:01:INFO] File size need to be processed in the node: 0.23mb. Available memory size in the node: 8422.4mb\u001b[0m\n",
      "\u001b[34m[2021-05-28:03:25:01:INFO] Determined delimiter of CSV input is ','\u001b[0m\n",
      "\u001b[34m[03:25:01] S3DistributionType set as FullyReplicated\u001b[0m\n",
      "\u001b[34m[03:25:01] 799x33 matrix with 26367 entries loaded from /opt/ml/input/data/train?format=csv&label_column=0&delimiter=,\u001b[0m\n",
      "\u001b[34m[2021-05-28:03:25:01:INFO] Determined delimiter of CSV input is ','\u001b[0m\n",
      "\u001b[34m[03:25:01] S3DistributionType set as FullyReplicated\u001b[0m\n",
      "\u001b[34m[03:25:01] 100x33 matrix with 3300 entries loaded from /opt/ml/input/data/validation?format=csv&label_column=0&delimiter=,\u001b[0m\n",
      "\u001b[34m[03:25:01] src/tree/updater_prune.cc:74: tree pruning end, 1 roots, 8 extra nodes, 0 pruned nodes, max_depth=3\u001b[0m\n",
      "\u001b[34m[0]#011train-error:0.062578#011validation-error:0.09\u001b[0m\n",
      "\u001b[34mMultiple eval metrics have been passed: 'validation-error' will be used for early stopping.\n",
      "\u001b[0m\n",
      "\u001b[34mWill train until validation-error hasn't improved in 10 rounds.\u001b[0m\n",
      "\u001b[34m[03:25:01] src/tree/updater_prune.cc:74: tree pruning end, 1 roots, 6 extra nodes, 4 pruned nodes, max_depth=2\u001b[0m\n",
      "\u001b[34m[1]#011train-error:0.047559#011validation-error:0.11\u001b[0m\n",
      "\u001b[34m[03:25:01] src/tree/updater_prune.cc:74: tree pruning end, 1 roots, 6 extra nodes, 4 pruned nodes, max_depth=3\u001b[0m\n",
      "\u001b[34m[2]#011train-error:0.043805#011validation-error:0.11\u001b[0m\n",
      "\u001b[34m[03:25:01] src/tree/updater_prune.cc:74: tree pruning end, 1 roots, 6 extra nodes, 4 pruned nodes, max_depth=3\u001b[0m\n",
      "\u001b[34m[3]#011train-error:0.037547#011validation-error:0.13\u001b[0m\n",
      "\u001b[34m[03:25:01] src/tree/updater_prune.cc:74: tree pruning end, 1 roots, 4 extra nodes, 2 pruned nodes, max_depth=2\u001b[0m\n",
      "\u001b[34m[4]#011train-error:0.036295#011validation-error:0.09\u001b[0m\n",
      "\u001b[34m[03:25:01] src/tree/updater_prune.cc:74: tree pruning end, 1 roots, 8 extra nodes, 2 pruned nodes, max_depth=4\u001b[0m\n",
      "\u001b[34m[5]#011train-error:0.033792#011validation-error:0.1\u001b[0m\n",
      "\u001b[34m[03:25:01] src/tree/updater_prune.cc:74: tree pruning end, 1 roots, 6 extra nodes, 0 pruned nodes, max_depth=3\u001b[0m\n",
      "\u001b[34m[6]#011train-error:0.028786#011validation-error:0.07\u001b[0m\n",
      "\u001b[34m[03:25:01] src/tree/updater_prune.cc:74: tree pruning end, 1 roots, 6 extra nodes, 2 pruned nodes, max_depth=3\u001b[0m\n",
      "\u001b[34m[7]#011train-error:0.027534#011validation-error:0.07\u001b[0m\n",
      "\u001b[34m[03:25:01] src/tree/updater_prune.cc:74: tree pruning end, 1 roots, 4 extra nodes, 4 pruned nodes, max_depth=2\u001b[0m\n",
      "\u001b[34m[8]#011train-error:0.030038#011validation-error:0.07\u001b[0m\n",
      "\u001b[34m[03:25:01] src/tree/updater_prune.cc:74: tree pruning end, 1 roots, 6 extra nodes, 2 pruned nodes, max_depth=2\u001b[0m\n",
      "\u001b[34m[9]#011train-error:0.025031#011validation-error:0.07\u001b[0m\n",
      "\u001b[34m[03:25:01] src/tree/updater_prune.cc:74: tree pruning end, 1 roots, 6 extra nodes, 2 pruned nodes, max_depth=3\u001b[0m\n",
      "\u001b[34m[10]#011train-error:0.021277#011validation-error:0.07\u001b[0m\n",
      "\u001b[34m[03:25:01] src/tree/updater_prune.cc:74: tree pruning end, 1 roots, 4 extra nodes, 4 pruned nodes, max_depth=2\u001b[0m\n",
      "\u001b[34m[11]#011train-error:0.02378#011validation-error:0.07\u001b[0m\n",
      "\u001b[34m[03:25:01] src/tree/updater_prune.cc:74: tree pruning end, 1 roots, 4 extra nodes, 4 pruned nodes, max_depth=2\u001b[0m\n",
      "\u001b[34m[12]#011train-error:0.021277#011validation-error:0.07\u001b[0m\n",
      "\u001b[34m[03:25:01] src/tree/updater_prune.cc:74: tree pruning end, 1 roots, 4 extra nodes, 4 pruned nodes, max_depth=2\u001b[0m\n",
      "\u001b[34m[13]#011train-error:0.022528#011validation-error:0.07\u001b[0m\n",
      "\u001b[34m[03:25:01] src/tree/updater_prune.cc:74: tree pruning end, 1 roots, 6 extra nodes, 0 pruned nodes, max_depth=3\u001b[0m\n",
      "\u001b[34m[14]#011train-error:0.027534#011validation-error:0.08\u001b[0m\n",
      "\u001b[34m[03:25:01] src/tree/updater_prune.cc:74: tree pruning end, 1 roots, 4 extra nodes, 0 pruned nodes, max_depth=2\u001b[0m\n",
      "\u001b[34m[15]#011train-error:0.026283#011validation-error:0.08\u001b[0m\n",
      "\u001b[34m[03:25:01] src/tree/updater_prune.cc:74: tree pruning end, 1 roots, 6 extra nodes, 0 pruned nodes, max_depth=2\u001b[0m\n",
      "\u001b[34m[16]#011train-error:0.021277#011validation-error:0.07\u001b[0m\n",
      "\u001b[34mStopping. Best iteration:\u001b[0m\n",
      "\u001b[34m[6]#011train-error:0.028786#011validation-error:0.07\n",
      "\u001b[0m\n",
      "\n",
      "2021-05-28 03:25:13 Uploading - Uploading generated training model\n",
      "2021-05-28 03:25:13 Completed - Training job completed\n",
      "Training seconds: 48\n",
      "Billable seconds: 48\n"
     ]
    }
   ],
   "source": [
    "xgb.fit({'train': s3_input_train, 'validation': s3_input_val})"
   ]
  },
  {
   "cell_type": "markdown",
   "id": "830b83d2",
   "metadata": {},
   "source": [
    "## Step 4. Evaluate the Trained Model\n",
    "\n",
    "### Apply trained model to the hold-out test set"
   ]
  },
  {
   "cell_type": "code",
   "execution_count": 22,
   "id": "b174602a",
   "metadata": {},
   "outputs": [
    {
     "name": "stderr",
     "output_type": "stream",
     "text": [
      "Parameter image will be renamed to image_uri in SageMaker Python SDK v2.\n"
     ]
    }
   ],
   "source": [
    "xgb_transformer = xgb.transformer(instance_count=1, instance_type='ml.m4.xlarge')"
   ]
  },
  {
   "cell_type": "code",
   "execution_count": 23,
   "id": "b6afd5c9",
   "metadata": {},
   "outputs": [],
   "source": [
    "## The syntax for inference is unique from training-validation:\n",
    "xgb_transformer.transform(\n",
    "    get_s3_uri(os.path.join(\"assets\",prefix,\"test.csv\"), bucket),\n",
    "    content_type = 'text/csv', \n",
    "    split_type = 'Line'\n",
    ")"
   ]
  },
  {
   "cell_type": "code",
   "execution_count": 24,
   "id": "7a620350",
   "metadata": {
    "scrolled": true
   },
   "outputs": [
    {
     "name": "stdout",
     "output_type": "stream",
     "text": [
      "...........................\n",
      "\u001b[34mArguments: serve\u001b[0m\n",
      "\u001b[34m[2021-05-28 03:32:57 +0000] [1] [INFO] Starting gunicorn 19.9.0\u001b[0m\n",
      "\u001b[34m[2021-05-28 03:32:57 +0000] [1] [INFO] Listening at: http://0.0.0.0:8080 (1)\u001b[0m\n",
      "\u001b[34m[2021-05-28 03:32:57 +0000] [1] [INFO] Using worker: gevent\u001b[0m\n",
      "\u001b[34m[2021-05-28 03:32:57 +0000] [21] [INFO] Booting worker with pid: 21\u001b[0m\n",
      "\u001b[34m[2021-05-28 03:32:57 +0000] [22] [INFO] Booting worker with pid: 22\u001b[0m\n",
      "\u001b[34m/opt/amazon/lib/python3.7/site-packages/gunicorn/workers/ggevent.py:65: MonkeyPatchWarning: Monkey-patching ssl after ssl has already been imported may lead to errors, including RecursionError on Python 3.6. It may also silently lead to incorrect behaviour on Python 3.7. Please monkey-patch earlier. See https://github.com/gevent/gevent/issues/1016. Modules that had direct imports (NOT patched): ['urllib3.util (/opt/amazon/lib/python3.7/site-packages/urllib3/util/__init__.py)', 'urllib3.util.ssl_ (/opt/amazon/lib/python3.7/site-packages/urllib3/util/ssl_.py)']. \n",
      "  monkey.patch_all(subprocess=True)\u001b[0m\n",
      "\u001b[34m[2021-05-28:03:32:57:INFO] Model loaded successfully for worker : 21\u001b[0m\n",
      "\u001b[35mArguments: serve\u001b[0m\n",
      "\u001b[35m[2021-05-28 03:32:57 +0000] [1] [INFO] Starting gunicorn 19.9.0\u001b[0m\n",
      "\u001b[35m[2021-05-28 03:32:57 +0000] [1] [INFO] Listening at: http://0.0.0.0:8080 (1)\u001b[0m\n",
      "\u001b[35m[2021-05-28 03:32:57 +0000] [1] [INFO] Using worker: gevent\u001b[0m\n",
      "\u001b[35m[2021-05-28 03:32:57 +0000] [21] [INFO] Booting worker with pid: 21\u001b[0m\n",
      "\u001b[35m[2021-05-28 03:32:57 +0000] [22] [INFO] Booting worker with pid: 22\u001b[0m\n",
      "\u001b[35m/opt/amazon/lib/python3.7/site-packages/gunicorn/workers/ggevent.py:65: MonkeyPatchWarning: Monkey-patching ssl after ssl has already been imported may lead to errors, including RecursionError on Python 3.6. It may also silently lead to incorrect behaviour on Python 3.7. Please monkey-patch earlier. See https://github.com/gevent/gevent/issues/1016. Modules that had direct imports (NOT patched): ['urllib3.util (/opt/amazon/lib/python3.7/site-packages/urllib3/util/__init__.py)', 'urllib3.util.ssl_ (/opt/amazon/lib/python3.7/site-packages/urllib3/util/ssl_.py)']. \n",
      "  monkey.patch_all(subprocess=True)\u001b[0m\n",
      "\u001b[35m[2021-05-28:03:32:57:INFO] Model loaded successfully for worker : 21\u001b[0m\n",
      "\u001b[34m/opt/amazon/lib/python3.7/site-packages/gunicorn/workers/ggevent.py:65: MonkeyPatchWarning: Monkey-patching ssl after ssl has already been imported may lead to errors, including RecursionError on Python 3.6. It may also silently lead to incorrect behaviour on Python 3.7. Please monkey-patch earlier. See https://github.com/gevent/gevent/issues/1016. Modules that had direct imports (NOT patched): ['urllib3.util (/opt/amazon/lib/python3.7/site-packages/urllib3/util/__init__.py)', 'urllib3.util.ssl_ (/opt/amazon/lib/python3.7/site-packages/urllib3/util/ssl_.py)']. \n",
      "  monkey.patch_all(subprocess=True)\u001b[0m\n",
      "\u001b[34m[2021-05-28:03:32:57:INFO] Model loaded successfully for worker : 22\u001b[0m\n",
      "\u001b[34m[2021-05-28 03:32:57 +0000] [23] [INFO] Booting worker with pid: 23\u001b[0m\n",
      "\u001b[34m[2021-05-28 03:32:57 +0000] [24] [INFO] Booting worker with pid: 24\u001b[0m\n",
      "\u001b[34m/opt/amazon/lib/python3.7/site-packages/gunicorn/workers/ggevent.py:65: MonkeyPatchWarning: Monkey-patching ssl after ssl has already been imported may lead to errors, including RecursionError on Python 3.6. It may also silently lead to incorrect behaviour on Python 3.7. Please monkey-patch earlier. See https://github.com/gevent/gevent/issues/1016. Modules that had direct imports (NOT patched): ['urllib3.util (/opt/amazon/lib/python3.7/site-packages/urllib3/util/__init__.py)', 'urllib3.util.ssl_ (/opt/amazon/lib/python3.7/site-packages/urllib3/util/ssl_.py)']. \n",
      "  monkey.patch_all(subprocess=True)\u001b[0m\n",
      "\u001b[34m[2021-05-28:03:32:57:INFO] Model loaded successfully for worker : 23\u001b[0m\n",
      "\u001b[34m/opt/amazon/lib/python3.7/site-packages/gunicorn/workers/ggevent.py:65: MonkeyPatchWarning: Monkey-patching ssl after ssl has already been imported may lead to errors, including RecursionError on Python 3.6. It may also silently lead to incorrect behaviour on Python 3.7. Please monkey-patch earlier. See https://github.com/gevent/gevent/issues/1016. Modules that had direct imports (NOT patched): ['urllib3.util (/opt/amazon/lib/python3.7/site-packages/urllib3/util/__init__.py)', 'urllib3.util.ssl_ (/opt/amazon/lib/python3.7/site-packages/urllib3/util/ssl_.py)']. \n",
      "  monkey.patch_all(subprocess=True)\u001b[0m\n",
      "\u001b[34m[2021-05-28:03:32:57:INFO] Model loaded successfully for worker : 24\u001b[0m\n",
      "\u001b[35m/opt/amazon/lib/python3.7/site-packages/gunicorn/workers/ggevent.py:65: MonkeyPatchWarning: Monkey-patching ssl after ssl has already been imported may lead to errors, including RecursionError on Python 3.6. It may also silently lead to incorrect behaviour on Python 3.7. Please monkey-patch earlier. See https://github.com/gevent/gevent/issues/1016. Modules that had direct imports (NOT patched): ['urllib3.util (/opt/amazon/lib/python3.7/site-packages/urllib3/util/__init__.py)', 'urllib3.util.ssl_ (/opt/amazon/lib/python3.7/site-packages/urllib3/util/ssl_.py)']. \n",
      "  monkey.patch_all(subprocess=True)\u001b[0m\n",
      "\u001b[35m[2021-05-28:03:32:57:INFO] Model loaded successfully for worker : 22\u001b[0m\n",
      "\u001b[35m[2021-05-28 03:32:57 +0000] [23] [INFO] Booting worker with pid: 23\u001b[0m\n",
      "\u001b[35m[2021-05-28 03:32:57 +0000] [24] [INFO] Booting worker with pid: 24\u001b[0m\n",
      "\u001b[35m/opt/amazon/lib/python3.7/site-packages/gunicorn/workers/ggevent.py:65: MonkeyPatchWarning: Monkey-patching ssl after ssl has already been imported may lead to errors, including RecursionError on Python 3.6. It may also silently lead to incorrect behaviour on Python 3.7. Please monkey-patch earlier. See https://github.com/gevent/gevent/issues/1016. Modules that had direct imports (NOT patched): ['urllib3.util (/opt/amazon/lib/python3.7/site-packages/urllib3/util/__init__.py)', 'urllib3.util.ssl_ (/opt/amazon/lib/python3.7/site-packages/urllib3/util/ssl_.py)']. \n",
      "  monkey.patch_all(subprocess=True)\u001b[0m\n",
      "\u001b[35m[2021-05-28:03:32:57:INFO] Model loaded successfully for worker : 23\u001b[0m\n",
      "\u001b[35m/opt/amazon/lib/python3.7/site-packages/gunicorn/workers/ggevent.py:65: MonkeyPatchWarning: Monkey-patching ssl after ssl has already been imported may lead to errors, including RecursionError on Python 3.6. It may also silently lead to incorrect behaviour on Python 3.7. Please monkey-patch earlier. See https://github.com/gevent/gevent/issues/1016. Modules that had direct imports (NOT patched): ['urllib3.util (/opt/amazon/lib/python3.7/site-packages/urllib3/util/__init__.py)', 'urllib3.util.ssl_ (/opt/amazon/lib/python3.7/site-packages/urllib3/util/ssl_.py)']. \n",
      "  monkey.patch_all(subprocess=True)\u001b[0m\n",
      "\u001b[35m[2021-05-28:03:32:57:INFO] Model loaded successfully for worker : 24\u001b[0m\n",
      "\u001b[34m[2021-05-28:03:33:01:INFO] Sniff delimiter as ','\u001b[0m\n",
      "\u001b[34m[2021-05-28:03:33:01:INFO] Determined delimiter of CSV input is ','\u001b[0m\n",
      "\u001b[35m[2021-05-28:03:33:01:INFO] Sniff delimiter as ','\u001b[0m\n",
      "\u001b[35m[2021-05-28:03:33:01:INFO] Determined delimiter of CSV input is ','\u001b[0m\n",
      "\u001b[32m2021-05-28T03:33:01.118:[sagemaker logs]: MaxConcurrentTransforms=4, MaxPayloadInMB=6, BatchStrategy=MULTI_RECORD\u001b[0m\n"
     ]
    }
   ],
   "source": [
    "xgb_transformer.wait()"
   ]
  },
  {
   "cell_type": "code",
   "execution_count": 25,
   "id": "05cd7b00",
   "metadata": {},
   "outputs": [],
   "source": [
    "## Magick-copy XGBoost inference output to specified directory accessible by Notebook\n",
    "data_dir = './'"
   ]
  },
  {
   "cell_type": "code",
   "execution_count": 26,
   "id": "c38f3c68",
   "metadata": {},
   "outputs": [
    {
     "name": "stdout",
     "output_type": "stream",
     "text": [
      "Completed 1.9 KiB/1.9 KiB (22.4 KiB/s) with 1 file(s) remaining\r",
      "download: s3://sagemaker-us-west-1-644307290749/xgboost-2021-05-28-03-28-13-140/test.csv.out to ./test.csv.out\r\n"
     ]
    }
   ],
   "source": [
    "!aws s3 cp --recursive $xgb_transformer.output_path $data_dir"
   ]
  },
  {
   "cell_type": "markdown",
   "id": "c266cd7d",
   "metadata": {},
   "source": [
    "### Evaluation on hold-out test set"
   ]
  },
  {
   "cell_type": "code",
   "execution_count": 27,
   "id": "df10cc82",
   "metadata": {},
   "outputs": [],
   "source": [
    "yTestScore = pd.read_csv(os.path.join(data_dir, 'test.csv.out'), header=None)"
   ]
  },
  {
   "cell_type": "code",
   "execution_count": 28,
   "id": "3fb40528",
   "metadata": {},
   "outputs": [],
   "source": [
    "yTestPred = (yTestScore > 0.5).astype(int)"
   ]
  },
  {
   "cell_type": "code",
   "execution_count": 30,
   "id": "fbc80983",
   "metadata": {},
   "outputs": [
    {
     "name": "stdout",
     "output_type": "stream",
     "text": [
      "              precision    recall  f1-score   support\n",
      "\n",
      "           0       0.98      0.93      0.95        89\n",
      "           1       0.60      0.82      0.69        11\n",
      "\n",
      "    accuracy                           0.92       100\n",
      "   macro avg       0.79      0.88      0.82       100\n",
      "weighted avg       0.94      0.92      0.93       100\n",
      "\n"
     ]
    }
   ],
   "source": [
    "from sklearn import metrics\n",
    "print(metrics.classification_report(ytest, yTestPred))"
   ]
  },
  {
   "cell_type": "code",
   "execution_count": 32,
   "id": "3aae8e9c",
   "metadata": {},
   "outputs": [
    {
     "data": {
      "image/png": "[encoded data removed]",
      "text/plain": [
       "<Figure size 600x400 with 1 Axes>"
      ]
     },
     "metadata": {
      "needs_background": "light"
     },
     "output_type": "display_data"
    }
   ],
   "source": [
    "plot_roc(ytest, yTestScore)"
   ]
  },
  {
   "cell_type": "code",
   "execution_count": null,
   "id": "2766ecb1",
   "metadata": {},
   "outputs": [],
   "source": []
  }
 ],
 "metadata": {
  "kernelspec": {
   "display_name": "conda_pytorch_p36",
   "language": "python",
   "name": "conda_pytorch_p36"
  },
  "language_info": {
   "codemirror_mode": {
    "name": "ipython",
    "version": 3
   },
   "file_extension": ".py",
   "mimetype": "text/x-python",
   "name": "python",
   "nbconvert_exporter": "python",
   "pygments_lexer": "ipython3",
   "version": "3.6.13"
  }
 },
 "nbformat": 4,
 "nbformat_minor": 5
}
