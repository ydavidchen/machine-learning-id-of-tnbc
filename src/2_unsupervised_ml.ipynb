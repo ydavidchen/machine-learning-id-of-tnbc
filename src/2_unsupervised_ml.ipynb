{
 "cells": [
  {
   "cell_type": "markdown",
   "id": "fd73a31d",
   "metadata": {},
   "source": [
    "# Project Notebook II: Unsupervised Learning\n",
    "\n",
    "David Chen\n",
    "\n",
    "Please note, the downloaded data is already mean-centered, variance-scaled. No further data preprocessing was performed."
   ]
  },
  {
   "cell_type": "code",
   "execution_count": 1,
   "id": "0b305c56",
   "metadata": {},
   "outputs": [],
   "source": [
    "import pandas as pd \n",
    "import numpy as np\n",
    "import os\n",
    "import matplotlib.pyplot as plt\n",
    "%matplotlib inline\n",
    "\n",
    "import sagemaker\n",
    "from sagemaker import get_execution_role\n",
    "import boto3\n",
    "\n",
    "## My custom helper functions\n",
    "from helpers import *"
   ]
  },
  {
   "cell_type": "markdown",
   "id": "46041d18",
   "metadata": {},
   "source": [
    "## Step 1. Sagemaker Resources & Processed Data Saved in S3"
   ]
  },
  {
   "cell_type": "code",
   "execution_count": 2,
   "id": "f16308c8",
   "metadata": {},
   "outputs": [
    {
     "data": {
      "text/plain": [
       "<sagemaker.session.Session at 0x7fb6c0631710>"
      ]
     },
     "execution_count": 2,
     "metadata": {},
     "output_type": "execute_result"
    }
   ],
   "source": [
    "sagemaker_session = sagemaker.Session()\n",
    "sagemaker_session"
   ]
  },
  {
   "cell_type": "code",
   "execution_count": 3,
   "id": "c797528e",
   "metadata": {},
   "outputs": [
    {
     "data": {
      "text/plain": [
       "'arn:aws:iam::644307290749:role/service-role/AmazonSageMaker-ExecutionRole-20210527T073969'"
      ]
     },
     "execution_count": 3,
     "metadata": {},
     "output_type": "execute_result"
    }
   ],
   "source": [
    "role = sagemaker.get_execution_role()\n",
    "role"
   ]
  },
  {
   "cell_type": "code",
   "execution_count": 4,
   "id": "ba5e5c1d",
   "metadata": {},
   "outputs": [
    {
     "data": {
      "text/plain": [
       "'sagemaker-us-west-1-644307290749'"
      ]
     },
     "execution_count": 4,
     "metadata": {},
     "output_type": "execute_result"
    }
   ],
   "source": [
    "bucket = sagemaker_session.default_bucket()\n",
    "bucket"
   ]
  },
  {
   "cell_type": "code",
   "execution_count": 8,
   "id": "b3d0b551",
   "metadata": {},
   "outputs": [
    {
     "data": {
      "text/plain": [
       "(999, 20528)"
      ]
     },
     "execution_count": 8,
     "metadata": {},
     "output_type": "execute_result"
    }
   ],
   "source": [
    "## Load processed features:\n",
    "genes = pd.read_csv(get_s3_uri(\"assets/processed_data/genes.csv\", bucket), index_col=0)\n",
    "genes.shape"
   ]
  },
  {
   "cell_type": "code",
   "execution_count": 9,
   "id": "59244664",
   "metadata": {},
   "outputs": [
    {
     "data": {
      "text/plain": [
       "(999, 15)"
      ]
     },
     "execution_count": 9,
     "metadata": {},
     "output_type": "execute_result"
    }
   ],
   "source": [
    "## Load processed patient annotations (with defined class label):\n",
    "clinical = pd.read_csv(get_s3_uri(\"assets/processed_data/clinical.csv\", bucket))\n",
    "clinical.shape"
   ]
  },
  {
   "cell_type": "code",
   "execution_count": 10,
   "id": "a0629122",
   "metadata": {},
   "outputs": [
    {
     "data": {
      "text/plain": [
       "True"
      ]
     },
     "execution_count": 10,
     "metadata": {},
     "output_type": "execute_result"
    }
   ],
   "source": [
    "## Check to see if patient IDs in the 2 DataFrames match\n",
    "all(genes.index == clinical['Sample ID'])"
   ]
  },
  {
   "cell_type": "markdown",
   "id": "efc4ca04",
   "metadata": {},
   "source": [
    "### Exclude genes with missing values"
   ]
  },
  {
   "cell_type": "code",
   "execution_count": 11,
   "id": "9445e684",
   "metadata": {},
   "outputs": [
    {
     "data": {
      "text/plain": [
       "319"
      ]
     },
     "execution_count": 11,
     "metadata": {},
     "output_type": "execute_result"
    }
   ],
   "source": [
    "genesWithNan = genes.columns[genes.isna().any()].tolist()\n",
    "len(genesWithNan)"
   ]
  },
  {
   "cell_type": "code",
   "execution_count": 12,
   "id": "b95065f3",
   "metadata": {},
   "outputs": [
    {
     "data": {
      "text/plain": [
       "(999, 20209)"
      ]
     },
     "execution_count": 12,
     "metadata": {},
     "output_type": "execute_result"
    }
   ],
   "source": [
    "genes = genes.dropna(axis=1)\n",
    "genes.shape"
   ]
  },
  {
   "cell_type": "markdown",
   "id": "57cad74c",
   "metadata": {},
   "source": [
    "## Step 2. Explore Data via Unsupervised Learning\n",
    "\n",
    "Here, we will perform an **unsupervised** ML to **visualize** whether there are any patterns in the feature space with the defined class label.\n",
    "\n",
    "Specifically, we will reduce the dimension down to 2 (PC1 & PC2) for the sake of visualization."
   ]
  },
  {
   "cell_type": "code",
   "execution_count": 13,
   "id": "259d97ad",
   "metadata": {},
   "outputs": [],
   "source": [
    "def plot_dimred(X_r, y, title, labels=[0,1],\n",
    "                target_names=[\"Other\",\"Triple Neg.\"], colors=['navy','darkorange']):\n",
    "    \"\"\" Plots dimensionality reduced data \"\"\"\n",
    "    plt.figure(dpi=100)\n",
    "\n",
    "    for color, label, target_name in zip(colors, labels, target_names):\n",
    "        plt.scatter(\n",
    "            X_r[y == label, 0], \n",
    "            X_r[y == label, 1], \n",
    "            color=color,\n",
    "            label=target_name\n",
    "        )\n",
    "\n",
    "    plt.legend(loc='best', shadow=False, scatterpoints=1)\n",
    "    plt.xlabel(\"Dimension 1\")\n",
    "    plt.ylabel(\"Dimension 2\")\n",
    "\n",
    "    plt.show()"
   ]
  },
  {
   "cell_type": "code",
   "execution_count": 14,
   "id": "e6ea9eb3",
   "metadata": {},
   "outputs": [
    {
     "data": {
      "text/plain": [
       "PCA(n_components=2)"
      ]
     },
     "execution_count": 14,
     "metadata": {},
     "output_type": "execute_result"
    }
   ],
   "source": [
    "from sklearn.decomposition import PCA\n",
    "\n",
    "pca = PCA(n_components=2)\n",
    "pca.fit(genes)"
   ]
  },
  {
   "cell_type": "code",
   "execution_count": 15,
   "id": "bdcf7181",
   "metadata": {},
   "outputs": [],
   "source": [
    "X_pca = pca.transform(genes)"
   ]
  },
  {
   "cell_type": "code",
   "execution_count": 16,
   "id": "549bd769",
   "metadata": {},
   "outputs": [
    {
     "data": {
      "image/png": "[encoded data removed]",
      "text/plain": [
       "<Figure size 600x400 with 1 Axes>"
      ]
     },
     "metadata": {
      "needs_background": "light"
     },
     "output_type": "display_data"
    }
   ],
   "source": [
    "plot_dimred(X_pca, clinical[\"Label\"].values ,\"PCA\")"
   ]
  },
  {
   "cell_type": "markdown",
   "id": "bcc0b21a",
   "metadata": {},
   "source": [
    "There is a clear localization of Triple Negative Breast Cancer patients in Quadrant I & II of the PCA-reduced feature space. This result may be an indicator that:\n",
    "\n",
    "* At the first glance, PCA-reduced data seems to localize into two clusters.\n",
    "* There is an association between features (genes) with the Class Label, indicated by the majority of triple negative data points localizing in the top cluster.\n",
    "* If we are able to see clear-cut differences in Unsupervised Learning results, we may be able to yield robust learner using Supervised Learning."
   ]
  },
  {
   "cell_type": "code",
   "execution_count": null,
   "id": "aeb7a8f4",
   "metadata": {},
   "outputs": [],
   "source": []
  }
 ],
 "metadata": {
  "kernelspec": {
   "display_name": "conda_pytorch_p36",
   "language": "python",
   "name": "conda_pytorch_p36"
  },
  "language_info": {
   "codemirror_mode": {
    "name": "ipython",
    "version": 3
   },
   "file_extension": ".py",
   "mimetype": "text/x-python",
   "name": "python",
   "nbconvert_exporter": "python",
   "pygments_lexer": "ipython3",
   "version": "3.6.13"
  }
 },
 "nbformat": 4,
 "nbformat_minor": 5
}
