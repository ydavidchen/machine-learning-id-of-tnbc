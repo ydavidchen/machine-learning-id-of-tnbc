{
 "cells": [
  {
   "cell_type": "markdown",
   "id": "f8d65f9c",
   "metadata": {},
   "source": [
    "# Project Notebook V: Supervised Learning with Sagemaker XGBoost with Hyperparameter Tuning\n",
    "\n",
    "David Chen"
   ]
  },
  {
   "cell_type": "code",
   "execution_count": 1,
   "id": "d8f2a3f3",
   "metadata": {
    "scrolled": true
   },
   "outputs": [
    {
     "name": "stdout",
     "output_type": "stream",
     "text": [
      "Requirement already satisfied: sagemaker==1.72.0 in /home/ec2-user/anaconda3/envs/pytorch_p36/lib/python3.6/site-packages (1.72.0)\n",
      "Requirement already satisfied: importlib-metadata>=1.4.0 in /home/ec2-user/anaconda3/envs/pytorch_p36/lib/python3.6/site-packages (from sagemaker==1.72.0) (3.7.0)\n",
      "Requirement already satisfied: boto3>=1.14.12 in /home/ec2-user/anaconda3/envs/pytorch_p36/lib/python3.6/site-packages (from sagemaker==1.72.0) (1.17.76)\n",
      "Requirement already satisfied: protobuf>=3.1 in /home/ec2-user/anaconda3/envs/pytorch_p36/lib/python3.6/site-packages (from sagemaker==1.72.0) (3.15.2)\n",
      "Requirement already satisfied: protobuf3-to-dict>=0.1.5 in /home/ec2-user/anaconda3/envs/pytorch_p36/lib/python3.6/site-packages (from sagemaker==1.72.0) (0.1.5)\n",
      "Requirement already satisfied: smdebug-rulesconfig==0.1.4 in /home/ec2-user/anaconda3/envs/pytorch_p36/lib/python3.6/site-packages (from sagemaker==1.72.0) (0.1.4)\n",
      "Requirement already satisfied: numpy>=1.9.0 in /home/ec2-user/anaconda3/envs/pytorch_p36/lib/python3.6/site-packages (from sagemaker==1.72.0) (1.19.5)\n",
      "Requirement already satisfied: packaging>=20.0 in /home/ec2-user/anaconda3/envs/pytorch_p36/lib/python3.6/site-packages (from sagemaker==1.72.0) (20.9)\n",
      "Requirement already satisfied: scipy>=0.19.0 in /home/ec2-user/anaconda3/envs/pytorch_p36/lib/python3.6/site-packages (from sagemaker==1.72.0) (1.5.3)\n",
      "Requirement already satisfied: s3transfer<0.5.0,>=0.4.0 in /home/ec2-user/anaconda3/envs/pytorch_p36/lib/python3.6/site-packages (from boto3>=1.14.12->sagemaker==1.72.0) (0.4.2)\n",
      "Requirement already satisfied: jmespath<1.0.0,>=0.7.1 in /home/ec2-user/anaconda3/envs/pytorch_p36/lib/python3.6/site-packages (from boto3>=1.14.12->sagemaker==1.72.0) (0.10.0)\n",
      "Requirement already satisfied: botocore<1.21.0,>=1.20.76 in /home/ec2-user/anaconda3/envs/pytorch_p36/lib/python3.6/site-packages (from boto3>=1.14.12->sagemaker==1.72.0) (1.20.76)\n",
      "Requirement already satisfied: urllib3<1.27,>=1.25.4 in /home/ec2-user/anaconda3/envs/pytorch_p36/lib/python3.6/site-packages (from botocore<1.21.0,>=1.20.76->boto3>=1.14.12->sagemaker==1.72.0) (1.26.4)\n",
      "Requirement already satisfied: python-dateutil<3.0.0,>=2.1 in /home/ec2-user/anaconda3/envs/pytorch_p36/lib/python3.6/site-packages (from botocore<1.21.0,>=1.20.76->boto3>=1.14.12->sagemaker==1.72.0) (2.8.1)\n",
      "Requirement already satisfied: zipp>=0.5 in /home/ec2-user/anaconda3/envs/pytorch_p36/lib/python3.6/site-packages (from importlib-metadata>=1.4.0->sagemaker==1.72.0) (3.4.0)\n",
      "Requirement already satisfied: typing-extensions>=3.6.4 in /home/ec2-user/anaconda3/envs/pytorch_p36/lib/python3.6/site-packages (from importlib-metadata>=1.4.0->sagemaker==1.72.0) (3.7.4.3)\n",
      "Requirement already satisfied: pyparsing>=2.0.2 in /home/ec2-user/anaconda3/envs/pytorch_p36/lib/python3.6/site-packages (from packaging>=20.0->sagemaker==1.72.0) (2.4.7)\n",
      "Requirement already satisfied: six>=1.9 in /home/ec2-user/anaconda3/envs/pytorch_p36/lib/python3.6/site-packages (from protobuf>=3.1->sagemaker==1.72.0) (1.15.0)\n"
     ]
    }
   ],
   "source": [
    "!pip install sagemaker==1.72.0"
   ]
  },
  {
   "cell_type": "code",
   "execution_count": 2,
   "id": "7284f371",
   "metadata": {},
   "outputs": [],
   "source": [
    "import pandas as pd \n",
    "import numpy as np\n",
    "import os\n",
    "import matplotlib.pyplot as plt\n",
    "%matplotlib inline\n",
    "\n",
    "import sagemaker\n",
    "from sagemaker import get_execution_role\n",
    "from sagemaker.amazon.amazon_estimator import get_image_uri\n",
    "from sagemaker.predictor import csv_serializer\n",
    "import boto3"
   ]
  },
  {
   "cell_type": "code",
   "execution_count": 3,
   "id": "a3414e64",
   "metadata": {},
   "outputs": [],
   "source": [
    "## My custom helper functions\n",
    "from helpers import *"
   ]
  },
  {
   "cell_type": "markdown",
   "id": "5dbd15eb",
   "metadata": {},
   "source": [
    "## Step 1. Sagemaker Resources & Processed+FeatureSelected Data Saved in S3"
   ]
  },
  {
   "cell_type": "code",
   "execution_count": 4,
   "id": "c5ff0065",
   "metadata": {},
   "outputs": [
    {
     "data": {
      "text/plain": [
       "<sagemaker.session.Session at 0x7f519417dc18>"
      ]
     },
     "execution_count": 4,
     "metadata": {},
     "output_type": "execute_result"
    }
   ],
   "source": [
    "sagemaker_session = sagemaker.Session()\n",
    "sagemaker_session"
   ]
  },
  {
   "cell_type": "code",
   "execution_count": 5,
   "id": "97215e3b",
   "metadata": {},
   "outputs": [
    {
     "data": {
      "text/plain": [
       "'arn:aws:iam::644307290749:role/service-role/AmazonSageMaker-ExecutionRole-20210527T073969'"
      ]
     },
     "execution_count": 5,
     "metadata": {},
     "output_type": "execute_result"
    }
   ],
   "source": [
    "role = sagemaker.get_execution_role()\n",
    "role"
   ]
  },
  {
   "cell_type": "code",
   "execution_count": 6,
   "id": "4b87180e",
   "metadata": {},
   "outputs": [
    {
     "data": {
      "text/plain": [
       "'sagemaker-us-west-1-644307290749'"
      ]
     },
     "execution_count": 6,
     "metadata": {},
     "output_type": "execute_result"
    }
   ],
   "source": [
    "bucket = sagemaker_session.default_bucket()\n",
    "bucket"
   ]
  },
  {
   "cell_type": "code",
   "execution_count": 7,
   "id": "b42ff77d",
   "metadata": {},
   "outputs": [
    {
     "data": {
      "text/plain": [
       "(999, 33)"
      ]
     },
     "execution_count": 7,
     "metadata": {},
     "output_type": "execute_result"
    }
   ],
   "source": [
    "## Load processed, L1-selected features:\n",
    "genes = pd.read_csv(get_s3_uri(\"assets/processed_data/genes_l1_selected.csv\", bucket), index_col=0)\n",
    "genes.shape"
   ]
  },
  {
   "cell_type": "code",
   "execution_count": 8,
   "id": "6a07dd2d",
   "metadata": {},
   "outputs": [
    {
     "data": {
      "text/plain": [
       "(999, 15)"
      ]
     },
     "execution_count": 8,
     "metadata": {},
     "output_type": "execute_result"
    }
   ],
   "source": [
    "## Load processed patient annotations (with defined class label):\n",
    "clinical = pd.read_csv(get_s3_uri(\"assets/processed_data/clinical.csv\", bucket))\n",
    "clinical.index = clinical['Sample ID'].values\n",
    "clinical.shape"
   ]
  },
  {
   "cell_type": "code",
   "execution_count": 9,
   "id": "ade85c62",
   "metadata": {},
   "outputs": [],
   "source": [
    "## Check to see if patient IDs in the 2 DataFrames match\n",
    "assert all(genes.index == clinical.index)"
   ]
  },
  {
   "cell_type": "markdown",
   "id": "63d9fdc7",
   "metadata": {},
   "source": [
    "## Step 2. Train-val-test split & save for Sagemaker XGBoost\n",
    "\n",
    "Here, I will split the data into the following sets as CSV files without headers or index (required format for Sagemaker):\n",
    "\n",
    "* Training Set (for Hyperparameter Tuning)\n",
    "* Validation Set (Hyperparameter Tuning)\n",
    "* Test Set (no labels, just features)\n",
    "\n",
    "To do so, I will:\n",
    "\n",
    "* Run sklearn's `train_test_split` sequentially, twice\n",
    "* Use my custom helper function `directS3Save` to export CSV directly to my S3 bucket"
   ]
  },
  {
   "cell_type": "code",
   "execution_count": 10,
   "id": "447e1943",
   "metadata": {},
   "outputs": [],
   "source": [
    "from sklearn.model_selection import train_test_split\n",
    "\n",
    "SIZE_VAL_TEST = 100 #set aside 100 observations or 10% for validation & testing\n",
    "\n",
    "## Run sklearn helper 1st time to split out the test set:\n",
    "## The hold-out test set is NEVER used until the very end\n",
    "Xtrain, Xtest, ytrain, ytest = train_test_split(\n",
    "    genes, \n",
    "    clinical[\"Label\"].astype(int), \n",
    "    test_size=SIZE_VAL_TEST, \n",
    "    random_state=42\n",
    ")"
   ]
  },
  {
   "cell_type": "code",
   "execution_count": 11,
   "id": "72c060dd",
   "metadata": {},
   "outputs": [],
   "source": [
    "## S3-export the test set FEATURES ONLY -- no concatenation of labels\n",
    "directS3Save(Xtest, bucket, \"assets/tnbc-xgboost/test.csv\", False, False)"
   ]
  },
  {
   "cell_type": "markdown",
   "id": "de7a596c",
   "metadata": {},
   "source": [
    "Run `train_test_split` the second time to split out a validation set for optimization"
   ]
  },
  {
   "cell_type": "code",
   "execution_count": 12,
   "id": "c4cf6f03",
   "metadata": {},
   "outputs": [],
   "source": [
    "Xtrain, Xval, ytrain, yval = train_test_split(\n",
    "    Xtrain, \n",
    "    ytrain.astype(int), \n",
    "    test_size=SIZE_VAL_TEST\n",
    ")"
   ]
  },
  {
   "cell_type": "code",
   "execution_count": 13,
   "id": "49db0368",
   "metadata": {},
   "outputs": [],
   "source": [
    "directS3Save(pd.concat([ytrain, Xtrain], axis=1), bucket, \"assets/tnbc-xgboost/train.csv\", False, False)"
   ]
  },
  {
   "cell_type": "code",
   "execution_count": 14,
   "id": "2019a8a0",
   "metadata": {},
   "outputs": [],
   "source": [
    "directS3Save(pd.concat([yval, Xval], axis=1), bucket, \"assets/tnbc-xgboost/validation.csv\", False, False)"
   ]
  },
  {
   "cell_type": "markdown",
   "id": "37b7068c",
   "metadata": {},
   "source": [
    "## Step 3. Train Sagemaker XGBoost with Hyperparameter Tuning"
   ]
  },
  {
   "cell_type": "code",
   "execution_count": 15,
   "id": "0d9954c4",
   "metadata": {},
   "outputs": [
    {
     "name": "stderr",
     "output_type": "stream",
     "text": [
      "'get_image_uri' method will be deprecated in favor of 'ImageURIProvider' class in SageMaker Python SDK v2.\n",
      "There is a more up to date SageMaker XGBoost image. To use the newer image, please set 'repo_version'='1.0-1'. For example:\n",
      "\tget_image_uri(region, 'xgboost', '1.0-1').\n"
     ]
    },
    {
     "data": {
      "text/plain": [
       "'632365934929.dkr.ecr.us-west-1.amazonaws.com/xgboost:1'"
      ]
     },
     "execution_count": 15,
     "metadata": {},
     "output_type": "execute_result"
    }
   ],
   "source": [
    "prefix = \"assets/tnbc-xgboost\"\n",
    "\n",
    "container = get_image_uri(sagemaker_session.boto_region_name, 'xgboost')\n",
    "container"
   ]
  },
  {
   "cell_type": "markdown",
   "id": "7c73ba49",
   "metadata": {},
   "source": [
    "### Sagemaker estimator with default hyperparameters"
   ]
  },
  {
   "cell_type": "code",
   "execution_count": 16,
   "id": "ce977cfa",
   "metadata": {},
   "outputs": [
    {
     "name": "stderr",
     "output_type": "stream",
     "text": [
      "Parameter image_name will be renamed to image_uri in SageMaker Python SDK v2.\n"
     ]
    }
   ],
   "source": [
    "xgb = sagemaker.estimator.Estimator(\n",
    "    container, \n",
    "    role,\n",
    "    train_instance_count = 1,\n",
    "    train_instance_type = 'ml.m4.xlarge',\n",
    "    output_path = 's3://{}/{}/output'.format(bucket, prefix),\n",
    "    sagemaker_session = sagemaker_session\n",
    ")"
   ]
  },
  {
   "cell_type": "code",
   "execution_count": 17,
   "id": "03a2dfb5",
   "metadata": {},
   "outputs": [],
   "source": [
    "## Default XGBoost hyperparameters\n",
    "xgb.set_hyperparameters(\n",
    "    max_depth = 5,\n",
    "    eta = 0.2,\n",
    "    gamma = 4,\n",
    "    min_child_weight = 6,\n",
    "    subsample = 0.8,\n",
    "    objective = 'binary:logistic',\n",
    "    early_stopping_rounds = 10,\n",
    "    num_round = 200\n",
    ")"
   ]
  },
  {
   "cell_type": "markdown",
   "id": "9fc3740a",
   "metadata": {},
   "source": [
    "### Run Hyperparameter Tuning via Random Search\n",
    "\n",
    "We will maximize Validation-set Area Under the ROC Curve (AUC) with Random Search as the approach for model optimization."
   ]
  },
  {
   "cell_type": "code",
   "execution_count": 18,
   "id": "194c9f95",
   "metadata": {},
   "outputs": [],
   "source": [
    "from sagemaker.tuner import IntegerParameter, ContinuousParameter, HyperparameterTuner\n",
    "\n",
    "HP_RANGES = {\n",
    "    'max_depth': IntegerParameter(3, 12),\n",
    "    'eta': ContinuousParameter(0.05, 0.5),\n",
    "    'min_child_weight': IntegerParameter(2, 8),\n",
    "    'subsample': ContinuousParameter(0.5, 0.9),\n",
    "    'gamma': ContinuousParameter(0, 10)\n",
    "}\n",
    "\n",
    "xgb_hyperparameter_tuner = HyperparameterTuner(\n",
    "    estimator = xgb,\n",
    "    objective_metric_name = 'validation:auc', #ATTENTION\n",
    "    objective_type = 'Maximize', #ATTENTION\n",
    "    max_jobs = 20,\n",
    "    max_parallel_jobs = 3, \n",
    "    strategy = 'Random', #ATTENTION\n",
    "    hyperparameter_ranges = HP_RANGES\n",
    ")"
   ]
  },
  {
   "cell_type": "markdown",
   "id": "1372df9e",
   "metadata": {},
   "source": [
    "Data paths for Sagemaker need to be handled specially. Further, the syntax of training & validation sets' paths is a little bit different from the test set."
   ]
  },
  {
   "cell_type": "code",
   "execution_count": 19,
   "id": "1fce75b7",
   "metadata": {},
   "outputs": [
    {
     "name": "stderr",
     "output_type": "stream",
     "text": [
      "'s3_input' class will be renamed to 'TrainingInput' in SageMaker Python SDK v2.\n",
      "'s3_input' class will be renamed to 'TrainingInput' in SageMaker Python SDK v2.\n"
     ]
    }
   ],
   "source": [
    "## Required data path / config:\n",
    "s3_input_train = sagemaker.s3_input(\n",
    "    s3_data = get_s3_uri(os.path.join(prefix,\"train.csv\"), bucket), \n",
    "    content_type = 'csv'\n",
    ")\n",
    "\n",
    "s3_input_val = sagemaker.s3_input(\n",
    "    s3_data = get_s3_uri(os.path.join(prefix,\"validation.csv\"), bucket), \n",
    "    content_type = 'csv'\n",
    ")"
   ]
  },
  {
   "cell_type": "code",
   "execution_count": 20,
   "id": "0e3b965c",
   "metadata": {},
   "outputs": [],
   "source": [
    "xgb_hyperparameter_tuner.fit({'train':s3_input_train, \n",
    "                              'validation':s3_input_val})"
   ]
  },
  {
   "cell_type": "code",
   "execution_count": 21,
   "id": "87162d5c",
   "metadata": {},
   "outputs": [
    {
     "name": "stdout",
     "output_type": "stream",
     "text": [
      "..........................................................................................................................................................................................................................................................................................................................!\n"
     ]
    }
   ],
   "source": [
    "xgb_hyperparameter_tuner.wait()"
   ]
  },
  {
   "cell_type": "code",
   "execution_count": 22,
   "id": "b3a9b8e9",
   "metadata": {},
   "outputs": [
    {
     "data": {
      "text/plain": [
       "'xgboost-210528-1501-012-d54f808c'"
      ]
     },
     "execution_count": 22,
     "metadata": {},
     "output_type": "execute_result"
    }
   ],
   "source": [
    "xgb_hyperparameter_tuner.best_training_job()"
   ]
  },
  {
   "cell_type": "code",
   "execution_count": 23,
   "id": "5080091c",
   "metadata": {
    "scrolled": true
   },
   "outputs": [
    {
     "data": {
      "text/html": [
       "<div>\n",
       "<style scoped>\n",
       "    .dataframe tbody tr th:only-of-type {\n",
       "        vertical-align: middle;\n",
       "    }\n",
       "\n",
       "    .dataframe tbody tr th {\n",
       "        vertical-align: top;\n",
       "    }\n",
       "\n",
       "    .dataframe thead th {\n",
       "        text-align: right;\n",
       "    }\n",
       "</style>\n",
       "<table border=\"1\" class=\"dataframe\">\n",
       "  <thead>\n",
       "    <tr style=\"text-align: right;\">\n",
       "      <th></th>\n",
       "      <th>eta</th>\n",
       "      <th>gamma</th>\n",
       "      <th>max_depth</th>\n",
       "      <th>min_child_weight</th>\n",
       "      <th>subsample</th>\n",
       "      <th>TrainingJobName</th>\n",
       "      <th>TrainingJobStatus</th>\n",
       "      <th>FinalObjectiveValue</th>\n",
       "      <th>TrainingStartTime</th>\n",
       "      <th>TrainingEndTime</th>\n",
       "      <th>TrainingElapsedTimeSeconds</th>\n",
       "    </tr>\n",
       "  </thead>\n",
       "  <tbody>\n",
       "    <tr>\n",
       "      <th>8</th>\n",
       "      <td>0.307743</td>\n",
       "      <td>1.420271</td>\n",
       "      <td>10.0</td>\n",
       "      <td>4.0</td>\n",
       "      <td>0.683635</td>\n",
       "      <td>xgboost-210528-1501-012-d54f808c</td>\n",
       "      <td>Completed</td>\n",
       "      <td>0.991477</td>\n",
       "      <td>2021-05-28 15:15:01+00:00</td>\n",
       "      <td>2021-05-28 15:16:20+00:00</td>\n",
       "      <td>79.0</td>\n",
       "    </tr>\n",
       "    <tr>\n",
       "      <th>4</th>\n",
       "      <td>0.112137</td>\n",
       "      <td>1.625352</td>\n",
       "      <td>12.0</td>\n",
       "      <td>3.0</td>\n",
       "      <td>0.632354</td>\n",
       "      <td>xgboost-210528-1501-016-72ca0c57</td>\n",
       "      <td>Completed</td>\n",
       "      <td>0.989583</td>\n",
       "      <td>2021-05-28 15:22:41+00:00</td>\n",
       "      <td>2021-05-28 15:23:29+00:00</td>\n",
       "      <td>48.0</td>\n",
       "    </tr>\n",
       "    <tr>\n",
       "      <th>17</th>\n",
       "      <td>0.143584</td>\n",
       "      <td>1.458683</td>\n",
       "      <td>12.0</td>\n",
       "      <td>7.0</td>\n",
       "      <td>0.738983</td>\n",
       "      <td>xgboost-210528-1501-003-8a7091a3</td>\n",
       "      <td>Completed</td>\n",
       "      <td>0.987689</td>\n",
       "      <td>2021-05-28 15:03:41+00:00</td>\n",
       "      <td>2021-05-28 15:05:04+00:00</td>\n",
       "      <td>83.0</td>\n",
       "    </tr>\n",
       "    <tr>\n",
       "      <th>2</th>\n",
       "      <td>0.235856</td>\n",
       "      <td>0.329778</td>\n",
       "      <td>3.0</td>\n",
       "      <td>8.0</td>\n",
       "      <td>0.858008</td>\n",
       "      <td>xgboost-210528-1501-018-61d5e913</td>\n",
       "      <td>Completed</td>\n",
       "      <td>0.984848</td>\n",
       "      <td>2021-05-28 15:22:50+00:00</td>\n",
       "      <td>2021-05-28 15:23:38+00:00</td>\n",
       "      <td>48.0</td>\n",
       "    </tr>\n",
       "    <tr>\n",
       "      <th>18</th>\n",
       "      <td>0.295802</td>\n",
       "      <td>3.443633</td>\n",
       "      <td>9.0</td>\n",
       "      <td>6.0</td>\n",
       "      <td>0.774210</td>\n",
       "      <td>xgboost-210528-1501-002-bf2bf8c9</td>\n",
       "      <td>Completed</td>\n",
       "      <td>0.984848</td>\n",
       "      <td>2021-05-28 15:03:54+00:00</td>\n",
       "      <td>2021-05-28 15:04:47+00:00</td>\n",
       "      <td>53.0</td>\n",
       "    </tr>\n",
       "    <tr>\n",
       "      <th>14</th>\n",
       "      <td>0.300690</td>\n",
       "      <td>1.927886</td>\n",
       "      <td>12.0</td>\n",
       "      <td>5.0</td>\n",
       "      <td>0.651357</td>\n",
       "      <td>xgboost-210528-1501-006-1d2d3a57</td>\n",
       "      <td>Completed</td>\n",
       "      <td>0.984848</td>\n",
       "      <td>2021-05-28 15:07:57+00:00</td>\n",
       "      <td>2021-05-28 15:08:46+00:00</td>\n",
       "      <td>49.0</td>\n",
       "    </tr>\n",
       "    <tr>\n",
       "      <th>10</th>\n",
       "      <td>0.431750</td>\n",
       "      <td>5.897734</td>\n",
       "      <td>6.0</td>\n",
       "      <td>6.0</td>\n",
       "      <td>0.741277</td>\n",
       "      <td>xgboost-210528-1501-010-b4955123</td>\n",
       "      <td>Completed</td>\n",
       "      <td>0.983902</td>\n",
       "      <td>2021-05-28 15:14:41+00:00</td>\n",
       "      <td>2021-05-28 15:15:34+00:00</td>\n",
       "      <td>53.0</td>\n",
       "    </tr>\n",
       "    <tr>\n",
       "      <th>16</th>\n",
       "      <td>0.127207</td>\n",
       "      <td>0.513637</td>\n",
       "      <td>11.0</td>\n",
       "      <td>7.0</td>\n",
       "      <td>0.868591</td>\n",
       "      <td>xgboost-210528-1501-004-06530098</td>\n",
       "      <td>Completed</td>\n",
       "      <td>0.983902</td>\n",
       "      <td>2021-05-28 15:07:30+00:00</td>\n",
       "      <td>2021-05-28 15:08:49+00:00</td>\n",
       "      <td>79.0</td>\n",
       "    </tr>\n",
       "    <tr>\n",
       "      <th>1</th>\n",
       "      <td>0.467145</td>\n",
       "      <td>8.040096</td>\n",
       "      <td>5.0</td>\n",
       "      <td>5.0</td>\n",
       "      <td>0.786895</td>\n",
       "      <td>xgboost-210528-1501-019-335e3111</td>\n",
       "      <td>Completed</td>\n",
       "      <td>0.983902</td>\n",
       "      <td>2021-05-28 15:26:18+00:00</td>\n",
       "      <td>2021-05-28 15:27:11+00:00</td>\n",
       "      <td>53.0</td>\n",
       "    </tr>\n",
       "    <tr>\n",
       "      <th>7</th>\n",
       "      <td>0.142754</td>\n",
       "      <td>4.277752</td>\n",
       "      <td>5.0</td>\n",
       "      <td>4.0</td>\n",
       "      <td>0.787875</td>\n",
       "      <td>xgboost-210528-1501-013-6e225690</td>\n",
       "      <td>Completed</td>\n",
       "      <td>0.982955</td>\n",
       "      <td>2021-05-28 15:18:36+00:00</td>\n",
       "      <td>2021-05-28 15:19:39+00:00</td>\n",
       "      <td>63.0</td>\n",
       "    </tr>\n",
       "    <tr>\n",
       "      <th>12</th>\n",
       "      <td>0.205241</td>\n",
       "      <td>2.274901</td>\n",
       "      <td>11.0</td>\n",
       "      <td>6.0</td>\n",
       "      <td>0.736567</td>\n",
       "      <td>xgboost-210528-1501-008-108423b8</td>\n",
       "      <td>Completed</td>\n",
       "      <td>0.982955</td>\n",
       "      <td>2021-05-28 15:11:17+00:00</td>\n",
       "      <td>2021-05-28 15:12:11+00:00</td>\n",
       "      <td>54.0</td>\n",
       "    </tr>\n",
       "    <tr>\n",
       "      <th>11</th>\n",
       "      <td>0.101557</td>\n",
       "      <td>7.150939</td>\n",
       "      <td>3.0</td>\n",
       "      <td>4.0</td>\n",
       "      <td>0.847145</td>\n",
       "      <td>xgboost-210528-1501-009-3f52ef96</td>\n",
       "      <td>Completed</td>\n",
       "      <td>0.981061</td>\n",
       "      <td>2021-05-28 15:11:39+00:00</td>\n",
       "      <td>2021-05-28 15:12:28+00:00</td>\n",
       "      <td>49.0</td>\n",
       "    </tr>\n",
       "    <tr>\n",
       "      <th>5</th>\n",
       "      <td>0.483801</td>\n",
       "      <td>2.197756</td>\n",
       "      <td>7.0</td>\n",
       "      <td>6.0</td>\n",
       "      <td>0.547514</td>\n",
       "      <td>xgboost-210528-1501-015-8ccca8be</td>\n",
       "      <td>Completed</td>\n",
       "      <td>0.978220</td>\n",
       "      <td>2021-05-28 15:19:11+00:00</td>\n",
       "      <td>2021-05-28 15:20:15+00:00</td>\n",
       "      <td>64.0</td>\n",
       "    </tr>\n",
       "    <tr>\n",
       "      <th>6</th>\n",
       "      <td>0.242108</td>\n",
       "      <td>6.745347</td>\n",
       "      <td>7.0</td>\n",
       "      <td>5.0</td>\n",
       "      <td>0.812726</td>\n",
       "      <td>xgboost-210528-1501-014-182c5b02</td>\n",
       "      <td>Completed</td>\n",
       "      <td>0.978220</td>\n",
       "      <td>2021-05-28 15:18:57+00:00</td>\n",
       "      <td>2021-05-28 15:20:12+00:00</td>\n",
       "      <td>75.0</td>\n",
       "    </tr>\n",
       "    <tr>\n",
       "      <th>9</th>\n",
       "      <td>0.057884</td>\n",
       "      <td>9.459542</td>\n",
       "      <td>11.0</td>\n",
       "      <td>5.0</td>\n",
       "      <td>0.747931</td>\n",
       "      <td>xgboost-210528-1501-011-98097ec3</td>\n",
       "      <td>Completed</td>\n",
       "      <td>0.978220</td>\n",
       "      <td>2021-05-28 15:14:48+00:00</td>\n",
       "      <td>2021-05-28 15:16:06+00:00</td>\n",
       "      <td>78.0</td>\n",
       "    </tr>\n",
       "    <tr>\n",
       "      <th>0</th>\n",
       "      <td>0.306034</td>\n",
       "      <td>8.057785</td>\n",
       "      <td>9.0</td>\n",
       "      <td>5.0</td>\n",
       "      <td>0.776731</td>\n",
       "      <td>xgboost-210528-1501-020-bcdd6d1f</td>\n",
       "      <td>Completed</td>\n",
       "      <td>0.977273</td>\n",
       "      <td>2021-05-28 15:26:13+00:00</td>\n",
       "      <td>2021-05-28 15:27:01+00:00</td>\n",
       "      <td>48.0</td>\n",
       "    </tr>\n",
       "    <tr>\n",
       "      <th>13</th>\n",
       "      <td>0.434161</td>\n",
       "      <td>9.115627</td>\n",
       "      <td>7.0</td>\n",
       "      <td>7.0</td>\n",
       "      <td>0.812307</td>\n",
       "      <td>xgboost-210528-1501-007-69c60459</td>\n",
       "      <td>Completed</td>\n",
       "      <td>0.976326</td>\n",
       "      <td>2021-05-28 15:11:08+00:00</td>\n",
       "      <td>2021-05-28 15:12:14+00:00</td>\n",
       "      <td>66.0</td>\n",
       "    </tr>\n",
       "    <tr>\n",
       "      <th>15</th>\n",
       "      <td>0.468117</td>\n",
       "      <td>1.458199</td>\n",
       "      <td>7.0</td>\n",
       "      <td>7.0</td>\n",
       "      <td>0.661048</td>\n",
       "      <td>xgboost-210528-1501-005-94dd7cac</td>\n",
       "      <td>Completed</td>\n",
       "      <td>0.975379</td>\n",
       "      <td>2021-05-28 15:07:43+00:00</td>\n",
       "      <td>2021-05-28 15:08:35+00:00</td>\n",
       "      <td>52.0</td>\n",
       "    </tr>\n",
       "    <tr>\n",
       "      <th>19</th>\n",
       "      <td>0.499869</td>\n",
       "      <td>1.141142</td>\n",
       "      <td>12.0</td>\n",
       "      <td>6.0</td>\n",
       "      <td>0.598504</td>\n",
       "      <td>xgboost-210528-1501-001-a5b4baa0</td>\n",
       "      <td>Completed</td>\n",
       "      <td>0.975379</td>\n",
       "      <td>2021-05-28 15:03:42+00:00</td>\n",
       "      <td>2021-05-28 15:05:23+00:00</td>\n",
       "      <td>101.0</td>\n",
       "    </tr>\n",
       "    <tr>\n",
       "      <th>3</th>\n",
       "      <td>0.479618</td>\n",
       "      <td>9.158241</td>\n",
       "      <td>9.0</td>\n",
       "      <td>2.0</td>\n",
       "      <td>0.768453</td>\n",
       "      <td>xgboost-210528-1501-017-199eb98e</td>\n",
       "      <td>Completed</td>\n",
       "      <td>0.974432</td>\n",
       "      <td>2021-05-28 15:23:10+00:00</td>\n",
       "      <td>2021-05-28 15:24:10+00:00</td>\n",
       "      <td>60.0</td>\n",
       "    </tr>\n",
       "  </tbody>\n",
       "</table>\n",
       "</div>"
      ],
      "text/plain": [
       "         eta     gamma  max_depth  min_child_weight  subsample  \\\n",
       "8   0.307743  1.420271       10.0               4.0   0.683635   \n",
       "4   0.112137  1.625352       12.0               3.0   0.632354   \n",
       "17  0.143584  1.458683       12.0               7.0   0.738983   \n",
       "2   0.235856  0.329778        3.0               8.0   0.858008   \n",
       "18  0.295802  3.443633        9.0               6.0   0.774210   \n",
       "14  0.300690  1.927886       12.0               5.0   0.651357   \n",
       "10  0.431750  5.897734        6.0               6.0   0.741277   \n",
       "16  0.127207  0.513637       11.0               7.0   0.868591   \n",
       "1   0.467145  8.040096        5.0               5.0   0.786895   \n",
       "7   0.142754  4.277752        5.0               4.0   0.787875   \n",
       "12  0.205241  2.274901       11.0               6.0   0.736567   \n",
       "11  0.101557  7.150939        3.0               4.0   0.847145   \n",
       "5   0.483801  2.197756        7.0               6.0   0.547514   \n",
       "6   0.242108  6.745347        7.0               5.0   0.812726   \n",
       "9   0.057884  9.459542       11.0               5.0   0.747931   \n",
       "0   0.306034  8.057785        9.0               5.0   0.776731   \n",
       "13  0.434161  9.115627        7.0               7.0   0.812307   \n",
       "15  0.468117  1.458199        7.0               7.0   0.661048   \n",
       "19  0.499869  1.141142       12.0               6.0   0.598504   \n",
       "3   0.479618  9.158241        9.0               2.0   0.768453   \n",
       "\n",
       "                     TrainingJobName TrainingJobStatus  FinalObjectiveValue  \\\n",
       "8   xgboost-210528-1501-012-d54f808c         Completed             0.991477   \n",
       "4   xgboost-210528-1501-016-72ca0c57         Completed             0.989583   \n",
       "17  xgboost-210528-1501-003-8a7091a3         Completed             0.987689   \n",
       "2   xgboost-210528-1501-018-61d5e913         Completed             0.984848   \n",
       "18  xgboost-210528-1501-002-bf2bf8c9         Completed             0.984848   \n",
       "14  xgboost-210528-1501-006-1d2d3a57         Completed             0.984848   \n",
       "10  xgboost-210528-1501-010-b4955123         Completed             0.983902   \n",
       "16  xgboost-210528-1501-004-06530098         Completed             0.983902   \n",
       "1   xgboost-210528-1501-019-335e3111         Completed             0.983902   \n",
       "7   xgboost-210528-1501-013-6e225690         Completed             0.982955   \n",
       "12  xgboost-210528-1501-008-108423b8         Completed             0.982955   \n",
       "11  xgboost-210528-1501-009-3f52ef96         Completed             0.981061   \n",
       "5   xgboost-210528-1501-015-8ccca8be         Completed             0.978220   \n",
       "6   xgboost-210528-1501-014-182c5b02         Completed             0.978220   \n",
       "9   xgboost-210528-1501-011-98097ec3         Completed             0.978220   \n",
       "0   xgboost-210528-1501-020-bcdd6d1f         Completed             0.977273   \n",
       "13  xgboost-210528-1501-007-69c60459         Completed             0.976326   \n",
       "15  xgboost-210528-1501-005-94dd7cac         Completed             0.975379   \n",
       "19  xgboost-210528-1501-001-a5b4baa0         Completed             0.975379   \n",
       "3   xgboost-210528-1501-017-199eb98e         Completed             0.974432   \n",
       "\n",
       "           TrainingStartTime           TrainingEndTime  \\\n",
       "8  2021-05-28 15:15:01+00:00 2021-05-28 15:16:20+00:00   \n",
       "4  2021-05-28 15:22:41+00:00 2021-05-28 15:23:29+00:00   \n",
       "17 2021-05-28 15:03:41+00:00 2021-05-28 15:05:04+00:00   \n",
       "2  2021-05-28 15:22:50+00:00 2021-05-28 15:23:38+00:00   \n",
       "18 2021-05-28 15:03:54+00:00 2021-05-28 15:04:47+00:00   \n",
       "14 2021-05-28 15:07:57+00:00 2021-05-28 15:08:46+00:00   \n",
       "10 2021-05-28 15:14:41+00:00 2021-05-28 15:15:34+00:00   \n",
       "16 2021-05-28 15:07:30+00:00 2021-05-28 15:08:49+00:00   \n",
       "1  2021-05-28 15:26:18+00:00 2021-05-28 15:27:11+00:00   \n",
       "7  2021-05-28 15:18:36+00:00 2021-05-28 15:19:39+00:00   \n",
       "12 2021-05-28 15:11:17+00:00 2021-05-28 15:12:11+00:00   \n",
       "11 2021-05-28 15:11:39+00:00 2021-05-28 15:12:28+00:00   \n",
       "5  2021-05-28 15:19:11+00:00 2021-05-28 15:20:15+00:00   \n",
       "6  2021-05-28 15:18:57+00:00 2021-05-28 15:20:12+00:00   \n",
       "9  2021-05-28 15:14:48+00:00 2021-05-28 15:16:06+00:00   \n",
       "0  2021-05-28 15:26:13+00:00 2021-05-28 15:27:01+00:00   \n",
       "13 2021-05-28 15:11:08+00:00 2021-05-28 15:12:14+00:00   \n",
       "15 2021-05-28 15:07:43+00:00 2021-05-28 15:08:35+00:00   \n",
       "19 2021-05-28 15:03:42+00:00 2021-05-28 15:05:23+00:00   \n",
       "3  2021-05-28 15:23:10+00:00 2021-05-28 15:24:10+00:00   \n",
       "\n",
       "    TrainingElapsedTimeSeconds  \n",
       "8                         79.0  \n",
       "4                         48.0  \n",
       "17                        83.0  \n",
       "2                         48.0  \n",
       "18                        53.0  \n",
       "14                        49.0  \n",
       "10                        53.0  \n",
       "16                        79.0  \n",
       "1                         53.0  \n",
       "7                         63.0  \n",
       "12                        54.0  \n",
       "11                        49.0  \n",
       "5                         64.0  \n",
       "6                         75.0  \n",
       "9                         78.0  \n",
       "0                         48.0  \n",
       "13                        66.0  \n",
       "15                        52.0  \n",
       "19                       101.0  \n",
       "3                         60.0  "
      ]
     },
     "execution_count": 23,
     "metadata": {},
     "output_type": "execute_result"
    }
   ],
   "source": [
    "## Get a DataFrame of all models:\n",
    "df_tune = sagemaker.HyperparameterTuningJobAnalytics(xgb_hyperparameter_tuner.latest_tuning_job.job_name).dataframe()\n",
    "df_tune.sort_values(by=\"FinalObjectiveValue\", ascending=False, inplace=True)\n",
    "df_tune"
   ]
  },
  {
   "cell_type": "code",
   "execution_count": 24,
   "id": "61622b89",
   "metadata": {},
   "outputs": [],
   "source": [
    "## Download a copy of the tuning results:\n",
    "directS3Save(df_tune, bucket, \"assets/tnbc-xgboost/xgboost-tuning-results.csv\")"
   ]
  },
  {
   "cell_type": "markdown",
   "id": "cc33265d",
   "metadata": {},
   "source": [
    "## Step 4. Evaluate the Trained Model"
   ]
  },
  {
   "cell_type": "markdown",
   "id": "21d2d050",
   "metadata": {},
   "source": [
    "### Apply the best model to the hold-out Test Set"
   ]
  },
  {
   "cell_type": "code",
   "execution_count": 25,
   "id": "143067ad",
   "metadata": {},
   "outputs": [
    {
     "name": "stderr",
     "output_type": "stream",
     "text": [
      "Parameter image_name will be renamed to image_uri in SageMaker Python SDK v2.\n"
     ]
    },
    {
     "name": "stdout",
     "output_type": "stream",
     "text": [
      "2021-05-28 15:16:20 Starting - Preparing the instances for training\n",
      "2021-05-28 15:16:20 Downloading - Downloading input data\n",
      "2021-05-28 15:16:20 Training - Training image download completed. Training in progress.\n",
      "2021-05-28 15:16:20 Uploading - Uploading generated training model\n",
      "2021-05-28 15:16:20 Completed - Training job completed\u001b[34mArguments: train\u001b[0m\n",
      "\u001b[34m[2021-05-28:15:16:08:INFO] Running standalone xgboost training.\u001b[0m\n",
      "\u001b[34m[2021-05-28:15:16:08:INFO] Setting up HPO optimized metric to be : auc\u001b[0m\n",
      "\u001b[34m[2021-05-28:15:16:08:INFO] File size need to be processed in the node: 0.23mb. Available memory size in the node: 8423.67mb\u001b[0m\n",
      "\u001b[34m[2021-05-28:15:16:08:INFO] Determined delimiter of CSV input is ','\u001b[0m\n",
      "\u001b[34m[15:16:08] S3DistributionType set as FullyReplicated\u001b[0m\n",
      "\u001b[34m[15:16:08] 799x33 matrix with 26367 entries loaded from /opt/ml/input/data/train?format=csv&label_column=0&delimiter=,\u001b[0m\n",
      "\u001b[34m[2021-05-28:15:16:08:INFO] Determined delimiter of CSV input is ','\u001b[0m\n",
      "\u001b[34m[15:16:08] S3DistributionType set as FullyReplicated\u001b[0m\n",
      "\u001b[34m[15:16:08] 100x33 matrix with 3300 entries loaded from /opt/ml/input/data/validation?format=csv&label_column=0&delimiter=,\u001b[0m\n",
      "\u001b[34m[15:16:08] src/tree/updater_prune.cc:74: tree pruning end, 1 roots, 10 extra nodes, 0 pruned nodes, max_depth=3\u001b[0m\n",
      "\u001b[34m[0]#011train-auc:0.936159#011validation-auc:0.934186\u001b[0m\n",
      "\u001b[34mMultiple eval metrics have been passed: 'validation-auc' will be used for early stopping.\n",
      "\u001b[0m\n",
      "\u001b[34mWill train until validation-auc hasn't improved in 10 rounds.\u001b[0m\n",
      "\u001b[34m[15:16:08] src/tree/updater_prune.cc:74: tree pruning end, 1 roots, 8 extra nodes, 2 pruned nodes, max_depth=3\u001b[0m\n",
      "\u001b[34m[1]#011train-auc:0.968675#011validation-auc:0.958333\u001b[0m\n",
      "\u001b[34m[15:16:08] src/tree/updater_prune.cc:74: tree pruning end, 1 roots, 8 extra nodes, 4 pruned nodes, max_depth=3\u001b[0m\n",
      "\u001b[34m[2]#011train-auc:0.978691#011validation-auc:0.96875\u001b[0m\n",
      "\u001b[34m[15:16:08] src/tree/updater_prune.cc:74: tree pruning end, 1 roots, 6 extra nodes, 2 pruned nodes, max_depth=3\u001b[0m\n",
      "\u001b[34m[3]#011train-auc:0.979821#011validation-auc:0.97964\u001b[0m\n",
      "\u001b[34m[15:16:08] src/tree/updater_prune.cc:74: tree pruning end, 1 roots, 12 extra nodes, 0 pruned nodes, max_depth=4\u001b[0m\n",
      "\u001b[34m[4]#011train-auc:0.986594#011validation-auc:0.974432\u001b[0m\n",
      "\u001b[34m[15:16:08] src/tree/updater_prune.cc:74: tree pruning end, 1 roots, 8 extra nodes, 0 pruned nodes, max_depth=3\u001b[0m\n",
      "\u001b[34m[5]#011train-auc:0.987885#011validation-auc:0.975379\u001b[0m\n",
      "\u001b[34m[15:16:08] src/tree/updater_prune.cc:74: tree pruning end, 1 roots, 6 extra nodes, 0 pruned nodes, max_depth=3\u001b[0m\n",
      "\u001b[34m[6]#011train-auc:0.988977#011validation-auc:0.977273\u001b[0m\n",
      "\u001b[34m[15:16:08] src/tree/updater_prune.cc:74: tree pruning end, 1 roots, 8 extra nodes, 0 pruned nodes, max_depth=3\u001b[0m\n",
      "\u001b[34m[7]#011train-auc:0.989638#011validation-auc:0.977273\u001b[0m\n",
      "\u001b[34m[15:16:08] src/tree/updater_prune.cc:74: tree pruning end, 1 roots, 8 extra nodes, 0 pruned nodes, max_depth=3\u001b[0m\n",
      "\u001b[34m[8]#011train-auc:0.988954#011validation-auc:0.981061\u001b[0m\n",
      "\u001b[34m[15:16:08] src/tree/updater_prune.cc:74: tree pruning end, 1 roots, 6 extra nodes, 0 pruned nodes, max_depth=3\u001b[0m\n",
      "\u001b[34m[9]#011train-auc:0.990107#011validation-auc:0.982008\u001b[0m\n",
      "\u001b[34m[15:16:08] src/tree/updater_prune.cc:74: tree pruning end, 1 roots, 10 extra nodes, 0 pruned nodes, max_depth=4\u001b[0m\n",
      "\u001b[34m[10]#011train-auc:0.991406#011validation-auc:0.979167\u001b[0m\n",
      "\u001b[34m[15:16:08] src/tree/updater_prune.cc:74: tree pruning end, 1 roots, 6 extra nodes, 2 pruned nodes, max_depth=3\u001b[0m\n",
      "\u001b[34m[11]#011train-auc:0.99159#011validation-auc:0.982008\u001b[0m\n",
      "\u001b[34m[15:16:08] src/tree/updater_prune.cc:74: tree pruning end, 1 roots, 6 extra nodes, 0 pruned nodes, max_depth=3\u001b[0m\n",
      "\u001b[34m[12]#011train-auc:0.992605#011validation-auc:0.982955\u001b[0m\n",
      "\u001b[34m[15:16:08] src/tree/updater_prune.cc:74: tree pruning end, 1 roots, 6 extra nodes, 2 pruned nodes, max_depth=3\u001b[0m\n",
      "\u001b[34m[13]#011train-auc:0.992713#011validation-auc:0.981061\u001b[0m\n",
      "\u001b[34m[15:16:08] src/tree/updater_prune.cc:74: tree pruning end, 1 roots, 4 extra nodes, 2 pruned nodes, max_depth=2\u001b[0m\n",
      "\u001b[34m[14]#011train-auc:0.992651#011validation-auc:0.980114\u001b[0m\n",
      "\u001b[34m[15:16:08] src/tree/updater_prune.cc:74: tree pruning end, 1 roots, 6 extra nodes, 0 pruned nodes, max_depth=3\u001b[0m\n",
      "\u001b[34m[15]#011train-auc:0.993697#011validation-auc:0.982008\u001b[0m\n",
      "\u001b[34m[15:16:08] src/tree/updater_prune.cc:74: tree pruning end, 1 roots, 6 extra nodes, 0 pruned nodes, max_depth=3\u001b[0m\n",
      "\u001b[34m[16]#011train-auc:0.994142#011validation-auc:0.984848\u001b[0m\n",
      "\u001b[34m[15:16:08] src/tree/updater_prune.cc:74: tree pruning end, 1 roots, 4 extra nodes, 0 pruned nodes, max_depth=2\u001b[0m\n",
      "\u001b[34m[17]#011train-auc:0.994235#011validation-auc:0.986742\u001b[0m\n",
      "\u001b[34m[15:16:08] src/tree/updater_prune.cc:74: tree pruning end, 1 roots, 6 extra nodes, 0 pruned nodes, max_depth=2\u001b[0m\n",
      "\u001b[34m[18]#011train-auc:0.994834#011validation-auc:0.985795\u001b[0m\n",
      "\u001b[34m[15:16:08] src/tree/updater_prune.cc:74: tree pruning end, 1 roots, 4 extra nodes, 0 pruned nodes, max_depth=2\u001b[0m\n",
      "\u001b[34m[19]#011train-auc:0.99485#011validation-auc:0.984848\u001b[0m\n",
      "\u001b[34m[15:16:08] src/tree/updater_prune.cc:74: tree pruning end, 1 roots, 4 extra nodes, 2 pruned nodes, max_depth=2\u001b[0m\n",
      "\u001b[34m[20]#011train-auc:0.995434#011validation-auc:0.984848\u001b[0m\n",
      "\u001b[34m[15:16:08] src/tree/updater_prune.cc:74: tree pruning end, 1 roots, 4 extra nodes, 2 pruned nodes, max_depth=2\u001b[0m\n",
      "\u001b[34m[21]#011train-auc:0.995203#011validation-auc:0.986742\u001b[0m\n",
      "\u001b[34m[15:16:08] src/tree/updater_prune.cc:74: tree pruning end, 1 roots, 4 extra nodes, 0 pruned nodes, max_depth=2\u001b[0m\n",
      "\u001b[34m[22]#011train-auc:0.995311#011validation-auc:0.988636\u001b[0m\n",
      "\u001b[34m[15:16:08] src/tree/updater_prune.cc:74: tree pruning end, 1 roots, 2 extra nodes, 2 pruned nodes, max_depth=1\u001b[0m\n",
      "\u001b[34m[23]#011train-auc:0.995311#011validation-auc:0.987689\u001b[0m\n",
      "\u001b[34m[15:16:08] src/tree/updater_prune.cc:74: tree pruning end, 1 roots, 4 extra nodes, 0 pruned nodes, max_depth=2\u001b[0m\n",
      "\u001b[34m[24]#011train-auc:0.995311#011validation-auc:0.988636\u001b[0m\n",
      "\u001b[34m[15:16:08] src/tree/updater_prune.cc:74: tree pruning end, 1 roots, 4 extra nodes, 0 pruned nodes, max_depth=2\u001b[0m\n",
      "\u001b[34m[25]#011train-auc:0.995065#011validation-auc:0.988636\u001b[0m\n",
      "\u001b[34m[15:16:08] src/tree/updater_prune.cc:74: tree pruning end, 1 roots, 4 extra nodes, 0 pruned nodes, max_depth=2\u001b[0m\n",
      "\u001b[34m[26]#011train-auc:0.995234#011validation-auc:0.986742\u001b[0m\n",
      "\u001b[34m[15:16:08] src/tree/updater_prune.cc:74: tree pruning end, 1 roots, 2 extra nodes, 0 pruned nodes, max_depth=1\u001b[0m\n",
      "\u001b[34m[27]#011train-auc:0.995096#011validation-auc:0.987689\u001b[0m\n",
      "\u001b[34m[15:16:08] src/tree/updater_prune.cc:74: tree pruning end, 1 roots, 2 extra nodes, 2 pruned nodes, max_depth=1\u001b[0m\n",
      "\u001b[34m[28]#011train-auc:0.995203#011validation-auc:0.988636\u001b[0m\n",
      "\u001b[34m[15:16:08] src/tree/updater_prune.cc:74: tree pruning end, 1 roots, 2 extra nodes, 0 pruned nodes, max_depth=1\u001b[0m\n",
      "\u001b[34m[29]#011train-auc:0.995295#011validation-auc:0.99053\u001b[0m\n",
      "\u001b[34m[15:16:08] src/tree/updater_prune.cc:74: tree pruning end, 1 roots, 4 extra nodes, 0 pruned nodes, max_depth=2\u001b[0m\n",
      "\u001b[34m[30]#011train-auc:0.995834#011validation-auc:0.99053\u001b[0m\n",
      "\u001b[34m[15:16:08] src/tree/updater_prune.cc:74: tree pruning end, 1 roots, 4 extra nodes, 0 pruned nodes, max_depth=2\u001b[0m\n",
      "\u001b[34m[31]#011train-auc:0.995972#011validation-auc:0.989583\u001b[0m\n",
      "\u001b[34m[15:16:08] src/tree/updater_prune.cc:74: tree pruning end, 1 roots, 4 extra nodes, 0 pruned nodes, max_depth=2\u001b[0m\n",
      "\u001b[34m[32]#011train-auc:0.996356#011validation-auc:0.991477\u001b[0m\n",
      "\u001b[34m[15:16:08] src/tree/updater_prune.cc:74: tree pruning end, 1 roots, 2 extra nodes, 0 pruned nodes, max_depth=1\u001b[0m\n",
      "\u001b[34m[33]#011train-auc:0.996433#011validation-auc:0.991477\u001b[0m\n",
      "\u001b[34m[15:16:08] src/tree/updater_prune.cc:74: tree pruning end, 1 roots, 2 extra nodes, 0 pruned nodes, max_depth=1\u001b[0m\n",
      "\u001b[34m[34]#011train-auc:0.996295#011validation-auc:0.991477\u001b[0m\n",
      "\u001b[34m[15:16:08] src/tree/updater_prune.cc:74: tree pruning end, 1 roots, 4 extra nodes, 0 pruned nodes, max_depth=2\u001b[0m\n",
      "\u001b[34m[35]#011train-auc:0.996295#011validation-auc:0.989583\u001b[0m\n",
      "\u001b[34m[15:16:08] src/tree/updater_prune.cc:74: tree pruning end, 1 roots, 2 extra nodes, 0 pruned nodes, max_depth=1\u001b[0m\n",
      "\u001b[34m[36]#011train-auc:0.996341#011validation-auc:0.99053\u001b[0m\n",
      "\u001b[34m[15:16:08] src/tree/updater_prune.cc:74: tree pruning end, 1 roots, 4 extra nodes, 0 pruned nodes, max_depth=2\u001b[0m\n",
      "\u001b[34m[37]#011train-auc:0.996572#011validation-auc:0.989583\u001b[0m\n",
      "\u001b[34m[15:16:08] src/tree/updater_prune.cc:74: tree pruning end, 1 roots, 2 extra nodes, 0 pruned nodes, max_depth=1\u001b[0m\n",
      "\u001b[34m[38]#011train-auc:0.996725#011validation-auc:0.989583\u001b[0m\n",
      "\u001b[34m[15:16:08] src/tree/updater_prune.cc:74: tree pruning end, 1 roots, 2 extra nodes, 2 pruned nodes, max_depth=1\u001b[0m\n",
      "\u001b[34m[39]#011train-auc:0.996725#011validation-auc:0.99053\u001b[0m\n",
      "\u001b[34m[15:16:08] src/tree/updater_prune.cc:74: tree pruning end, 1 roots, 2 extra nodes, 0 pruned nodes, max_depth=1\u001b[0m\n",
      "\u001b[34m[40]#011train-auc:0.996864#011validation-auc:0.991477\u001b[0m\n",
      "\u001b[34m[15:16:08] src/tree/updater_prune.cc:74: tree pruning end, 1 roots, 4 extra nodes, 0 pruned nodes, max_depth=2\u001b[0m\n",
      "\u001b[34m[41]#011train-auc:0.996848#011validation-auc:0.99053\u001b[0m\n",
      "\u001b[34m[15:16:08] src/tree/updater_prune.cc:74: tree pruning end, 1 roots, 0 extra nodes, 2 pruned nodes, max_depth=0\u001b[0m\n",
      "\u001b[34m[42]#011train-auc:0.996848#011validation-auc:0.99053\u001b[0m\n",
      "\u001b[34mStopping. Best iteration:\u001b[0m\n",
      "\u001b[34m[32]#011train-auc:0.996356#011validation-auc:0.991477\n",
      "\u001b[0m\n",
      "Training seconds: 79\n",
      "Billable seconds: 79\n"
     ]
    }
   ],
   "source": [
    "xgb_attached = sagemaker.estimator.Estimator.attach(xgb_hyperparameter_tuner.best_training_job())"
   ]
  },
  {
   "cell_type": "code",
   "execution_count": 26,
   "id": "03ef01e9",
   "metadata": {},
   "outputs": [
    {
     "name": "stderr",
     "output_type": "stream",
     "text": [
      "Parameter image will be renamed to image_uri in SageMaker Python SDK v2.\n"
     ]
    }
   ],
   "source": [
    "xgb_transformer = xgb_attached.transformer(instance_count=1, instance_type='ml.m4.xlarge')"
   ]
  },
  {
   "cell_type": "code",
   "execution_count": 27,
   "id": "5f77f81f",
   "metadata": {},
   "outputs": [],
   "source": [
    "## The syntax for inference is unique from training-validation:\n",
    "xgb_transformer.transform(\n",
    "    get_s3_uri(os.path.join(prefix,\"test.csv\"), bucket),\n",
    "    content_type = 'text/csv', \n",
    "    split_type = 'Line'\n",
    ")"
   ]
  },
  {
   "cell_type": "code",
   "execution_count": 28,
   "id": "dbb086d0",
   "metadata": {
    "scrolled": true
   },
   "outputs": [
    {
     "name": "stdout",
     "output_type": "stream",
     "text": [
      "..............................\n",
      "\u001b[34mArguments: serve\u001b[0m\n",
      "\u001b[34m[2021-05-28 15:33:17 +0000] [1] [INFO] Starting gunicorn 19.9.0\u001b[0m\n",
      "\u001b[34m[2021-05-28 15:33:17 +0000] [1] [INFO] Listening at: http://0.0.0.0:8080 (1)\u001b[0m\n",
      "\u001b[34m[2021-05-28 15:33:17 +0000] [1] [INFO] Using worker: gevent\u001b[0m\n",
      "\u001b[34m[2021-05-28 15:33:17 +0000] [20] [INFO] Booting worker with pid: 20\u001b[0m\n",
      "\u001b[34m[2021-05-28 15:33:17 +0000] [21] [INFO] Booting worker with pid: 21\u001b[0m\n",
      "\u001b[34m/opt/amazon/lib/python3.7/site-packages/gunicorn/workers/ggevent.py:65: MonkeyPatchWarning: Monkey-patching ssl after ssl has already been imported may lead to errors, including RecursionError on Python 3.6. It may also silently lead to incorrect behaviour on Python 3.7. Please monkey-patch earlier. See https://github.com/gevent/gevent/issues/1016. Modules that had direct imports (NOT patched): ['urllib3.util.ssl_ (/opt/amazon/lib/python3.7/site-packages/urllib3/util/ssl_.py)', 'urllib3.util (/opt/amazon/lib/python3.7/site-packages/urllib3/util/__init__.py)']. \n",
      "  monkey.patch_all(subprocess=True)\u001b[0m\n",
      "\u001b[34m[2021-05-28:15:33:17:INFO] Model loaded successfully for worker : 20\u001b[0m\n",
      "\u001b[34m[2021-05-28 15:33:17 +0000] [22] [INFO] Booting worker with pid: 22\u001b[0m\n",
      "\u001b[34m/opt/amazon/lib/python3.7/site-packages/gunicorn/workers/ggevent.py:65: MonkeyPatchWarning: Monkey-patching ssl after ssl has already been imported may lead to errors, including RecursionError on Python 3.6. It may also silently lead to incorrect behaviour on Python 3.7. Please monkey-patch earlier. See https://github.com/gevent/gevent/issues/1016. Modules that had direct imports (NOT patched): ['urllib3.util.ssl_ (/opt/amazon/lib/python3.7/site-packages/urllib3/util/ssl_.py)', 'urllib3.util (/opt/amazon/lib/python3.7/site-packages/urllib3/util/__init__.py)']. \n",
      "  monkey.patch_all(subprocess=True)\u001b[0m\n",
      "\u001b[34m[2021-05-28:15:33:17:INFO] Model loaded successfully for worker : 21\u001b[0m\n",
      "\u001b[34m[2021-05-28 15:33:17 +0000] [23] [INFO] Booting worker with pid: 23\u001b[0m\n",
      "\u001b[34m/opt/amazon/lib/python3.7/site-packages/gunicorn/workers/ggevent.py:65: MonkeyPatchWarning: Monkey-patching ssl after ssl has already been imported may lead to errors, including RecursionError on Python 3.6. It may also silently lead to incorrect behaviour on Python 3.7. Please monkey-patch earlier. See https://github.com/gevent/gevent/issues/1016. Modules that had direct imports (NOT patched): ['urllib3.util.ssl_ (/opt/amazon/lib/python3.7/site-packages/urllib3/util/ssl_.py)', 'urllib3.util (/opt/amazon/lib/python3.7/site-packages/urllib3/util/__init__.py)']. \n",
      "  monkey.patch_all(subprocess=True)\u001b[0m\n",
      "\u001b[34m[2021-05-28:15:33:17:INFO] Model loaded successfully for worker : 22\u001b[0m\n",
      "\u001b[34m/opt/amazon/lib/python3.7/site-packages/gunicorn/workers/ggevent.py:65: MonkeyPatchWarning: Monkey-patching ssl after ssl has already been imported may lead to errors, including RecursionError on Python 3.6. It may also silently lead to incorrect behaviour on Python 3.7. Please monkey-patch earlier. See https://github.com/gevent/gevent/issues/1016. Modules that had direct imports (NOT patched): ['urllib3.util.ssl_ (/opt/amazon/lib/python3.7/site-packages/urllib3/util/ssl_.py)', 'urllib3.util (/opt/amazon/lib/python3.7/site-packages/urllib3/util/__init__.py)']. \n",
      "  monkey.patch_all(subprocess=True)\u001b[0m\n",
      "\u001b[34m[2021-05-28:15:33:17:INFO] Model loaded successfully for worker : 23\u001b[0m\n",
      "\u001b[34m[2021-05-28:15:33:21:INFO] Sniff delimiter as ','\u001b[0m\n",
      "\u001b[34m[2021-05-28:15:33:21:INFO] Determined delimiter of CSV input is ','\u001b[0m\n",
      "\u001b[32m2021-05-28T15:33:20.915:[sagemaker logs]: MaxConcurrentTransforms=4, MaxPayloadInMB=6, BatchStrategy=MULTI_RECORD\u001b[0m\n"
     ]
    }
   ],
   "source": [
    "xgb_transformer.wait()"
   ]
  },
  {
   "cell_type": "code",
   "execution_count": 29,
   "id": "c933c0de",
   "metadata": {},
   "outputs": [],
   "source": [
    "## Magick-copy XGBoost inference output to specified directory accessible by Notebook\n",
    "data_dir = './'"
   ]
  },
  {
   "cell_type": "code",
   "execution_count": 30,
   "id": "071ec96e",
   "metadata": {},
   "outputs": [
    {
     "name": "stdout",
     "output_type": "stream",
     "text": [
      "Completed 2.0 KiB/2.0 KiB (26.9 KiB/s) with 1 file(s) remaining\r",
      "download: s3://sagemaker-us-west-1-644307290749/xgboost-210528-1501-012-d54f808c-2021-05-28-15-28-24-031/test.csv.out to ./test.csv.out\r\n"
     ]
    }
   ],
   "source": [
    "!aws s3 cp --recursive $xgb_transformer.output_path $data_dir"
   ]
  },
  {
   "cell_type": "markdown",
   "id": "895e0287",
   "metadata": {},
   "source": [
    "### Show evaluation metrics on the hold-out Test Set"
   ]
  },
  {
   "cell_type": "code",
   "execution_count": 31,
   "id": "14bdfbc2",
   "metadata": {},
   "outputs": [],
   "source": [
    "yTestScore = pd.read_csv(os.path.join(data_dir, 'test.csv.out'), header=None)"
   ]
  },
  {
   "cell_type": "code",
   "execution_count": 32,
   "id": "a4a6bb30",
   "metadata": {},
   "outputs": [],
   "source": [
    "yTestPred = (yTestScore > 0.5).astype(int)"
   ]
  },
  {
   "cell_type": "code",
   "execution_count": 33,
   "id": "9d5d18ae",
   "metadata": {},
   "outputs": [
    {
     "name": "stdout",
     "output_type": "stream",
     "text": [
      "              precision    recall  f1-score   support\n",
      "\n",
      "           0       0.97      0.94      0.95        89\n",
      "           1       0.62      0.73      0.67        11\n",
      "\n",
      "    accuracy                           0.92       100\n",
      "   macro avg       0.79      0.84      0.81       100\n",
      "weighted avg       0.93      0.92      0.92       100\n",
      "\n"
     ]
    }
   ],
   "source": [
    "from sklearn import metrics\n",
    "\n",
    "## Table of classification metrics\n",
    "print(metrics.classification_report(ytest, yTestPred))"
   ]
  },
  {
   "cell_type": "code",
   "execution_count": 34,
   "id": "1247a2d8",
   "metadata": {},
   "outputs": [
    {
     "data": {
      "text/plain": [
       "array([[84,  5],\n",
       "       [ 3,  8]])"
      ]
     },
     "execution_count": 34,
     "metadata": {},
     "output_type": "execute_result"
    }
   ],
   "source": [
    "## Confusion matrix\n",
    "metrics.confusion_matrix(ytest, yTestPred)"
   ]
  },
  {
   "cell_type": "code",
   "execution_count": 35,
   "id": "0ef872e4",
   "metadata": {},
   "outputs": [
    {
     "data": {
      "image/png": "[encoded data removed]",
      "text/plain": [
       "<Figure size 600x400 with 1 Axes>"
      ]
     },
     "metadata": {
      "needs_background": "light"
     },
     "output_type": "display_data"
    }
   ],
   "source": [
    "plot_roc(ytest, yTestScore)"
   ]
  },
  {
   "cell_type": "code",
   "execution_count": null,
   "id": "ebb11cf7",
   "metadata": {},
   "outputs": [],
   "source": []
  }
 ],
 "metadata": {
  "kernelspec": {
   "display_name": "conda_pytorch_p36",
   "language": "python",
   "name": "conda_pytorch_p36"
  },
  "language_info": {
   "codemirror_mode": {
    "name": "ipython",
    "version": 3
   },
   "file_extension": ".py",
   "mimetype": "text/x-python",
   "name": "python",
   "nbconvert_exporter": "python",
   "pygments_lexer": "ipython3",
   "version": "3.6.13"
  }
 },
 "nbformat": 4,
 "nbformat_minor": 5
}
