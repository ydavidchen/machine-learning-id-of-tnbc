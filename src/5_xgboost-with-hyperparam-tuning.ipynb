{
 "cells": [
  {
   "cell_type": "markdown",
   "id": "953df3bb",
   "metadata": {},
   "source": [
    "# Project Notebook V: Supervised Learning with Sagemaker XGBoost with Hyperparameter Tuning\n",
    "\n",
    "David Chen"
   ]
  },
  {
   "cell_type": "code",
   "execution_count": 1,
   "id": "a20e1146",
   "metadata": {
    "scrolled": true
   },
   "outputs": [
    {
     "name": "stdout",
     "output_type": "stream",
     "text": [
      "Collecting sagemaker==1.72.0\n",
      "  Downloading sagemaker-1.72.0.tar.gz (297 kB)\n",
      "\u001b[K     |████████████████████████████████| 297 kB 19.8 MB/s eta 0:00:01\n",
      "\u001b[?25hRequirement already satisfied: boto3>=1.14.12 in /home/ec2-user/anaconda3/envs/pytorch_p36/lib/python3.6/site-packages (from sagemaker==1.72.0) (1.17.76)\n",
      "Requirement already satisfied: numpy>=1.9.0 in /home/ec2-user/anaconda3/envs/pytorch_p36/lib/python3.6/site-packages (from sagemaker==1.72.0) (1.19.5)\n",
      "Requirement already satisfied: protobuf>=3.1 in /home/ec2-user/anaconda3/envs/pytorch_p36/lib/python3.6/site-packages (from sagemaker==1.72.0) (3.15.2)\n",
      "Requirement already satisfied: scipy>=0.19.0 in /home/ec2-user/anaconda3/envs/pytorch_p36/lib/python3.6/site-packages (from sagemaker==1.72.0) (1.5.3)\n",
      "Requirement already satisfied: protobuf3-to-dict>=0.1.5 in /home/ec2-user/anaconda3/envs/pytorch_p36/lib/python3.6/site-packages (from sagemaker==1.72.0) (0.1.5)\n",
      "Collecting smdebug-rulesconfig==0.1.4\n",
      "  Downloading smdebug_rulesconfig-0.1.4-py2.py3-none-any.whl (10 kB)\n",
      "Requirement already satisfied: importlib-metadata>=1.4.0 in /home/ec2-user/anaconda3/envs/pytorch_p36/lib/python3.6/site-packages (from sagemaker==1.72.0) (3.7.0)\n",
      "Requirement already satisfied: packaging>=20.0 in /home/ec2-user/anaconda3/envs/pytorch_p36/lib/python3.6/site-packages (from sagemaker==1.72.0) (20.9)\n",
      "Requirement already satisfied: botocore<1.21.0,>=1.20.76 in /home/ec2-user/anaconda3/envs/pytorch_p36/lib/python3.6/site-packages (from boto3>=1.14.12->sagemaker==1.72.0) (1.20.76)\n",
      "Requirement already satisfied: jmespath<1.0.0,>=0.7.1 in /home/ec2-user/anaconda3/envs/pytorch_p36/lib/python3.6/site-packages (from boto3>=1.14.12->sagemaker==1.72.0) (0.10.0)\n",
      "Requirement already satisfied: s3transfer<0.5.0,>=0.4.0 in /home/ec2-user/anaconda3/envs/pytorch_p36/lib/python3.6/site-packages (from boto3>=1.14.12->sagemaker==1.72.0) (0.4.2)\n",
      "Requirement already satisfied: urllib3<1.27,>=1.25.4 in /home/ec2-user/anaconda3/envs/pytorch_p36/lib/python3.6/site-packages (from botocore<1.21.0,>=1.20.76->boto3>=1.14.12->sagemaker==1.72.0) (1.26.4)\n",
      "Requirement already satisfied: python-dateutil<3.0.0,>=2.1 in /home/ec2-user/anaconda3/envs/pytorch_p36/lib/python3.6/site-packages (from botocore<1.21.0,>=1.20.76->boto3>=1.14.12->sagemaker==1.72.0) (2.8.1)\n",
      "Requirement already satisfied: typing-extensions>=3.6.4 in /home/ec2-user/anaconda3/envs/pytorch_p36/lib/python3.6/site-packages (from importlib-metadata>=1.4.0->sagemaker==1.72.0) (3.7.4.3)\n",
      "Requirement already satisfied: zipp>=0.5 in /home/ec2-user/anaconda3/envs/pytorch_p36/lib/python3.6/site-packages (from importlib-metadata>=1.4.0->sagemaker==1.72.0) (3.4.0)\n",
      "Requirement already satisfied: pyparsing>=2.0.2 in /home/ec2-user/anaconda3/envs/pytorch_p36/lib/python3.6/site-packages (from packaging>=20.0->sagemaker==1.72.0) (2.4.7)\n",
      "Requirement already satisfied: six>=1.9 in /home/ec2-user/anaconda3/envs/pytorch_p36/lib/python3.6/site-packages (from protobuf>=3.1->sagemaker==1.72.0) (1.15.0)\n",
      "Building wheels for collected packages: sagemaker\n",
      "  Building wheel for sagemaker (setup.py) ... \u001b[?25ldone\n",
      "\u001b[?25h  Created wheel for sagemaker: filename=sagemaker-1.72.0-py2.py3-none-any.whl size=386358 sha256=00bbc301098a33608bcaced2771b082a7514a36c9cd3eebb409d75b158f57db3\n",
      "  Stored in directory: /home/ec2-user/.cache/pip/wheels/c3/58/70/85faf4437568bfaa4c419937569ba1fe54d44c5db42406bbd7\n",
      "Successfully built sagemaker\n",
      "Installing collected packages: smdebug-rulesconfig, sagemaker\n",
      "  Attempting uninstall: smdebug-rulesconfig\n",
      "    Found existing installation: smdebug-rulesconfig 1.0.1\n",
      "    Uninstalling smdebug-rulesconfig-1.0.1:\n",
      "      Successfully uninstalled smdebug-rulesconfig-1.0.1\n",
      "  Attempting uninstall: sagemaker\n",
      "    Found existing installation: sagemaker 2.41.0\n",
      "    Uninstalling sagemaker-2.41.0:\n",
      "      Successfully uninstalled sagemaker-2.41.0\n",
      "Successfully installed sagemaker-1.72.0 smdebug-rulesconfig-0.1.4\n"
     ]
    }
   ],
   "source": [
    "!pip install sagemaker==1.72.0"
   ]
  },
  {
   "cell_type": "code",
   "execution_count": 2,
   "id": "92520a12",
   "metadata": {},
   "outputs": [],
   "source": [
    "import pandas as pd \n",
    "import numpy as np\n",
    "import os\n",
    "import matplotlib.pyplot as plt\n",
    "%matplotlib inline\n",
    "\n",
    "import sagemaker\n",
    "from sagemaker import get_execution_role\n",
    "from sagemaker.amazon.amazon_estimator import get_image_uri\n",
    "from sagemaker.predictor import csv_serializer\n",
    "import boto3"
   ]
  },
  {
   "cell_type": "code",
   "execution_count": 3,
   "id": "648db15e",
   "metadata": {},
   "outputs": [],
   "source": [
    "## My custom helper functions\n",
    "from helpers import *"
   ]
  },
  {
   "cell_type": "markdown",
   "id": "8255b214",
   "metadata": {},
   "source": [
    "## Step 1. Sagemaker Resources & Processed+FeatureSelected Data Saved in S3"
   ]
  },
  {
   "cell_type": "code",
   "execution_count": 4,
   "id": "f23afc42",
   "metadata": {},
   "outputs": [
    {
     "data": {
      "text/plain": [
       "<sagemaker.session.Session at 0x7f86d87c4cf8>"
      ]
     },
     "execution_count": 4,
     "metadata": {},
     "output_type": "execute_result"
    }
   ],
   "source": [
    "sagemaker_session = sagemaker.Session()\n",
    "sagemaker_session"
   ]
  },
  {
   "cell_type": "code",
   "execution_count": 5,
   "id": "50a9b259",
   "metadata": {},
   "outputs": [
    {
     "data": {
      "text/plain": [
       "'arn:aws:iam::644307290749:role/service-role/AmazonSageMaker-ExecutionRole-20210527T073969'"
      ]
     },
     "execution_count": 5,
     "metadata": {},
     "output_type": "execute_result"
    }
   ],
   "source": [
    "role = sagemaker.get_execution_role()\n",
    "role"
   ]
  },
  {
   "cell_type": "code",
   "execution_count": 6,
   "id": "0853e54c",
   "metadata": {},
   "outputs": [
    {
     "data": {
      "text/plain": [
       "'sagemaker-us-west-1-644307290749'"
      ]
     },
     "execution_count": 6,
     "metadata": {},
     "output_type": "execute_result"
    }
   ],
   "source": [
    "bucket = sagemaker_session.default_bucket()\n",
    "bucket"
   ]
  },
  {
   "cell_type": "code",
   "execution_count": 7,
   "id": "a9bf1bfe",
   "metadata": {},
   "outputs": [
    {
     "data": {
      "text/plain": [
       "(999, 33)"
      ]
     },
     "execution_count": 7,
     "metadata": {},
     "output_type": "execute_result"
    }
   ],
   "source": [
    "## Load processed, L1-selected features:\n",
    "genes = pd.read_csv(get_s3_uri(\"assets/processed_data/genes_l1_selected.csv\", bucket), index_col=0)\n",
    "genes.shape"
   ]
  },
  {
   "cell_type": "code",
   "execution_count": 8,
   "id": "7e446f54",
   "metadata": {},
   "outputs": [
    {
     "data": {
      "text/plain": [
       "(999, 15)"
      ]
     },
     "execution_count": 8,
     "metadata": {},
     "output_type": "execute_result"
    }
   ],
   "source": [
    "## Load processed patient annotations (with defined class label):\n",
    "clinical = pd.read_csv(get_s3_uri(\"assets/processed_data/clinical.csv\", bucket))\n",
    "clinical.index = clinical['Sample ID'].values\n",
    "clinical.shape"
   ]
  },
  {
   "cell_type": "code",
   "execution_count": 9,
   "id": "c1d15d83",
   "metadata": {},
   "outputs": [],
   "source": [
    "## Check to see if patient IDs in the 2 DataFrames match\n",
    "assert all(genes.index == clinical.index)"
   ]
  },
  {
   "cell_type": "code",
   "execution_count": 10,
   "id": "87c6ce43",
   "metadata": {},
   "outputs": [],
   "source": [
    "y = clinical[\"Label\"].astype(int)"
   ]
  },
  {
   "cell_type": "markdown",
   "id": "abcbb962",
   "metadata": {},
   "source": [
    "## Step 2. Train-val-test split & save for Sagemaker XGBoost\n",
    "\n",
    "Here, I will split the data into the following sets as CSV files without headers or index (required format for Sagemaker):\n",
    "\n",
    "* Training Set (for Hyperparameter Tuning)\n",
    "* Validation Set (Hyperparameter Tuning)\n",
    "* Test Set (no labels, just features)\n",
    "\n",
    "To do so, I will:\n",
    "\n",
    "* Run sklearn's `train_test_split` sequentially, twice\n",
    "* Use my custom helper function `directS3Save` to export CSV directly to my S3 bucket"
   ]
  },
  {
   "cell_type": "code",
   "execution_count": 11,
   "id": "1e607b96",
   "metadata": {},
   "outputs": [],
   "source": [
    "from sklearn.model_selection import train_test_split\n",
    "\n",
    "SIZE_VAL_TEST = 100 #set aside 100 observations or 10% for validation & testing\n",
    "\n",
    "## Run sklearn helper 1st time to split out the test set:\n",
    "## The hold-out test set is NEVER used until the very end\n",
    "Xtrain, Xtest, ytrain, ytest = train_test_split(genes, y, test_size=SIZE_VAL_TEST, random_state=42)"
   ]
  },
  {
   "cell_type": "code",
   "execution_count": 12,
   "id": "81f5f3e0",
   "metadata": {},
   "outputs": [],
   "source": [
    "## S3-export the test set FEATURES ONLY -- no concatenation of labels\n",
    "directS3Save(Xtest, bucket, \"assets/tnbc-xgboost/test.csv\", False, False)"
   ]
  },
  {
   "cell_type": "markdown",
   "id": "bf91a4f0",
   "metadata": {},
   "source": [
    "Run `train_test_split` the second time to split out a validation set for optimization"
   ]
  },
  {
   "cell_type": "code",
   "execution_count": 13,
   "id": "2be42968",
   "metadata": {},
   "outputs": [],
   "source": [
    "## 2nd split to get validation set\n",
    "Xtrain, Xval, ytrain, yval = train_test_split(Xtrain, ytrain.astype(int), test_size=SIZE_VAL_TEST)"
   ]
  },
  {
   "cell_type": "code",
   "execution_count": 14,
   "id": "3ade0e64",
   "metadata": {},
   "outputs": [],
   "source": [
    "directS3Save(pd.concat([ytrain, Xtrain], axis=1), bucket, \"assets/tnbc-xgboost/train.csv\", False, False)"
   ]
  },
  {
   "cell_type": "code",
   "execution_count": 15,
   "id": "73d32080",
   "metadata": {},
   "outputs": [],
   "source": [
    "directS3Save(pd.concat([yval, Xval], axis=1), bucket, \"assets/tnbc-xgboost/validation.csv\", False, False)"
   ]
  },
  {
   "cell_type": "markdown",
   "id": "d16ce4a9",
   "metadata": {},
   "source": [
    "## Step 3. Train Sagemaker XGBoost with Hyperparameter Tuning"
   ]
  },
  {
   "cell_type": "code",
   "execution_count": 16,
   "id": "f6079b13",
   "metadata": {},
   "outputs": [
    {
     "name": "stderr",
     "output_type": "stream",
     "text": [
      "'get_image_uri' method will be deprecated in favor of 'ImageURIProvider' class in SageMaker Python SDK v2.\n",
      "There is a more up to date SageMaker XGBoost image. To use the newer image, please set 'repo_version'='1.0-1'. For example:\n",
      "\tget_image_uri(region, 'xgboost', '1.0-1').\n"
     ]
    },
    {
     "data": {
      "text/plain": [
       "'632365934929.dkr.ecr.us-west-1.amazonaws.com/xgboost:1'"
      ]
     },
     "execution_count": 16,
     "metadata": {},
     "output_type": "execute_result"
    }
   ],
   "source": [
    "prefix = \"assets/tnbc-xgboost\"\n",
    "\n",
    "container = get_image_uri(sagemaker_session.boto_region_name, 'xgboost')\n",
    "container"
   ]
  },
  {
   "cell_type": "markdown",
   "id": "54b5b33a",
   "metadata": {},
   "source": [
    "### Sagemaker estimator with default hyperparameters"
   ]
  },
  {
   "cell_type": "code",
   "execution_count": 17,
   "id": "d7c1df9e",
   "metadata": {},
   "outputs": [
    {
     "name": "stderr",
     "output_type": "stream",
     "text": [
      "Parameter image_name will be renamed to image_uri in SageMaker Python SDK v2.\n"
     ]
    }
   ],
   "source": [
    "xgb = sagemaker.estimator.Estimator(\n",
    "    container, \n",
    "    role,\n",
    "    train_instance_count = 1,\n",
    "    train_instance_type = 'ml.m4.xlarge',\n",
    "    output_path = 's3://{}/{}/output'.format(bucket, prefix),\n",
    "    sagemaker_session = sagemaker_session\n",
    ")"
   ]
  },
  {
   "cell_type": "code",
   "execution_count": 18,
   "id": "d2c66fb8",
   "metadata": {},
   "outputs": [
    {
     "name": "stdout",
     "output_type": "stream",
     "text": [
      "Positive class weight = 7.69\n"
     ]
    }
   ],
   "source": [
    "## Compute positive class weight\n",
    "## See doc: docs.aws.amazon.com/sagemaker/latest/dg/xgboost_hyperparameters.html\n",
    "\n",
    "scale_pos_weight = sum(y == 0) / sum(y == 1)\n",
    "print(\"Positive class weight = %.2f\" % scale_pos_weight)"
   ]
  },
  {
   "cell_type": "code",
   "execution_count": 20,
   "id": "30c27812",
   "metadata": {},
   "outputs": [
    {
     "name": "stdout",
     "output_type": "stream",
     "text": [
      "weight_0=0.57, weight_1=4.34\n",
      "sklearn version of class 1 weight 7.69\n"
     ]
    }
   ],
   "source": [
    "## Verify this weight is equivalent to what we had for the benchmark SVM model:\n",
    "## See sklearn doc: scikit-learn.org/stable/modules/generated/sklearn.svm.SVC.html\n",
    "\n",
    "class_weights = len(y) / (2 * np.bincount(y))\n",
    "print(\"weight_0=%.2f, weight_1=%.2f\" % tuple(class_weights))\n",
    "print(\"sklearn version of class 1 weight %.2f\" % (class_weights[1] / class_weights[0])) #should equal value in the cell above"
   ]
  },
  {
   "cell_type": "code",
   "execution_count": 21,
   "id": "fe3c9813",
   "metadata": {},
   "outputs": [],
   "source": [
    "## Set some default XGBoost hyperparameters\n",
    "xgb.set_hyperparameters(\n",
    "    max_depth = 5,\n",
    "    eta = 0.2,\n",
    "    gamma = 4,\n",
    "    min_child_weight = 6,\n",
    "    subsample = 0.8,\n",
    "    scale_pos_weight = scale_pos_weight,\n",
    "    objective = 'binary:logistic',\n",
    "    early_stopping_rounds = 10,\n",
    "    num_round = 200\n",
    ")"
   ]
  },
  {
   "cell_type": "markdown",
   "id": "9fdf05a4",
   "metadata": {},
   "source": [
    "### Run Hyperparameter Tuning via Random Search\n",
    "\n",
    "We will maximize Validation-set Area Under the ROC Curve (AUC) with Random Search as the approach for model optimization."
   ]
  },
  {
   "cell_type": "code",
   "execution_count": 22,
   "id": "9ed84ed4",
   "metadata": {},
   "outputs": [],
   "source": [
    "from sagemaker.tuner import IntegerParameter, ContinuousParameter, HyperparameterTuner\n",
    "\n",
    "HP_RANGES = {\n",
    "    'max_depth': IntegerParameter(3, 12),\n",
    "    'eta': ContinuousParameter(0.05, 0.5),\n",
    "    'min_child_weight': IntegerParameter(2, 8),\n",
    "    'subsample': ContinuousParameter(0.5, 0.9),\n",
    "    'gamma': ContinuousParameter(0, 10)\n",
    "}\n",
    "\n",
    "tuner = HyperparameterTuner(\n",
    "    estimator = xgb,\n",
    "    objective_metric_name = 'validation:auc', #ATTENTION\n",
    "    objective_type = 'Maximize', #ATTENTION\n",
    "    max_jobs = 20,\n",
    "    max_parallel_jobs = 3, \n",
    "    strategy = 'Random', #ATTENTION\n",
    "    hyperparameter_ranges = HP_RANGES\n",
    ")"
   ]
  },
  {
   "cell_type": "markdown",
   "id": "57d4a234",
   "metadata": {},
   "source": [
    "Data paths for Sagemaker need to be handled specially. Further, the syntax of training & validation sets' paths is a little bit different from the test set."
   ]
  },
  {
   "cell_type": "code",
   "execution_count": 23,
   "id": "69e47edf",
   "metadata": {},
   "outputs": [
    {
     "name": "stderr",
     "output_type": "stream",
     "text": [
      "'s3_input' class will be renamed to 'TrainingInput' in SageMaker Python SDK v2.\n",
      "'s3_input' class will be renamed to 'TrainingInput' in SageMaker Python SDK v2.\n"
     ]
    }
   ],
   "source": [
    "## Required data path / config:\n",
    "s3_input_train = sagemaker.s3_input(\n",
    "    s3_data = get_s3_uri(os.path.join(prefix,\"train.csv\"), bucket), \n",
    "    content_type = 'csv'\n",
    ")\n",
    "\n",
    "s3_input_val = sagemaker.s3_input(\n",
    "    s3_data = get_s3_uri(os.path.join(prefix,\"validation.csv\"), bucket), \n",
    "    content_type = 'csv'\n",
    ")"
   ]
  },
  {
   "cell_type": "code",
   "execution_count": 24,
   "id": "bdca0c2c",
   "metadata": {},
   "outputs": [],
   "source": [
    "tuner.fit({'train':s3_input_train, 'validation':s3_input_val})"
   ]
  },
  {
   "cell_type": "code",
   "execution_count": 25,
   "id": "ed63bb5c",
   "metadata": {},
   "outputs": [
    {
     "name": "stdout",
     "output_type": "stream",
     "text": [
      "........................................................................................................................................................................................................................................................................................................................!\n"
     ]
    }
   ],
   "source": [
    "tuner.wait()"
   ]
  },
  {
   "cell_type": "code",
   "execution_count": 26,
   "id": "ddd4ff65",
   "metadata": {},
   "outputs": [
    {
     "data": {
      "text/plain": [
       "'xgboost-210529-0000-011-de06c9f0'"
      ]
     },
     "execution_count": 26,
     "metadata": {},
     "output_type": "execute_result"
    }
   ],
   "source": [
    "tuner.best_training_job()"
   ]
  },
  {
   "cell_type": "code",
   "execution_count": 27,
   "id": "7861bc11",
   "metadata": {
    "scrolled": false
   },
   "outputs": [
    {
     "data": {
      "text/html": [
       "<div>\n",
       "<style scoped>\n",
       "    .dataframe tbody tr th:only-of-type {\n",
       "        vertical-align: middle;\n",
       "    }\n",
       "\n",
       "    .dataframe tbody tr th {\n",
       "        vertical-align: top;\n",
       "    }\n",
       "\n",
       "    .dataframe thead th {\n",
       "        text-align: right;\n",
       "    }\n",
       "</style>\n",
       "<table border=\"1\" class=\"dataframe\">\n",
       "  <thead>\n",
       "    <tr style=\"text-align: right;\">\n",
       "      <th></th>\n",
       "      <th>eta</th>\n",
       "      <th>gamma</th>\n",
       "      <th>max_depth</th>\n",
       "      <th>min_child_weight</th>\n",
       "      <th>subsample</th>\n",
       "      <th>TrainingJobName</th>\n",
       "      <th>TrainingJobStatus</th>\n",
       "      <th>FinalObjectiveValue</th>\n",
       "      <th>TrainingStartTime</th>\n",
       "      <th>TrainingEndTime</th>\n",
       "      <th>TrainingElapsedTimeSeconds</th>\n",
       "    </tr>\n",
       "  </thead>\n",
       "  <tbody>\n",
       "    <tr>\n",
       "      <th>9</th>\n",
       "      <td>0.362921</td>\n",
       "      <td>9.778456</td>\n",
       "      <td>10.0</td>\n",
       "      <td>8.0</td>\n",
       "      <td>0.504031</td>\n",
       "      <td>xgboost-210529-0000-011-de06c9f0</td>\n",
       "      <td>Completed</td>\n",
       "      <td>0.978423</td>\n",
       "      <td>2021-05-29 00:14:09+00:00</td>\n",
       "      <td>2021-05-29 00:14:57+00:00</td>\n",
       "      <td>48.0</td>\n",
       "    </tr>\n",
       "    <tr>\n",
       "      <th>8</th>\n",
       "      <td>0.228099</td>\n",
       "      <td>2.908494</td>\n",
       "      <td>10.0</td>\n",
       "      <td>4.0</td>\n",
       "      <td>0.740050</td>\n",
       "      <td>xgboost-210529-0000-012-433a0c41</td>\n",
       "      <td>Completed</td>\n",
       "      <td>0.976190</td>\n",
       "      <td>2021-05-29 00:14:44+00:00</td>\n",
       "      <td>2021-05-29 00:15:50+00:00</td>\n",
       "      <td>66.0</td>\n",
       "    </tr>\n",
       "    <tr>\n",
       "      <th>7</th>\n",
       "      <td>0.453456</td>\n",
       "      <td>1.255490</td>\n",
       "      <td>9.0</td>\n",
       "      <td>4.0</td>\n",
       "      <td>0.759684</td>\n",
       "      <td>xgboost-210529-0000-013-957df607</td>\n",
       "      <td>Completed</td>\n",
       "      <td>0.975446</td>\n",
       "      <td>2021-05-29 00:17:32+00:00</td>\n",
       "      <td>2021-05-29 00:18:37+00:00</td>\n",
       "      <td>65.0</td>\n",
       "    </tr>\n",
       "    <tr>\n",
       "      <th>13</th>\n",
       "      <td>0.366273</td>\n",
       "      <td>1.882522</td>\n",
       "      <td>11.0</td>\n",
       "      <td>6.0</td>\n",
       "      <td>0.688002</td>\n",
       "      <td>xgboost-210529-0000-007-bf521af8</td>\n",
       "      <td>Completed</td>\n",
       "      <td>0.974702</td>\n",
       "      <td>2021-05-29 00:10:16+00:00</td>\n",
       "      <td>2021-05-29 00:11:20+00:00</td>\n",
       "      <td>64.0</td>\n",
       "    </tr>\n",
       "    <tr>\n",
       "      <th>19</th>\n",
       "      <td>0.224807</td>\n",
       "      <td>5.205991</td>\n",
       "      <td>7.0</td>\n",
       "      <td>2.0</td>\n",
       "      <td>0.890576</td>\n",
       "      <td>xgboost-210529-0000-001-cef6c149</td>\n",
       "      <td>Completed</td>\n",
       "      <td>0.973214</td>\n",
       "      <td>2021-05-29 00:02:38+00:00</td>\n",
       "      <td>2021-05-29 00:03:54+00:00</td>\n",
       "      <td>76.0</td>\n",
       "    </tr>\n",
       "    <tr>\n",
       "      <th>15</th>\n",
       "      <td>0.123025</td>\n",
       "      <td>6.444375</td>\n",
       "      <td>8.0</td>\n",
       "      <td>2.0</td>\n",
       "      <td>0.811051</td>\n",
       "      <td>xgboost-210529-0000-005-754d34bf</td>\n",
       "      <td>Completed</td>\n",
       "      <td>0.973214</td>\n",
       "      <td>2021-05-29 00:06:51+00:00</td>\n",
       "      <td>2021-05-29 00:07:40+00:00</td>\n",
       "      <td>49.0</td>\n",
       "    </tr>\n",
       "    <tr>\n",
       "      <th>6</th>\n",
       "      <td>0.291934</td>\n",
       "      <td>9.078776</td>\n",
       "      <td>3.0</td>\n",
       "      <td>7.0</td>\n",
       "      <td>0.633374</td>\n",
       "      <td>xgboost-210529-0000-014-b8de5791</td>\n",
       "      <td>Completed</td>\n",
       "      <td>0.972470</td>\n",
       "      <td>2021-05-29 00:17:33+00:00</td>\n",
       "      <td>2021-05-29 00:18:37+00:00</td>\n",
       "      <td>64.0</td>\n",
       "    </tr>\n",
       "    <tr>\n",
       "      <th>16</th>\n",
       "      <td>0.374567</td>\n",
       "      <td>2.653589</td>\n",
       "      <td>11.0</td>\n",
       "      <td>8.0</td>\n",
       "      <td>0.643156</td>\n",
       "      <td>xgboost-210529-0000-004-72a17a50</td>\n",
       "      <td>Completed</td>\n",
       "      <td>0.971726</td>\n",
       "      <td>2021-05-29 00:07:20+00:00</td>\n",
       "      <td>2021-05-29 00:08:16+00:00</td>\n",
       "      <td>56.0</td>\n",
       "    </tr>\n",
       "    <tr>\n",
       "      <th>12</th>\n",
       "      <td>0.161827</td>\n",
       "      <td>4.036319</td>\n",
       "      <td>8.0</td>\n",
       "      <td>6.0</td>\n",
       "      <td>0.886041</td>\n",
       "      <td>xgboost-210529-0000-008-8b779e56</td>\n",
       "      <td>Completed</td>\n",
       "      <td>0.970610</td>\n",
       "      <td>2021-05-29 00:10:29+00:00</td>\n",
       "      <td>2021-05-29 00:11:33+00:00</td>\n",
       "      <td>64.0</td>\n",
       "    </tr>\n",
       "    <tr>\n",
       "      <th>2</th>\n",
       "      <td>0.417569</td>\n",
       "      <td>8.903582</td>\n",
       "      <td>7.0</td>\n",
       "      <td>7.0</td>\n",
       "      <td>0.504988</td>\n",
       "      <td>xgboost-210529-0000-018-8b031778</td>\n",
       "      <td>Completed</td>\n",
       "      <td>0.968750</td>\n",
       "      <td>2021-05-29 00:21:54+00:00</td>\n",
       "      <td>2021-05-29 00:22:44+00:00</td>\n",
       "      <td>50.0</td>\n",
       "    </tr>\n",
       "    <tr>\n",
       "      <th>5</th>\n",
       "      <td>0.340821</td>\n",
       "      <td>9.249206</td>\n",
       "      <td>9.0</td>\n",
       "      <td>8.0</td>\n",
       "      <td>0.542382</td>\n",
       "      <td>xgboost-210529-0000-015-674e914f</td>\n",
       "      <td>Completed</td>\n",
       "      <td>0.965402</td>\n",
       "      <td>2021-05-29 00:18:22+00:00</td>\n",
       "      <td>2021-05-29 00:19:08+00:00</td>\n",
       "      <td>46.0</td>\n",
       "    </tr>\n",
       "    <tr>\n",
       "      <th>4</th>\n",
       "      <td>0.437073</td>\n",
       "      <td>4.704850</td>\n",
       "      <td>6.0</td>\n",
       "      <td>8.0</td>\n",
       "      <td>0.591819</td>\n",
       "      <td>xgboost-210529-0000-016-22c62e56</td>\n",
       "      <td>Completed</td>\n",
       "      <td>0.963542</td>\n",
       "      <td>2021-05-29 00:21:27+00:00</td>\n",
       "      <td>2021-05-29 00:22:13+00:00</td>\n",
       "      <td>46.0</td>\n",
       "    </tr>\n",
       "    <tr>\n",
       "      <th>0</th>\n",
       "      <td>0.486859</td>\n",
       "      <td>6.376733</td>\n",
       "      <td>8.0</td>\n",
       "      <td>4.0</td>\n",
       "      <td>0.895138</td>\n",
       "      <td>xgboost-210529-0000-020-b44ffa9f</td>\n",
       "      <td>Completed</td>\n",
       "      <td>0.962054</td>\n",
       "      <td>2021-05-29 00:25:11+00:00</td>\n",
       "      <td>2021-05-29 00:26:12+00:00</td>\n",
       "      <td>61.0</td>\n",
       "    </tr>\n",
       "    <tr>\n",
       "      <th>3</th>\n",
       "      <td>0.329994</td>\n",
       "      <td>7.211060</td>\n",
       "      <td>8.0</td>\n",
       "      <td>8.0</td>\n",
       "      <td>0.594442</td>\n",
       "      <td>xgboost-210529-0000-017-f7e41dc7</td>\n",
       "      <td>Completed</td>\n",
       "      <td>0.961682</td>\n",
       "      <td>2021-05-29 00:21:19+00:00</td>\n",
       "      <td>2021-05-29 00:22:06+00:00</td>\n",
       "      <td>47.0</td>\n",
       "    </tr>\n",
       "    <tr>\n",
       "      <th>10</th>\n",
       "      <td>0.196378</td>\n",
       "      <td>4.589579</td>\n",
       "      <td>5.0</td>\n",
       "      <td>3.0</td>\n",
       "      <td>0.561171</td>\n",
       "      <td>xgboost-210529-0000-010-0ca5335f</td>\n",
       "      <td>Completed</td>\n",
       "      <td>0.959821</td>\n",
       "      <td>2021-05-29 00:14:07+00:00</td>\n",
       "      <td>2021-05-29 00:14:54+00:00</td>\n",
       "      <td>47.0</td>\n",
       "    </tr>\n",
       "    <tr>\n",
       "      <th>11</th>\n",
       "      <td>0.411293</td>\n",
       "      <td>7.300506</td>\n",
       "      <td>8.0</td>\n",
       "      <td>3.0</td>\n",
       "      <td>0.747293</td>\n",
       "      <td>xgboost-210529-0000-009-2a28f5de</td>\n",
       "      <td>Completed</td>\n",
       "      <td>0.959077</td>\n",
       "      <td>2021-05-29 00:11:07+00:00</td>\n",
       "      <td>2021-05-29 00:12:12+00:00</td>\n",
       "      <td>65.0</td>\n",
       "    </tr>\n",
       "    <tr>\n",
       "      <th>18</th>\n",
       "      <td>0.429903</td>\n",
       "      <td>7.749105</td>\n",
       "      <td>10.0</td>\n",
       "      <td>6.0</td>\n",
       "      <td>0.857746</td>\n",
       "      <td>xgboost-210529-0000-002-fc3fd934</td>\n",
       "      <td>Completed</td>\n",
       "      <td>0.957961</td>\n",
       "      <td>2021-05-29 00:03:40+00:00</td>\n",
       "      <td>2021-05-29 00:04:19+00:00</td>\n",
       "      <td>39.0</td>\n",
       "    </tr>\n",
       "    <tr>\n",
       "      <th>17</th>\n",
       "      <td>0.362238</td>\n",
       "      <td>4.262052</td>\n",
       "      <td>7.0</td>\n",
       "      <td>4.0</td>\n",
       "      <td>0.855294</td>\n",
       "      <td>xgboost-210529-0000-003-83f8bb57</td>\n",
       "      <td>Completed</td>\n",
       "      <td>0.956845</td>\n",
       "      <td>2021-05-29 00:03:48+00:00</td>\n",
       "      <td>2021-05-29 00:04:30+00:00</td>\n",
       "      <td>42.0</td>\n",
       "    </tr>\n",
       "    <tr>\n",
       "      <th>14</th>\n",
       "      <td>0.369323</td>\n",
       "      <td>1.312510</td>\n",
       "      <td>11.0</td>\n",
       "      <td>4.0</td>\n",
       "      <td>0.855648</td>\n",
       "      <td>xgboost-210529-0000-006-51578386</td>\n",
       "      <td>Completed</td>\n",
       "      <td>0.942708</td>\n",
       "      <td>2021-05-29 00:07:09+00:00</td>\n",
       "      <td>2021-05-29 00:07:57+00:00</td>\n",
       "      <td>48.0</td>\n",
       "    </tr>\n",
       "    <tr>\n",
       "      <th>1</th>\n",
       "      <td>0.220967</td>\n",
       "      <td>2.940276</td>\n",
       "      <td>11.0</td>\n",
       "      <td>3.0</td>\n",
       "      <td>0.883493</td>\n",
       "      <td>xgboost-210529-0000-019-d49d4a28</td>\n",
       "      <td>Completed</td>\n",
       "      <td>0.941220</td>\n",
       "      <td>2021-05-29 00:25:03+00:00</td>\n",
       "      <td>2021-05-29 00:25:50+00:00</td>\n",
       "      <td>47.0</td>\n",
       "    </tr>\n",
       "  </tbody>\n",
       "</table>\n",
       "</div>"
      ],
      "text/plain": [
       "         eta     gamma  max_depth  min_child_weight  subsample  \\\n",
       "9   0.362921  9.778456       10.0               8.0   0.504031   \n",
       "8   0.228099  2.908494       10.0               4.0   0.740050   \n",
       "7   0.453456  1.255490        9.0               4.0   0.759684   \n",
       "13  0.366273  1.882522       11.0               6.0   0.688002   \n",
       "19  0.224807  5.205991        7.0               2.0   0.890576   \n",
       "15  0.123025  6.444375        8.0               2.0   0.811051   \n",
       "6   0.291934  9.078776        3.0               7.0   0.633374   \n",
       "16  0.374567  2.653589       11.0               8.0   0.643156   \n",
       "12  0.161827  4.036319        8.0               6.0   0.886041   \n",
       "2   0.417569  8.903582        7.0               7.0   0.504988   \n",
       "5   0.340821  9.249206        9.0               8.0   0.542382   \n",
       "4   0.437073  4.704850        6.0               8.0   0.591819   \n",
       "0   0.486859  6.376733        8.0               4.0   0.895138   \n",
       "3   0.329994  7.211060        8.0               8.0   0.594442   \n",
       "10  0.196378  4.589579        5.0               3.0   0.561171   \n",
       "11  0.411293  7.300506        8.0               3.0   0.747293   \n",
       "18  0.429903  7.749105       10.0               6.0   0.857746   \n",
       "17  0.362238  4.262052        7.0               4.0   0.855294   \n",
       "14  0.369323  1.312510       11.0               4.0   0.855648   \n",
       "1   0.220967  2.940276       11.0               3.0   0.883493   \n",
       "\n",
       "                     TrainingJobName TrainingJobStatus  FinalObjectiveValue  \\\n",
       "9   xgboost-210529-0000-011-de06c9f0         Completed             0.978423   \n",
       "8   xgboost-210529-0000-012-433a0c41         Completed             0.976190   \n",
       "7   xgboost-210529-0000-013-957df607         Completed             0.975446   \n",
       "13  xgboost-210529-0000-007-bf521af8         Completed             0.974702   \n",
       "19  xgboost-210529-0000-001-cef6c149         Completed             0.973214   \n",
       "15  xgboost-210529-0000-005-754d34bf         Completed             0.973214   \n",
       "6   xgboost-210529-0000-014-b8de5791         Completed             0.972470   \n",
       "16  xgboost-210529-0000-004-72a17a50         Completed             0.971726   \n",
       "12  xgboost-210529-0000-008-8b779e56         Completed             0.970610   \n",
       "2   xgboost-210529-0000-018-8b031778         Completed             0.968750   \n",
       "5   xgboost-210529-0000-015-674e914f         Completed             0.965402   \n",
       "4   xgboost-210529-0000-016-22c62e56         Completed             0.963542   \n",
       "0   xgboost-210529-0000-020-b44ffa9f         Completed             0.962054   \n",
       "3   xgboost-210529-0000-017-f7e41dc7         Completed             0.961682   \n",
       "10  xgboost-210529-0000-010-0ca5335f         Completed             0.959821   \n",
       "11  xgboost-210529-0000-009-2a28f5de         Completed             0.959077   \n",
       "18  xgboost-210529-0000-002-fc3fd934         Completed             0.957961   \n",
       "17  xgboost-210529-0000-003-83f8bb57         Completed             0.956845   \n",
       "14  xgboost-210529-0000-006-51578386         Completed             0.942708   \n",
       "1   xgboost-210529-0000-019-d49d4a28         Completed             0.941220   \n",
       "\n",
       "           TrainingStartTime           TrainingEndTime  \\\n",
       "9  2021-05-29 00:14:09+00:00 2021-05-29 00:14:57+00:00   \n",
       "8  2021-05-29 00:14:44+00:00 2021-05-29 00:15:50+00:00   \n",
       "7  2021-05-29 00:17:32+00:00 2021-05-29 00:18:37+00:00   \n",
       "13 2021-05-29 00:10:16+00:00 2021-05-29 00:11:20+00:00   \n",
       "19 2021-05-29 00:02:38+00:00 2021-05-29 00:03:54+00:00   \n",
       "15 2021-05-29 00:06:51+00:00 2021-05-29 00:07:40+00:00   \n",
       "6  2021-05-29 00:17:33+00:00 2021-05-29 00:18:37+00:00   \n",
       "16 2021-05-29 00:07:20+00:00 2021-05-29 00:08:16+00:00   \n",
       "12 2021-05-29 00:10:29+00:00 2021-05-29 00:11:33+00:00   \n",
       "2  2021-05-29 00:21:54+00:00 2021-05-29 00:22:44+00:00   \n",
       "5  2021-05-29 00:18:22+00:00 2021-05-29 00:19:08+00:00   \n",
       "4  2021-05-29 00:21:27+00:00 2021-05-29 00:22:13+00:00   \n",
       "0  2021-05-29 00:25:11+00:00 2021-05-29 00:26:12+00:00   \n",
       "3  2021-05-29 00:21:19+00:00 2021-05-29 00:22:06+00:00   \n",
       "10 2021-05-29 00:14:07+00:00 2021-05-29 00:14:54+00:00   \n",
       "11 2021-05-29 00:11:07+00:00 2021-05-29 00:12:12+00:00   \n",
       "18 2021-05-29 00:03:40+00:00 2021-05-29 00:04:19+00:00   \n",
       "17 2021-05-29 00:03:48+00:00 2021-05-29 00:04:30+00:00   \n",
       "14 2021-05-29 00:07:09+00:00 2021-05-29 00:07:57+00:00   \n",
       "1  2021-05-29 00:25:03+00:00 2021-05-29 00:25:50+00:00   \n",
       "\n",
       "    TrainingElapsedTimeSeconds  \n",
       "9                         48.0  \n",
       "8                         66.0  \n",
       "7                         65.0  \n",
       "13                        64.0  \n",
       "19                        76.0  \n",
       "15                        49.0  \n",
       "6                         64.0  \n",
       "16                        56.0  \n",
       "12                        64.0  \n",
       "2                         50.0  \n",
       "5                         46.0  \n",
       "4                         46.0  \n",
       "0                         61.0  \n",
       "3                         47.0  \n",
       "10                        47.0  \n",
       "11                        65.0  \n",
       "18                        39.0  \n",
       "17                        42.0  \n",
       "14                        48.0  \n",
       "1                         47.0  "
      ]
     },
     "execution_count": 27,
     "metadata": {},
     "output_type": "execute_result"
    }
   ],
   "source": [
    "## Get a DataFrame of all models:\n",
    "df_tune = sagemaker.HyperparameterTuningJobAnalytics(tuner.latest_tuning_job.job_name).dataframe()\n",
    "df_tune.sort_values(by=\"FinalObjectiveValue\", ascending=False, inplace=True)\n",
    "df_tune"
   ]
  },
  {
   "cell_type": "code",
   "execution_count": 28,
   "id": "eb4f9524",
   "metadata": {},
   "outputs": [],
   "source": [
    "## Download a copy of the tuning results:\n",
    "directS3Save(df_tune, bucket, \"assets/tnbc-xgboost/xgboost-tuning-results.csv\")"
   ]
  },
  {
   "cell_type": "markdown",
   "id": "efa51219",
   "metadata": {},
   "source": [
    "## Step 4. Evaluate the Trained Model"
   ]
  },
  {
   "cell_type": "markdown",
   "id": "6ced6473",
   "metadata": {},
   "source": [
    "### Apply the best model to the hold-out Test Set"
   ]
  },
  {
   "cell_type": "code",
   "execution_count": 29,
   "id": "ae70a81b",
   "metadata": {},
   "outputs": [
    {
     "name": "stderr",
     "output_type": "stream",
     "text": [
      "Parameter image_name will be renamed to image_uri in SageMaker Python SDK v2.\n"
     ]
    },
    {
     "name": "stdout",
     "output_type": "stream",
     "text": [
      "2021-05-29 00:14:57 Starting - Preparing the instances for training\n",
      "2021-05-29 00:14:57 Downloading - Downloading input data\n",
      "2021-05-29 00:14:57 Training - Training image download completed. Training in progress.\n",
      "2021-05-29 00:14:57 Uploading - Uploading generated training model\n",
      "2021-05-29 00:14:57 Completed - Training job completed\u001b[34mArguments: train\u001b[0m\n",
      "\u001b[34m[2021-05-29:00:14:44:INFO] Running standalone xgboost training.\u001b[0m\n",
      "\u001b[34m[2021-05-29:00:14:44:INFO] Setting up HPO optimized metric to be : auc\u001b[0m\n",
      "\u001b[34m[2021-05-29:00:14:44:INFO] File size need to be processed in the node: 0.23mb. Available memory size in the node: 8422.28mb\u001b[0m\n",
      "\u001b[34m[2021-05-29:00:14:44:INFO] Determined delimiter of CSV input is ','\u001b[0m\n",
      "\u001b[34m[00:14:44] S3DistributionType set as FullyReplicated\u001b[0m\n",
      "\u001b[34m[00:14:44] 799x33 matrix with 26367 entries loaded from /opt/ml/input/data/train?format=csv&label_column=0&delimiter=,\u001b[0m\n",
      "\u001b[34m[2021-05-29:00:14:44:INFO] Determined delimiter of CSV input is ','\u001b[0m\n",
      "\u001b[34m[00:14:44] S3DistributionType set as FullyReplicated\u001b[0m\n",
      "\u001b[34m[00:14:44] 100x33 matrix with 3300 entries loaded from /opt/ml/input/data/validation?format=csv&label_column=0&delimiter=,\u001b[0m\n",
      "\u001b[34m[00:14:44] src/tree/updater_prune.cc:74: tree pruning end, 1 roots, 6 extra nodes, 4 pruned nodes, max_depth=2\u001b[0m\n",
      "\u001b[34m[0]#011train-auc:0.947865#011validation-auc:0.89881\u001b[0m\n",
      "\u001b[34mMultiple eval metrics have been passed: 'validation-auc' will be used for early stopping.\n",
      "\u001b[0m\n",
      "\u001b[34mWill train until validation-auc hasn't improved in 10 rounds.\u001b[0m\n",
      "\u001b[34m[00:14:44] src/tree/updater_prune.cc:74: tree pruning end, 1 roots, 6 extra nodes, 6 pruned nodes, max_depth=2\u001b[0m\n",
      "\u001b[34m[1]#011train-auc:0.967523#011validation-auc:0.90625\u001b[0m\n",
      "\u001b[34m[00:14:44] src/tree/updater_prune.cc:74: tree pruning end, 1 roots, 10 extra nodes, 4 pruned nodes, max_depth=3\u001b[0m\n",
      "\u001b[34m[2]#011train-auc:0.976274#011validation-auc:0.96131\u001b[0m\n",
      "\u001b[34m[00:14:44] src/tree/updater_prune.cc:74: tree pruning end, 1 roots, 4 extra nodes, 8 pruned nodes, max_depth=2\u001b[0m\n",
      "\u001b[34m[3]#011train-auc:0.977393#011validation-auc:0.96317\u001b[0m\n",
      "\u001b[34m[00:14:44] src/tree/updater_prune.cc:74: tree pruning end, 1 roots, 4 extra nodes, 8 pruned nodes, max_depth=2\u001b[0m\n",
      "\u001b[34m[4]#011train-auc:0.978392#011validation-auc:0.969122\u001b[0m\n",
      "\u001b[34m[00:14:44] src/tree/updater_prune.cc:74: tree pruning end, 1 roots, 8 extra nodes, 4 pruned nodes, max_depth=3\u001b[0m\n",
      "\u001b[34m[5]#011train-auc:0.980285#011validation-auc:0.965774\u001b[0m\n",
      "\u001b[34m[00:14:44] src/tree/updater_prune.cc:74: tree pruning end, 1 roots, 4 extra nodes, 6 pruned nodes, max_depth=2\u001b[0m\n",
      "\u001b[34m[6]#011train-auc:0.981165#011validation-auc:0.966518\u001b[0m\n",
      "\u001b[34m[00:14:44] src/tree/updater_prune.cc:74: tree pruning end, 1 roots, 4 extra nodes, 4 pruned nodes, max_depth=2\u001b[0m\n",
      "\u001b[34m[7]#011train-auc:0.981764#011validation-auc:0.964286\u001b[0m\n",
      "\u001b[34m[00:14:44] src/tree/updater_prune.cc:74: tree pruning end, 1 roots, 4 extra nodes, 2 pruned nodes, max_depth=2\u001b[0m\n",
      "\u001b[34m[8]#011train-auc:0.985048#011validation-auc:0.96875\u001b[0m\n",
      "\u001b[34m[00:14:44] src/tree/updater_prune.cc:74: tree pruning end, 1 roots, 4 extra nodes, 4 pruned nodes, max_depth=2\u001b[0m\n",
      "\u001b[34m[9]#011train-auc:0.985991#011validation-auc:0.967262\u001b[0m\n",
      "\u001b[34m[00:14:44] src/tree/updater_prune.cc:74: tree pruning end, 1 roots, 2 extra nodes, 4 pruned nodes, max_depth=1\u001b[0m\n",
      "\u001b[34m[10]#011train-auc:0.987925#011validation-auc:0.971726\u001b[0m\n",
      "\u001b[34m[00:14:44] src/tree/updater_prune.cc:74: tree pruning end, 1 roots, 4 extra nodes, 0 pruned nodes, max_depth=2\u001b[0m\n",
      "\u001b[34m[11]#011train-auc:0.989611#011validation-auc:0.973958\u001b[0m\n",
      "\u001b[34m[00:14:44] src/tree/updater_prune.cc:74: tree pruning end, 1 roots, 2 extra nodes, 2 pruned nodes, max_depth=1\u001b[0m\n",
      "\u001b[34m[12]#011train-auc:0.988988#011validation-auc:0.974702\u001b[0m\n",
      "\u001b[34m[00:14:44] src/tree/updater_prune.cc:74: tree pruning end, 1 roots, 2 extra nodes, 2 pruned nodes, max_depth=1\u001b[0m\n",
      "\u001b[34m[13]#011train-auc:0.989435#011validation-auc:0.97619\u001b[0m\n",
      "\u001b[34m[00:14:44] src/tree/updater_prune.cc:74: tree pruning end, 1 roots, 2 extra nodes, 2 pruned nodes, max_depth=1\u001b[0m\n",
      "\u001b[34m[14]#011train-auc:0.989132#011validation-auc:0.97619\u001b[0m\n",
      "\u001b[34m[00:14:44] src/tree/updater_prune.cc:74: tree pruning end, 1 roots, 2 extra nodes, 2 pruned nodes, max_depth=1\u001b[0m\n",
      "\u001b[34m[15]#011train-auc:0.989404#011validation-auc:0.973958\u001b[0m\n",
      "\u001b[34m[00:14:44] src/tree/updater_prune.cc:74: tree pruning end, 1 roots, 2 extra nodes, 0 pruned nodes, max_depth=1\u001b[0m\n",
      "\u001b[34m[16]#011train-auc:0.989851#011validation-auc:0.97247\u001b[0m\n",
      "\u001b[34m[00:14:44] src/tree/updater_prune.cc:74: tree pruning end, 1 roots, 4 extra nodes, 2 pruned nodes, max_depth=2\u001b[0m\n",
      "\u001b[34m[17]#011train-auc:0.990602#011validation-auc:0.974702\u001b[0m\n",
      "\u001b[34m[00:14:44] src/tree/updater_prune.cc:74: tree pruning end, 1 roots, 0 extra nodes, 4 pruned nodes, max_depth=0\u001b[0m\n",
      "\u001b[34m[18]#011train-auc:0.990602#011validation-auc:0.974702\u001b[0m\n",
      "\u001b[34m[00:14:44] src/tree/updater_prune.cc:74: tree pruning end, 1 roots, 4 extra nodes, 0 pruned nodes, max_depth=2\u001b[0m\n",
      "\u001b[34m[19]#011train-auc:0.992121#011validation-auc:0.978423\u001b[0m\n",
      "\u001b[34m[00:14:44] src/tree/updater_prune.cc:74: tree pruning end, 1 roots, 0 extra nodes, 4 pruned nodes, max_depth=0\u001b[0m\n",
      "\u001b[34m[20]#011train-auc:0.992121#011validation-auc:0.978423\u001b[0m\n",
      "\u001b[34m[00:14:44] src/tree/updater_prune.cc:74: tree pruning end, 1 roots, 2 extra nodes, 2 pruned nodes, max_depth=1\u001b[0m\n",
      "\u001b[34m[21]#011train-auc:0.992264#011validation-auc:0.973214\u001b[0m\n",
      "\u001b[34m[00:14:44] src/tree/updater_prune.cc:74: tree pruning end, 1 roots, 0 extra nodes, 4 pruned nodes, max_depth=0\u001b[0m\n",
      "\u001b[34m[22]#011train-auc:0.992264#011validation-auc:0.973214\u001b[0m\n",
      "\u001b[34m[00:14:44] src/tree/updater_prune.cc:74: tree pruning end, 1 roots, 2 extra nodes, 2 pruned nodes, max_depth=1\u001b[0m\n",
      "\u001b[34m[23]#011train-auc:0.992408#011validation-auc:0.971726\u001b[0m\n",
      "\u001b[34m[00:14:44] src/tree/updater_prune.cc:74: tree pruning end, 1 roots, 2 extra nodes, 0 pruned nodes, max_depth=1\u001b[0m\n",
      "\u001b[34m[24]#011train-auc:0.992456#011validation-auc:0.973958\u001b[0m\n",
      "\u001b[34m[00:14:44] src/tree/updater_prune.cc:74: tree pruning end, 1 roots, 2 extra nodes, 2 pruned nodes, max_depth=1\u001b[0m\n",
      "\u001b[34m[25]#011train-auc:0.992888#011validation-auc:0.963542\u001b[0m\n",
      "\u001b[34m[00:14:44] src/tree/updater_prune.cc:74: tree pruning end, 1 roots, 2 extra nodes, 2 pruned nodes, max_depth=1\u001b[0m\n",
      "\u001b[34m[26]#011train-auc:0.993111#011validation-auc:0.967262\u001b[0m\n",
      "\u001b[34m[00:14:44] src/tree/updater_prune.cc:74: tree pruning end, 1 roots, 2 extra nodes, 0 pruned nodes, max_depth=1\u001b[0m\n",
      "\u001b[34m[27]#011train-auc:0.993191#011validation-auc:0.962054\u001b[0m\n",
      "\u001b[34m[00:14:44] src/tree/updater_prune.cc:74: tree pruning end, 1 roots, 0 extra nodes, 2 pruned nodes, max_depth=0\u001b[0m\n",
      "\u001b[34m[28]#011train-auc:0.993191#011validation-auc:0.962054\u001b[0m\n",
      "\u001b[34m[00:14:44] src/tree/updater_prune.cc:74: tree pruning end, 1 roots, 0 extra nodes, 2 pruned nodes, max_depth=0\u001b[0m\n",
      "\u001b[34m[29]#011train-auc:0.993191#011validation-auc:0.962054\u001b[0m\n",
      "\u001b[34mStopping. Best iteration:\u001b[0m\n",
      "\u001b[34m[19]#011train-auc:0.992121#011validation-auc:0.978423\n",
      "\u001b[0m\n",
      "Training seconds: 48\n",
      "Billable seconds: 48\n"
     ]
    }
   ],
   "source": [
    "xgb_attached = sagemaker.estimator.Estimator.attach(tuner.best_training_job())"
   ]
  },
  {
   "cell_type": "code",
   "execution_count": 30,
   "id": "e13315c1",
   "metadata": {},
   "outputs": [
    {
     "name": "stderr",
     "output_type": "stream",
     "text": [
      "Parameter image will be renamed to image_uri in SageMaker Python SDK v2.\n"
     ]
    }
   ],
   "source": [
    "transformer = xgb_attached.transformer(instance_count=1, instance_type='ml.m4.xlarge')"
   ]
  },
  {
   "cell_type": "code",
   "execution_count": 31,
   "id": "fd9b79fc",
   "metadata": {},
   "outputs": [],
   "source": [
    "## The syntax for inference is unique from training-validation:\n",
    "transformer.transform(\n",
    "    get_s3_uri(os.path.join(prefix,\"test.csv\"), bucket),\n",
    "    content_type = 'text/csv', \n",
    "    split_type = 'Line'\n",
    ")"
   ]
  },
  {
   "cell_type": "code",
   "execution_count": 32,
   "id": "a5042b9f",
   "metadata": {
    "scrolled": true
   },
   "outputs": [
    {
     "name": "stdout",
     "output_type": "stream",
     "text": [
      ".............................\n",
      "\u001b[34mArguments: serve\u001b[0m\n",
      "\u001b[34m[2021-05-29 00:36:49 +0000] [1] [INFO] Starting gunicorn 19.9.0\u001b[0m\n",
      "\u001b[34m[2021-05-29 00:36:49 +0000] [1] [INFO] Listening at: http://0.0.0.0:8080 (1)\u001b[0m\n",
      "\u001b[35mArguments: serve\u001b[0m\n",
      "\u001b[35m[2021-05-29 00:36:49 +0000] [1] [INFO] Starting gunicorn 19.9.0\u001b[0m\n",
      "\u001b[35m[2021-05-29 00:36:49 +0000] [1] [INFO] Listening at: http://0.0.0.0:8080 (1)\u001b[0m\n",
      "\u001b[34m[2021-05-29 00:36:49 +0000] [1] [INFO] Using worker: gevent\u001b[0m\n",
      "\u001b[34m[2021-05-29 00:36:49 +0000] [20] [INFO] Booting worker with pid: 20\u001b[0m\n",
      "\u001b[34m[2021-05-29 00:36:49 +0000] [21] [INFO] Booting worker with pid: 21\u001b[0m\n",
      "\u001b[34m[2021-05-29 00:36:49 +0000] [22] [INFO] Booting worker with pid: 22\u001b[0m\n",
      "\u001b[34m[2021-05-29 00:36:49 +0000] [23] [INFO] Booting worker with pid: 23\u001b[0m\n",
      "\u001b[34m/opt/amazon/lib/python3.7/site-packages/gunicorn/workers/ggevent.py:65: MonkeyPatchWarning: Monkey-patching ssl after ssl has already been imported may lead to errors, including RecursionError on Python 3.6. It may also silently lead to incorrect behaviour on Python 3.7. Please monkey-patch earlier. See https://github.com/gevent/gevent/issues/1016. Modules that had direct imports (NOT patched): ['urllib3.util (/opt/amazon/lib/python3.7/site-packages/urllib3/util/__init__.py)', 'urllib3.util.ssl_ (/opt/amazon/lib/python3.7/site-packages/urllib3/util/ssl_.py)']. \n",
      "  monkey.patch_all(subprocess=True)\u001b[0m\n",
      "\u001b[34m/opt/amazon/lib/python3.7/site-packages/gunicorn/workers/ggevent.py:65: MonkeyPatchWarning: Monkey-patching ssl after ssl has already been imported may lead to errors, including RecursionError on Python 3.6. It may also silently lead to incorrect behaviour on Python 3.7. Please monkey-patch earlier. See https://github.com/gevent/gevent/issues/1016. Modules that had direct imports (NOT patched): ['urllib3.util (/opt/amazon/lib/python3.7/site-packages/urllib3/util/__init__.py)', 'urllib3.util.ssl_ (/opt/amazon/lib/python3.7/site-packages/urllib3/util/ssl_.py)']. \n",
      "  monkey.patch_all(subprocess=True)\u001b[0m\n",
      "\u001b[34m[2021-05-29:00:36:49:INFO] Model loaded successfully for worker : 21\u001b[0m\n",
      "\u001b[34m[2021-05-29:00:36:49:INFO] Model loaded successfully for worker : 20\u001b[0m\n",
      "\u001b[34m/opt/amazon/lib/python3.7/site-packages/gunicorn/workers/ggevent.py:65: MonkeyPatchWarning: Monkey-patching ssl after ssl has already been imported may lead to errors, including RecursionError on Python 3.6. It may also silently lead to incorrect behaviour on Python 3.7. Please monkey-patch earlier. See https://github.com/gevent/gevent/issues/1016. Modules that had direct imports (NOT patched): ['urllib3.util (/opt/amazon/lib/python3.7/site-packages/urllib3/util/__init__.py)', 'urllib3.util.ssl_ (/opt/amazon/lib/python3.7/site-packages/urllib3/util/ssl_.py)']. \n",
      "  monkey.patch_all(subprocess=True)\u001b[0m\n",
      "\u001b[34m[2021-05-29:00:36:49:INFO] Model loaded successfully for worker : 22\u001b[0m\n",
      "\u001b[34m/opt/amazon/lib/python3.7/site-packages/gunicorn/workers/ggevent.py:65: MonkeyPatchWarning: Monkey-patching ssl after ssl has already been imported may lead to errors, including RecursionError on Python 3.6. It may also silently lead to incorrect behaviour on Python 3.7. Please monkey-patch earlier. See https://github.com/gevent/gevent/issues/1016. Modules that had direct imports (NOT patched): ['urllib3.util (/opt/amazon/lib/python3.7/site-packages/urllib3/util/__init__.py)', 'urllib3.util.ssl_ (/opt/amazon/lib/python3.7/site-packages/urllib3/util/ssl_.py)']. \n",
      "  monkey.patch_all(subprocess=True)\u001b[0m\n",
      "\u001b[34m[2021-05-29:00:36:49:INFO] Model loaded successfully for worker : 23\u001b[0m\n",
      "\u001b[35m[2021-05-29 00:36:49 +0000] [1] [INFO] Using worker: gevent\u001b[0m\n",
      "\u001b[35m[2021-05-29 00:36:49 +0000] [20] [INFO] Booting worker with pid: 20\u001b[0m\n",
      "\u001b[35m[2021-05-29 00:36:49 +0000] [21] [INFO] Booting worker with pid: 21\u001b[0m\n",
      "\u001b[35m[2021-05-29 00:36:49 +0000] [22] [INFO] Booting worker with pid: 22\u001b[0m\n",
      "\u001b[35m[2021-05-29 00:36:49 +0000] [23] [INFO] Booting worker with pid: 23\u001b[0m\n",
      "\u001b[35m/opt/amazon/lib/python3.7/site-packages/gunicorn/workers/ggevent.py:65: MonkeyPatchWarning: Monkey-patching ssl after ssl has already been imported may lead to errors, including RecursionError on Python 3.6. It may also silently lead to incorrect behaviour on Python 3.7. Please monkey-patch earlier. See https://github.com/gevent/gevent/issues/1016. Modules that had direct imports (NOT patched): ['urllib3.util (/opt/amazon/lib/python3.7/site-packages/urllib3/util/__init__.py)', 'urllib3.util.ssl_ (/opt/amazon/lib/python3.7/site-packages/urllib3/util/ssl_.py)']. \n",
      "  monkey.patch_all(subprocess=True)\u001b[0m\n",
      "\u001b[35m/opt/amazon/lib/python3.7/site-packages/gunicorn/workers/ggevent.py:65: MonkeyPatchWarning: Monkey-patching ssl after ssl has already been imported may lead to errors, including RecursionError on Python 3.6. It may also silently lead to incorrect behaviour on Python 3.7. Please monkey-patch earlier. See https://github.com/gevent/gevent/issues/1016. Modules that had direct imports (NOT patched): ['urllib3.util (/opt/amazon/lib/python3.7/site-packages/urllib3/util/__init__.py)', 'urllib3.util.ssl_ (/opt/amazon/lib/python3.7/site-packages/urllib3/util/ssl_.py)']. \n",
      "  monkey.patch_all(subprocess=True)\u001b[0m\n",
      "\u001b[35m[2021-05-29:00:36:49:INFO] Model loaded successfully for worker : 21\u001b[0m\n",
      "\u001b[35m[2021-05-29:00:36:49:INFO] Model loaded successfully for worker : 20\u001b[0m\n",
      "\u001b[35m/opt/amazon/lib/python3.7/site-packages/gunicorn/workers/ggevent.py:65: MonkeyPatchWarning: Monkey-patching ssl after ssl has already been imported may lead to errors, including RecursionError on Python 3.6. It may also silently lead to incorrect behaviour on Python 3.7. Please monkey-patch earlier. See https://github.com/gevent/gevent/issues/1016. Modules that had direct imports (NOT patched): ['urllib3.util (/opt/amazon/lib/python3.7/site-packages/urllib3/util/__init__.py)', 'urllib3.util.ssl_ (/opt/amazon/lib/python3.7/site-packages/urllib3/util/ssl_.py)']. \n",
      "  monkey.patch_all(subprocess=True)\u001b[0m\n",
      "\u001b[35m[2021-05-29:00:36:49:INFO] Model loaded successfully for worker : 22\u001b[0m\n",
      "\u001b[35m/opt/amazon/lib/python3.7/site-packages/gunicorn/workers/ggevent.py:65: MonkeyPatchWarning: Monkey-patching ssl after ssl has already been imported may lead to errors, including RecursionError on Python 3.6. It may also silently lead to incorrect behaviour on Python 3.7. Please monkey-patch earlier. See https://github.com/gevent/gevent/issues/1016. Modules that had direct imports (NOT patched): ['urllib3.util (/opt/amazon/lib/python3.7/site-packages/urllib3/util/__init__.py)', 'urllib3.util.ssl_ (/opt/amazon/lib/python3.7/site-packages/urllib3/util/ssl_.py)']. \n",
      "  monkey.patch_all(subprocess=True)\u001b[0m\n",
      "\u001b[35m[2021-05-29:00:36:49:INFO] Model loaded successfully for worker : 23\u001b[0m\n",
      "\u001b[34m[2021-05-29:00:36:53:INFO] Sniff delimiter as ','\u001b[0m\n",
      "\u001b[34m[2021-05-29:00:36:53:INFO] Determined delimiter of CSV input is ','\u001b[0m\n",
      "\u001b[35m[2021-05-29:00:36:53:INFO] Sniff delimiter as ','\u001b[0m\n",
      "\u001b[35m[2021-05-29:00:36:53:INFO] Determined delimiter of CSV input is ','\u001b[0m\n",
      "\u001b[32m2021-05-29T00:36:53.660:[sagemaker logs]: MaxConcurrentTransforms=4, MaxPayloadInMB=6, BatchStrategy=MULTI_RECORD\u001b[0m\n"
     ]
    }
   ],
   "source": [
    "transformer.wait()"
   ]
  },
  {
   "cell_type": "code",
   "execution_count": 33,
   "id": "57d0493e",
   "metadata": {},
   "outputs": [],
   "source": [
    "## Magick-copy XGBoost inference output to specified directory accessible by Notebook\n",
    "data_dir = './'"
   ]
  },
  {
   "cell_type": "code",
   "execution_count": 34,
   "id": "0c79f1d2",
   "metadata": {},
   "outputs": [
    {
     "name": "stdout",
     "output_type": "stream",
     "text": [
      "Completed 2.0 KiB/2.0 KiB (29.6 KiB/s) with 1 file(s) remaining\r",
      "download: s3://sagemaker-us-west-1-644307290749/xgboost-210529-0000-011-de06c9f0-2021-05-29-00-32-04-449/test.csv.out to ./test.csv.out\r\n"
     ]
    }
   ],
   "source": [
    "!aws s3 cp --recursive $transformer.output_path $data_dir"
   ]
  },
  {
   "cell_type": "markdown",
   "id": "45be649c",
   "metadata": {},
   "source": [
    "### Show evaluation metrics on the hold-out Test Set"
   ]
  },
  {
   "cell_type": "code",
   "execution_count": 35,
   "id": "b4c047d2",
   "metadata": {},
   "outputs": [],
   "source": [
    "yTestScore = pd.read_csv(os.path.join(data_dir, 'test.csv.out'), header=None)"
   ]
  },
  {
   "cell_type": "code",
   "execution_count": 36,
   "id": "792e1b72",
   "metadata": {},
   "outputs": [],
   "source": [
    "yTestPred = (yTestScore > 0.5).astype(int)"
   ]
  },
  {
   "cell_type": "code",
   "execution_count": 37,
   "id": "1f9e43e0",
   "metadata": {},
   "outputs": [
    {
     "name": "stdout",
     "output_type": "stream",
     "text": [
      "              precision    recall  f1-score   support\n",
      "\n",
      "           0       0.98      0.92      0.95        89\n",
      "           1       0.56      0.82      0.67        11\n",
      "\n",
      "    accuracy                           0.91       100\n",
      "   macro avg       0.77      0.87      0.81       100\n",
      "weighted avg       0.93      0.91      0.92       100\n",
      "\n"
     ]
    }
   ],
   "source": [
    "from sklearn import metrics\n",
    "\n",
    "## Table of classification metrics\n",
    "print(metrics.classification_report(ytest, yTestPred))"
   ]
  },
  {
   "cell_type": "code",
   "execution_count": 38,
   "id": "eab43a67",
   "metadata": {},
   "outputs": [
    {
     "data": {
      "text/plain": [
       "array([[82,  7],\n",
       "       [ 2,  9]])"
      ]
     },
     "execution_count": 38,
     "metadata": {},
     "output_type": "execute_result"
    }
   ],
   "source": [
    "## Confusion matrix\n",
    "metrics.confusion_matrix(ytest, yTestPred)"
   ]
  },
  {
   "cell_type": "code",
   "execution_count": 39,
   "id": "73e131d4",
   "metadata": {},
   "outputs": [
    {
     "data": {
      "image/png": "[encoded data removed]",
      "text/plain": [
       "<Figure size 600x400 with 1 Axes>"
      ]
     },
     "metadata": {
      "needs_background": "light"
     },
     "output_type": "display_data"
    }
   ],
   "source": [
    "plot_roc(ytest, yTestScore)"
   ]
  },
  {
   "cell_type": "code",
   "execution_count": null,
   "id": "bcf345aa",
   "metadata": {},
   "outputs": [],
   "source": []
  }
 ],
 "metadata": {
  "kernelspec": {
   "display_name": "conda_pytorch_p36",
   "language": "python",
   "name": "conda_pytorch_p36"
  },
  "language_info": {
   "codemirror_mode": {
    "name": "ipython",
    "version": 3
   },
   "file_extension": ".py",
   "mimetype": "text/x-python",
   "name": "python",
   "nbconvert_exporter": "python",
   "pygments_lexer": "ipython3",
   "version": "3.6.13"
  }
 },
 "nbformat": 4,
 "nbformat_minor": 5
}
