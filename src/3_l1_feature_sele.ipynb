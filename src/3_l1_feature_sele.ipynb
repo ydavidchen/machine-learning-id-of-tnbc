{
 "cells": [
  {
   "cell_type": "markdown",
   "id": "616d44b4",
   "metadata": {},
   "source": [
    "# Project Notebook III: Feature Selection for Supervised Learning\n",
    "\n",
    "David Chen"
   ]
  },
  {
   "cell_type": "code",
   "execution_count": 1,
   "id": "842e2605",
   "metadata": {},
   "outputs": [],
   "source": [
    "import pandas as pd \n",
    "import numpy as np\n",
    "import os\n",
    "import matplotlib.pyplot as plt\n",
    "%matplotlib inline\n",
    "\n",
    "import sagemaker\n",
    "from sagemaker import get_execution_role\n",
    "import boto3\n",
    "\n",
    "## My custom helper functions\n",
    "from helpers import *"
   ]
  },
  {
   "cell_type": "markdown",
   "id": "744daf31",
   "metadata": {},
   "source": [
    "## Step 1. Sagemaker Resources & Processed Data Saved in S3"
   ]
  },
  {
   "cell_type": "code",
   "execution_count": 2,
   "id": "a9f40c25",
   "metadata": {},
   "outputs": [
    {
     "data": {
      "text/plain": [
       "<sagemaker.session.Session at 0x7f498c7c3f28>"
      ]
     },
     "execution_count": 2,
     "metadata": {},
     "output_type": "execute_result"
    }
   ],
   "source": [
    "sagemaker_session = sagemaker.Session()\n",
    "sagemaker_session"
   ]
  },
  {
   "cell_type": "code",
   "execution_count": 3,
   "id": "7cfaea11",
   "metadata": {},
   "outputs": [
    {
     "data": {
      "text/plain": [
       "'arn:aws:iam::644307290749:role/service-role/AmazonSageMaker-ExecutionRole-20210527T073969'"
      ]
     },
     "execution_count": 3,
     "metadata": {},
     "output_type": "execute_result"
    }
   ],
   "source": [
    "role = sagemaker.get_execution_role()\n",
    "role"
   ]
  },
  {
   "cell_type": "code",
   "execution_count": 4,
   "id": "24ca73dd",
   "metadata": {},
   "outputs": [
    {
     "data": {
      "text/plain": [
       "'sagemaker-us-west-1-644307290749'"
      ]
     },
     "execution_count": 4,
     "metadata": {},
     "output_type": "execute_result"
    }
   ],
   "source": [
    "bucket = sagemaker_session.default_bucket()\n",
    "bucket"
   ]
  },
  {
   "cell_type": "code",
   "execution_count": 5,
   "id": "e322e556",
   "metadata": {},
   "outputs": [
    {
     "data": {
      "text/plain": [
       "(999, 20528)"
      ]
     },
     "execution_count": 5,
     "metadata": {},
     "output_type": "execute_result"
    }
   ],
   "source": [
    "## Load processed features:\n",
    "genes = pd.read_csv(get_s3_uri(\"assets/processed_data/genes.csv\", bucket), index_col=0)\n",
    "genes.shape"
   ]
  },
  {
   "cell_type": "code",
   "execution_count": 6,
   "id": "5876a2db",
   "metadata": {},
   "outputs": [
    {
     "data": {
      "text/plain": [
       "(999, 15)"
      ]
     },
     "execution_count": 6,
     "metadata": {},
     "output_type": "execute_result"
    }
   ],
   "source": [
    "## Load processed patient annotations (with defined class label):\n",
    "clinical = pd.read_csv(get_s3_uri(\"assets/processed_data/clinical.csv\", bucket))\n",
    "clinical.shape"
   ]
  },
  {
   "cell_type": "code",
   "execution_count": 7,
   "id": "60c9526a",
   "metadata": {},
   "outputs": [
    {
     "data": {
      "text/plain": [
       "True"
      ]
     },
     "execution_count": 7,
     "metadata": {},
     "output_type": "execute_result"
    }
   ],
   "source": [
    "## Check to see if patient IDs in the 2 DataFrames match\n",
    "all(genes.index == clinical['Sample ID'])"
   ]
  },
  {
   "cell_type": "markdown",
   "id": "a58e0b62",
   "metadata": {},
   "source": [
    "### Exclude genes with missing values\n",
    "\n",
    "Only a small number of genes (approx $1.5\\%$) have missing values. Excluding them should not have major impact on machine learning outcome.\n",
    "\n",
    "After dropping NaNs, there are over 20,000 features and 999 observations in the dataset."
   ]
  },
  {
   "cell_type": "code",
   "execution_count": 8,
   "id": "ee9a5d98",
   "metadata": {},
   "outputs": [
    {
     "data": {
      "text/plain": [
       "0.01553975058456742"
      ]
     },
     "execution_count": 8,
     "metadata": {},
     "output_type": "execute_result"
    }
   ],
   "source": [
    "genesWithNan = genes.columns[genes.isna().any()].tolist()\n",
    "len(genesWithNan) / genes.shape[1]"
   ]
  },
  {
   "cell_type": "code",
   "execution_count": 9,
   "id": "82acba1d",
   "metadata": {},
   "outputs": [
    {
     "data": {
      "text/plain": [
       "(999, 20209)"
      ]
     },
     "execution_count": 9,
     "metadata": {},
     "output_type": "execute_result"
    }
   ],
   "source": [
    "genes = genes.dropna(axis=1)\n",
    "genes.shape"
   ]
  },
  {
   "cell_type": "markdown",
   "id": "cfc741d6",
   "metadata": {},
   "source": [
    "## Step 2. L1-based Feature Selection\n",
    "\n",
    "Reference: sklearn documentation on [feature selection](https://scikit-learn.org/stable/modules/feature_selection.html)\n",
    "\n",
    "I choose L1 because it is a rather \"aggressive\" approach, which may work well here given our feature space is very high-dimensional.\n",
    "\n",
    "There are alternative approaches such as Recursive Feature Elimination (RFE). However, such approaches may be too computationally expensive and not good choices for an very-large feature space."
   ]
  },
  {
   "cell_type": "code",
   "execution_count": 10,
   "id": "53384684",
   "metadata": {},
   "outputs": [],
   "source": [
    "from sklearn.svm import LinearSVC\n",
    "from sklearn.feature_selection import SelectFromModel"
   ]
  },
  {
   "cell_type": "code",
   "execution_count": 11,
   "id": "67ebfdde",
   "metadata": {},
   "outputs": [],
   "source": [
    "lsvc = LinearSVC(C=0.01, penalty=\"l1\", dual=False)"
   ]
  },
  {
   "cell_type": "code",
   "execution_count": 12,
   "id": "888da88d",
   "metadata": {},
   "outputs": [
    {
     "name": "stderr",
     "output_type": "stream",
     "text": [
      "/home/ec2-user/anaconda3/envs/pytorch_p36/lib/python3.6/site-packages/sklearn/svm/_base.py:986: ConvergenceWarning: Liblinear failed to converge, increase the number of iterations.\n",
      "  \"the number of iterations.\", ConvergenceWarning)\n"
     ]
    },
    {
     "data": {
      "text/plain": [
       "LinearSVC(C=0.01, dual=False, penalty='l1')"
      ]
     },
     "execution_count": 12,
     "metadata": {},
     "output_type": "execute_result"
    }
   ],
   "source": [
    "lsvc.fit(genes, clinical[\"Label\"].values)"
   ]
  },
  {
   "cell_type": "code",
   "execution_count": 13,
   "id": "4451539d",
   "metadata": {},
   "outputs": [],
   "source": [
    "model = SelectFromModel(lsvc, prefit=True)"
   ]
  },
  {
   "cell_type": "code",
   "execution_count": 14,
   "id": "6331876c",
   "metadata": {},
   "outputs": [
    {
     "data": {
      "text/plain": [
       "(999, 33)"
      ]
     },
     "execution_count": 14,
     "metadata": {},
     "output_type": "execute_result"
    }
   ],
   "source": [
    "genes_l1 = model.transform(genes)\n",
    "genes_l1.shape"
   ]
  },
  {
   "cell_type": "code",
   "execution_count": 15,
   "id": "189f47b2",
   "metadata": {},
   "outputs": [
    {
     "data": {
      "text/plain": [
       "Index(['155465', '7916', '696', '57150', '158067', '729767', '1131', '22866',\n",
       "       '1602', '2300', '161835', '9118', '10265', '3787', '55915', '116372',\n",
       "       '284348', '84789', '9313', '193629', '93210', '5460', '25837', '255426',\n",
       "       '140032', '81893', '26781', '6627', '254122', '222183', '7031', '11013',\n",
       "       '83887'],\n",
       "      dtype='object')"
      ]
     },
     "execution_count": 15,
     "metadata": {},
     "output_type": "execute_result"
    }
   ],
   "source": [
    "## Set aside gene features selected\n",
    "selected_features = genes.columns[model.get_support()]\n",
    "selected_features #entrez gene Ids"
   ]
  },
  {
   "cell_type": "code",
   "execution_count": 16,
   "id": "eca566b4",
   "metadata": {},
   "outputs": [
    {
     "data": {
      "text/plain": [
       "33"
      ]
     },
     "execution_count": 16,
     "metadata": {},
     "output_type": "execute_result"
    }
   ],
   "source": [
    "len(selected_features) #should match genes_l1.shape[1]"
   ]
  },
  {
   "cell_type": "markdown",
   "id": "844f670b",
   "metadata": {},
   "source": [
    "The downstream result of L1 feature selection can be useful. For example, we can compare the performance via A/B testing when ___ is used as the input:\n",
    "\n",
    "* All genes in the processed `genes` DataFrame\n",
    "* 2-dimensional PCA features (which we saw to well overlap with the positive class in Notebook II)\n",
    "* L1-selected features"
   ]
  },
  {
   "cell_type": "markdown",
   "id": "ae4ce447",
   "metadata": {},
   "source": [
    "## Step 3. Export L1-features"
   ]
  },
  {
   "cell_type": "code",
   "execution_count": 17,
   "id": "4f33fbe5",
   "metadata": {},
   "outputs": [
    {
     "data": {
      "text/html": [
       "<div>\n",
       "<style scoped>\n",
       "    .dataframe tbody tr th:only-of-type {\n",
       "        vertical-align: middle;\n",
       "    }\n",
       "\n",
       "    .dataframe tbody tr th {\n",
       "        vertical-align: top;\n",
       "    }\n",
       "\n",
       "    .dataframe thead th {\n",
       "        text-align: right;\n",
       "    }\n",
       "</style>\n",
       "<table border=\"1\" class=\"dataframe\">\n",
       "  <thead>\n",
       "    <tr style=\"text-align: right;\">\n",
       "      <th></th>\n",
       "      <th>155465</th>\n",
       "      <th>7916</th>\n",
       "      <th>696</th>\n",
       "      <th>57150</th>\n",
       "      <th>158067</th>\n",
       "      <th>729767</th>\n",
       "      <th>1131</th>\n",
       "      <th>22866</th>\n",
       "      <th>1602</th>\n",
       "      <th>2300</th>\n",
       "      <th>...</th>\n",
       "      <th>255426</th>\n",
       "      <th>140032</th>\n",
       "      <th>81893</th>\n",
       "      <th>26781</th>\n",
       "      <th>6627</th>\n",
       "      <th>254122</th>\n",
       "      <th>222183</th>\n",
       "      <th>7031</th>\n",
       "      <th>11013</th>\n",
       "      <th>83887</th>\n",
       "    </tr>\n",
       "  </thead>\n",
       "  <tbody>\n",
       "    <tr>\n",
       "      <th>TCGA-3C-AAAU-01</th>\n",
       "      <td>0.7440</td>\n",
       "      <td>1.2784</td>\n",
       "      <td>-0.5802</td>\n",
       "      <td>-0.6921</td>\n",
       "      <td>0.2543</td>\n",
       "      <td>-728.237</td>\n",
       "      <td>-0.8139</td>\n",
       "      <td>-1.7270</td>\n",
       "      <td>1.2323</td>\n",
       "      <td>-0.5828</td>\n",
       "      <td>...</td>\n",
       "      <td>-0.8564</td>\n",
       "      <td>-110.8859</td>\n",
       "      <td>0.8984</td>\n",
       "      <td>-0.7966</td>\n",
       "      <td>-0.3612</td>\n",
       "      <td>-0.8150</td>\n",
       "      <td>1.7296</td>\n",
       "      <td>-0.6914</td>\n",
       "      <td>0.6873</td>\n",
       "      <td>-0.4827</td>\n",
       "    </tr>\n",
       "    <tr>\n",
       "      <th>TCGA-3C-AALI-01</th>\n",
       "      <td>0.8540</td>\n",
       "      <td>0.5455</td>\n",
       "      <td>-0.3288</td>\n",
       "      <td>-1.0560</td>\n",
       "      <td>0.3772</td>\n",
       "      <td>-728.237</td>\n",
       "      <td>-1.1093</td>\n",
       "      <td>-0.5511</td>\n",
       "      <td>0.7238</td>\n",
       "      <td>-0.4548</td>\n",
       "      <td>...</td>\n",
       "      <td>-0.7491</td>\n",
       "      <td>-110.8859</td>\n",
       "      <td>0.3764</td>\n",
       "      <td>1.3914</td>\n",
       "      <td>0.2696</td>\n",
       "      <td>-0.3699</td>\n",
       "      <td>0.7580</td>\n",
       "      <td>-0.3852</td>\n",
       "      <td>0.3087</td>\n",
       "      <td>0.0989</td>\n",
       "    </tr>\n",
       "    <tr>\n",
       "      <th>TCGA-3C-AALJ-01</th>\n",
       "      <td>0.5845</td>\n",
       "      <td>0.4624</td>\n",
       "      <td>-0.4364</td>\n",
       "      <td>-2.3766</td>\n",
       "      <td>0.4910</td>\n",
       "      <td>-728.237</td>\n",
       "      <td>-1.1788</td>\n",
       "      <td>-1.7270</td>\n",
       "      <td>0.1600</td>\n",
       "      <td>0.3460</td>\n",
       "      <td>...</td>\n",
       "      <td>-0.0659</td>\n",
       "      <td>-110.8859</td>\n",
       "      <td>-0.0003</td>\n",
       "      <td>-1.7618</td>\n",
       "      <td>0.0888</td>\n",
       "      <td>-0.6935</td>\n",
       "      <td>0.5507</td>\n",
       "      <td>-0.3153</td>\n",
       "      <td>1.0042</td>\n",
       "      <td>-0.5672</td>\n",
       "    </tr>\n",
       "    <tr>\n",
       "      <th>TCGA-3C-AALK-01</th>\n",
       "      <td>0.1980</td>\n",
       "      <td>0.7335</td>\n",
       "      <td>-0.2444</td>\n",
       "      <td>0.1833</td>\n",
       "      <td>0.3688</td>\n",
       "      <td>-728.237</td>\n",
       "      <td>-0.0368</td>\n",
       "      <td>0.0906</td>\n",
       "      <td>-0.1117</td>\n",
       "      <td>-0.0171</td>\n",
       "      <td>...</td>\n",
       "      <td>0.3010</td>\n",
       "      <td>-110.8859</td>\n",
       "      <td>-1.2495</td>\n",
       "      <td>-0.6335</td>\n",
       "      <td>-0.0343</td>\n",
       "      <td>-0.3610</td>\n",
       "      <td>0.6755</td>\n",
       "      <td>1.1335</td>\n",
       "      <td>0.0023</td>\n",
       "      <td>-1.4099</td>\n",
       "    </tr>\n",
       "    <tr>\n",
       "      <th>TCGA-4H-AAAK-01</th>\n",
       "      <td>0.2268</td>\n",
       "      <td>0.7309</td>\n",
       "      <td>-0.7818</td>\n",
       "      <td>0.1617</td>\n",
       "      <td>0.9663</td>\n",
       "      <td>-728.237</td>\n",
       "      <td>-0.7991</td>\n",
       "      <td>0.8768</td>\n",
       "      <td>0.1532</td>\n",
       "      <td>0.2638</td>\n",
       "      <td>...</td>\n",
       "      <td>-0.8110</td>\n",
       "      <td>-110.8859</td>\n",
       "      <td>-0.7703</td>\n",
       "      <td>-0.6064</td>\n",
       "      <td>-0.7436</td>\n",
       "      <td>0.8746</td>\n",
       "      <td>0.8174</td>\n",
       "      <td>0.8219</td>\n",
       "      <td>0.5726</td>\n",
       "      <td>-0.6057</td>\n",
       "    </tr>\n",
       "  </tbody>\n",
       "</table>\n",
       "<p>5 rows × 33 columns</p>\n",
       "</div>"
      ],
      "text/plain": [
       "                 155465    7916     696   57150  158067   729767    1131  \\\n",
       "TCGA-3C-AAAU-01  0.7440  1.2784 -0.5802 -0.6921  0.2543 -728.237 -0.8139   \n",
       "TCGA-3C-AALI-01  0.8540  0.5455 -0.3288 -1.0560  0.3772 -728.237 -1.1093   \n",
       "TCGA-3C-AALJ-01  0.5845  0.4624 -0.4364 -2.3766  0.4910 -728.237 -1.1788   \n",
       "TCGA-3C-AALK-01  0.1980  0.7335 -0.2444  0.1833  0.3688 -728.237 -0.0368   \n",
       "TCGA-4H-AAAK-01  0.2268  0.7309 -0.7818  0.1617  0.9663 -728.237 -0.7991   \n",
       "\n",
       "                  22866    1602    2300  ...  255426    140032   81893  \\\n",
       "TCGA-3C-AAAU-01 -1.7270  1.2323 -0.5828  ... -0.8564 -110.8859  0.8984   \n",
       "TCGA-3C-AALI-01 -0.5511  0.7238 -0.4548  ... -0.7491 -110.8859  0.3764   \n",
       "TCGA-3C-AALJ-01 -1.7270  0.1600  0.3460  ... -0.0659 -110.8859 -0.0003   \n",
       "TCGA-3C-AALK-01  0.0906 -0.1117 -0.0171  ...  0.3010 -110.8859 -1.2495   \n",
       "TCGA-4H-AAAK-01  0.8768  0.1532  0.2638  ... -0.8110 -110.8859 -0.7703   \n",
       "\n",
       "                  26781    6627  254122  222183    7031   11013   83887  \n",
       "TCGA-3C-AAAU-01 -0.7966 -0.3612 -0.8150  1.7296 -0.6914  0.6873 -0.4827  \n",
       "TCGA-3C-AALI-01  1.3914  0.2696 -0.3699  0.7580 -0.3852  0.3087  0.0989  \n",
       "TCGA-3C-AALJ-01 -1.7618  0.0888 -0.6935  0.5507 -0.3153  1.0042 -0.5672  \n",
       "TCGA-3C-AALK-01 -0.6335 -0.0343 -0.3610  0.6755  1.1335  0.0023 -1.4099  \n",
       "TCGA-4H-AAAK-01 -0.6064 -0.7436  0.8746  0.8174  0.8219  0.5726 -0.6057  \n",
       "\n",
       "[5 rows x 33 columns]"
      ]
     },
     "execution_count": 17,
     "metadata": {},
     "output_type": "execute_result"
    }
   ],
   "source": [
    "genes_l1 = pd.DataFrame(genes_l1)\n",
    "genes_l1.columns = selected_features #selected features\n",
    "genes_l1.index = genes.index #observations\n",
    "genes_l1.head()"
   ]
  },
  {
   "cell_type": "code",
   "execution_count": 18,
   "id": "75475ba3",
   "metadata": {},
   "outputs": [],
   "source": [
    "directS3Save(genes_l1, bucket, \"assets/processed_data/genes_l1_selected.csv\")"
   ]
  },
  {
   "cell_type": "code",
   "execution_count": null,
   "id": "62d5473c",
   "metadata": {},
   "outputs": [],
   "source": []
  }
 ],
 "metadata": {
  "kernelspec": {
   "display_name": "conda_pytorch_p36",
   "language": "python",
   "name": "conda_pytorch_p36"
  },
  "language_info": {
   "codemirror_mode": {
    "name": "ipython",
    "version": 3
   },
   "file_extension": ".py",
   "mimetype": "text/x-python",
   "name": "python",
   "nbconvert_exporter": "python",
   "pygments_lexer": "ipython3",
   "version": "3.6.13"
  }
 },
 "nbformat": 4,
 "nbformat_minor": 5
}
