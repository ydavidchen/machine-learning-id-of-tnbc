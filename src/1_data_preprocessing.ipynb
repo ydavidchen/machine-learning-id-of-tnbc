{
 "cells": [
  {
   "cell_type": "markdown",
   "id": "d8d4083f",
   "metadata": {},
   "source": [
    "# Project Notebook I: Data Pre-processing\n",
    "\n",
    "David Chen\n",
    "\n",
    "In this notebook, we will accomplish the following:\n",
    "\n",
    "* Load clinical data as a DataFrame `clinical`, required to define class label `clinical[Label] : bool`\n",
    "* Load molecular data as an mxn DataFrame, `genes`. We will select the appropriate rows (patients) and match the `genes` DataFrame with the `clinical` data."
   ]
  },
  {
   "cell_type": "code",
   "execution_count": 1,
   "id": "ffb85f9c",
   "metadata": {},
   "outputs": [],
   "source": [
    "import pandas as pd \n",
    "import numpy as np\n",
    "import matplotlib.pyplot as plt\n",
    "%matplotlib inline\n",
    "\n",
    "import sagemaker\n",
    "from sagemaker import get_execution_role"
   ]
  },
  {
   "cell_type": "code",
   "execution_count": 2,
   "id": "2dd6523b",
   "metadata": {},
   "outputs": [],
   "source": [
    "## My custom helper functions\n",
    "from helpers import *"
   ]
  },
  {
   "cell_type": "markdown",
   "id": "56e67969",
   "metadata": {},
   "source": [
    "## Step 0. Load Sagemaker Resources\n",
    "\n",
    "The data downloaded has been uploaded to S3 default bucket manually.\n",
    "\n",
    "Note: These Jupyter Notebooks and associated S3 objects were on my personal AWS account."
   ]
  },
  {
   "cell_type": "code",
   "execution_count": 3,
   "id": "7c41e659",
   "metadata": {},
   "outputs": [
    {
     "data": {
      "text/plain": [
       "<sagemaker.session.Session at 0x7f6a140a8f28>"
      ]
     },
     "execution_count": 3,
     "metadata": {},
     "output_type": "execute_result"
    }
   ],
   "source": [
    "sagemaker_session = sagemaker.Session()\n",
    "sagemaker_session"
   ]
  },
  {
   "cell_type": "code",
   "execution_count": 4,
   "id": "cace86ce",
   "metadata": {},
   "outputs": [
    {
     "data": {
      "text/plain": [
       "'arn:aws:iam::644307290749:role/service-role/AmazonSageMaker-ExecutionRole-20210527T073969'"
      ]
     },
     "execution_count": 4,
     "metadata": {},
     "output_type": "execute_result"
    }
   ],
   "source": [
    "role = sagemaker.get_execution_role()\n",
    "role"
   ]
  },
  {
   "cell_type": "code",
   "execution_count": 5,
   "id": "c497a8f1",
   "metadata": {},
   "outputs": [
    {
     "data": {
      "text/plain": [
       "'sagemaker-us-west-1-644307290749'"
      ]
     },
     "execution_count": 5,
     "metadata": {},
     "output_type": "execute_result"
    }
   ],
   "source": [
    "bucket = sagemaker_session.default_bucket()\n",
    "bucket"
   ]
  },
  {
   "cell_type": "code",
   "execution_count": 6,
   "id": "fb6ca8a9",
   "metadata": {},
   "outputs": [
    {
     "data": {
      "text/plain": [
       "'assets/'"
      ]
     },
     "execution_count": 6,
     "metadata": {},
     "output_type": "execute_result"
    }
   ],
   "source": [
    "reveal_bucket(bucket)"
   ]
  },
  {
   "cell_type": "markdown",
   "id": "df58947b",
   "metadata": {},
   "source": [
    "## Step 1. Load & Handle Gene Features \n",
    "\n",
    "Gene features and clinical annotations (required for defining class label) are uploaded to my S3 buckets. \n",
    "\n",
    "The following cells use one of my helper functions to identify the path, and then import each as Pandas dataframes."
   ]
  },
  {
   "cell_type": "code",
   "execution_count": 7,
   "id": "2775356b",
   "metadata": {},
   "outputs": [],
   "source": [
    "## Use my custom helper function imported:\n",
    "path_input = get_s3_uri(\"assets/data/data_RNA_Seq_v2_mRNA_median_all_sample_Zscores.txt\", bucket)\n",
    "path_annot = get_s3_uri(\"assets/data/brca_tcga_clinical_data.tsv\", bucket)"
   ]
  },
  {
   "cell_type": "code",
   "execution_count": 8,
   "id": "18ff412e",
   "metadata": {},
   "outputs": [
    {
     "data": {
      "text/plain": [
       "(20531, 1102)"
      ]
     },
     "execution_count": 8,
     "metadata": {},
     "output_type": "execute_result"
    }
   ],
   "source": [
    "## Features - high dimensional\n",
    "genes = pd.read_csv(path_input, delimiter=\"\\t\")\n",
    "genes.shape"
   ]
  },
  {
   "cell_type": "code",
   "execution_count": 9,
   "id": "f72fa22e",
   "metadata": {},
   "outputs": [
    {
     "data": {
      "text/html": [
       "<div>\n",
       "<style scoped>\n",
       "    .dataframe tbody tr th:only-of-type {\n",
       "        vertical-align: middle;\n",
       "    }\n",
       "\n",
       "    .dataframe tbody tr th {\n",
       "        vertical-align: top;\n",
       "    }\n",
       "\n",
       "    .dataframe thead th {\n",
       "        text-align: right;\n",
       "    }\n",
       "</style>\n",
       "<table border=\"1\" class=\"dataframe\">\n",
       "  <thead>\n",
       "    <tr style=\"text-align: right;\">\n",
       "      <th></th>\n",
       "      <th>Hugo_Symbol</th>\n",
       "      <th>Entrez_Gene_Id</th>\n",
       "      <th>TCGA-3C-AAAU-01</th>\n",
       "      <th>TCGA-3C-AALI-01</th>\n",
       "      <th>TCGA-3C-AALJ-01</th>\n",
       "      <th>TCGA-3C-AALK-01</th>\n",
       "      <th>TCGA-4H-AAAK-01</th>\n",
       "      <th>TCGA-5L-AAT0-01</th>\n",
       "      <th>TCGA-5L-AAT1-01</th>\n",
       "      <th>TCGA-5T-A9QA-01</th>\n",
       "      <th>...</th>\n",
       "      <th>TCGA-UL-AAZ6-01</th>\n",
       "      <th>TCGA-UU-A93S-01</th>\n",
       "      <th>TCGA-V7-A7HQ-01</th>\n",
       "      <th>TCGA-W8-A86G-01</th>\n",
       "      <th>TCGA-WT-AB41-01</th>\n",
       "      <th>TCGA-WT-AB44-01</th>\n",
       "      <th>TCGA-XX-A899-01</th>\n",
       "      <th>TCGA-XX-A89A-01</th>\n",
       "      <th>TCGA-Z7-A8R5-01</th>\n",
       "      <th>TCGA-Z7-A8R6-01</th>\n",
       "    </tr>\n",
       "  </thead>\n",
       "  <tbody>\n",
       "    <tr>\n",
       "      <th>0</th>\n",
       "      <td>LOC100130426</td>\n",
       "      <td>100130426</td>\n",
       "      <td>-1.7608</td>\n",
       "      <td>-1.7608</td>\n",
       "      <td>1.1240</td>\n",
       "      <td>-1.7608</td>\n",
       "      <td>-1.7608</td>\n",
       "      <td>-1.7608</td>\n",
       "      <td>-1.7608</td>\n",
       "      <td>-1.7608</td>\n",
       "      <td>...</td>\n",
       "      <td>-1.7608</td>\n",
       "      <td>-1.7608</td>\n",
       "      <td>-1.7608</td>\n",
       "      <td>-1.7608</td>\n",
       "      <td>-1.7608</td>\n",
       "      <td>-1.7608</td>\n",
       "      <td>-1.7608</td>\n",
       "      <td>-1.7608</td>\n",
       "      <td>-1.7608</td>\n",
       "      <td>-1.7608</td>\n",
       "    </tr>\n",
       "    <tr>\n",
       "      <th>1</th>\n",
       "      <td>UBE2Q2P3</td>\n",
       "      <td>100133144</td>\n",
       "      <td>1.0944</td>\n",
       "      <td>0.3540</td>\n",
       "      <td>0.6451</td>\n",
       "      <td>0.6963</td>\n",
       "      <td>-0.0246</td>\n",
       "      <td>-0.6627</td>\n",
       "      <td>-2.9270</td>\n",
       "      <td>-1.6563</td>\n",
       "      <td>...</td>\n",
       "      <td>-2.4538</td>\n",
       "      <td>-0.5741</td>\n",
       "      <td>-2.9270</td>\n",
       "      <td>-0.2765</td>\n",
       "      <td>-2.9270</td>\n",
       "      <td>-2.9270</td>\n",
       "      <td>0.9240</td>\n",
       "      <td>1.5101</td>\n",
       "      <td>-1.2605</td>\n",
       "      <td>-0.0175</td>\n",
       "    </tr>\n",
       "    <tr>\n",
       "      <th>2</th>\n",
       "      <td>UBE2Q2P3</td>\n",
       "      <td>100134869</td>\n",
       "      <td>1.0230</td>\n",
       "      <td>1.4736</td>\n",
       "      <td>0.5206</td>\n",
       "      <td>0.7910</td>\n",
       "      <td>1.1891</td>\n",
       "      <td>1.1002</td>\n",
       "      <td>0.7244</td>\n",
       "      <td>0.4830</td>\n",
       "      <td>...</td>\n",
       "      <td>1.1830</td>\n",
       "      <td>0.7643</td>\n",
       "      <td>-0.9748</td>\n",
       "      <td>1.1829</td>\n",
       "      <td>-0.0262</td>\n",
       "      <td>-0.9051</td>\n",
       "      <td>1.7984</td>\n",
       "      <td>2.1743</td>\n",
       "      <td>0.1793</td>\n",
       "      <td>2.0240</td>\n",
       "    </tr>\n",
       "    <tr>\n",
       "      <th>3</th>\n",
       "      <td>LOC149767</td>\n",
       "      <td>10357</td>\n",
       "      <td>-1.7033</td>\n",
       "      <td>-1.0056</td>\n",
       "      <td>0.9114</td>\n",
       "      <td>0.7418</td>\n",
       "      <td>-0.5522</td>\n",
       "      <td>0.1842</td>\n",
       "      <td>0.2208</td>\n",
       "      <td>0.0383</td>\n",
       "      <td>...</td>\n",
       "      <td>0.5990</td>\n",
       "      <td>0.6079</td>\n",
       "      <td>-3.0182</td>\n",
       "      <td>0.4649</td>\n",
       "      <td>-1.6364</td>\n",
       "      <td>-2.2051</td>\n",
       "      <td>0.6371</td>\n",
       "      <td>-1.2071</td>\n",
       "      <td>-0.5285</td>\n",
       "      <td>1.1111</td>\n",
       "    </tr>\n",
       "    <tr>\n",
       "      <th>4</th>\n",
       "      <td>TIMM23</td>\n",
       "      <td>10431</td>\n",
       "      <td>-2.5248</td>\n",
       "      <td>-1.6307</td>\n",
       "      <td>0.8069</td>\n",
       "      <td>-0.4455</td>\n",
       "      <td>-0.7821</td>\n",
       "      <td>-0.6367</td>\n",
       "      <td>0.2389</td>\n",
       "      <td>0.9257</td>\n",
       "      <td>...</td>\n",
       "      <td>1.2029</td>\n",
       "      <td>2.8887</td>\n",
       "      <td>1.4583</td>\n",
       "      <td>-1.0420</td>\n",
       "      <td>0.5612</td>\n",
       "      <td>1.6977</td>\n",
       "      <td>-1.2260</td>\n",
       "      <td>-0.9444</td>\n",
       "      <td>0.3174</td>\n",
       "      <td>-0.0360</td>\n",
       "    </tr>\n",
       "  </tbody>\n",
       "</table>\n",
       "<p>5 rows × 1102 columns</p>\n",
       "</div>"
      ],
      "text/plain": [
       "    Hugo_Symbol  Entrez_Gene_Id  TCGA-3C-AAAU-01  TCGA-3C-AALI-01  \\\n",
       "0  LOC100130426       100130426          -1.7608          -1.7608   \n",
       "1      UBE2Q2P3       100133144           1.0944           0.3540   \n",
       "2      UBE2Q2P3       100134869           1.0230           1.4736   \n",
       "3     LOC149767           10357          -1.7033          -1.0056   \n",
       "4        TIMM23           10431          -2.5248          -1.6307   \n",
       "\n",
       "   TCGA-3C-AALJ-01  TCGA-3C-AALK-01  TCGA-4H-AAAK-01  TCGA-5L-AAT0-01  \\\n",
       "0           1.1240          -1.7608          -1.7608          -1.7608   \n",
       "1           0.6451           0.6963          -0.0246          -0.6627   \n",
       "2           0.5206           0.7910           1.1891           1.1002   \n",
       "3           0.9114           0.7418          -0.5522           0.1842   \n",
       "4           0.8069          -0.4455          -0.7821          -0.6367   \n",
       "\n",
       "   TCGA-5L-AAT1-01  TCGA-5T-A9QA-01  ...  TCGA-UL-AAZ6-01  TCGA-UU-A93S-01  \\\n",
       "0          -1.7608          -1.7608  ...          -1.7608          -1.7608   \n",
       "1          -2.9270          -1.6563  ...          -2.4538          -0.5741   \n",
       "2           0.7244           0.4830  ...           1.1830           0.7643   \n",
       "3           0.2208           0.0383  ...           0.5990           0.6079   \n",
       "4           0.2389           0.9257  ...           1.2029           2.8887   \n",
       "\n",
       "   TCGA-V7-A7HQ-01  TCGA-W8-A86G-01  TCGA-WT-AB41-01  TCGA-WT-AB44-01  \\\n",
       "0          -1.7608          -1.7608          -1.7608          -1.7608   \n",
       "1          -2.9270          -0.2765          -2.9270          -2.9270   \n",
       "2          -0.9748           1.1829          -0.0262          -0.9051   \n",
       "3          -3.0182           0.4649          -1.6364          -2.2051   \n",
       "4           1.4583          -1.0420           0.5612           1.6977   \n",
       "\n",
       "   TCGA-XX-A899-01  TCGA-XX-A89A-01  TCGA-Z7-A8R5-01  TCGA-Z7-A8R6-01  \n",
       "0          -1.7608          -1.7608          -1.7608          -1.7608  \n",
       "1           0.9240           1.5101          -1.2605          -0.0175  \n",
       "2           1.7984           2.1743           0.1793           2.0240  \n",
       "3           0.6371          -1.2071          -0.5285           1.1111  \n",
       "4          -1.2260          -0.9444           0.3174          -0.0360  \n",
       "\n",
       "[5 rows x 1102 columns]"
      ]
     },
     "execution_count": 9,
     "metadata": {},
     "output_type": "execute_result"
    }
   ],
   "source": [
    "genes.head()"
   ]
  },
  {
   "cell_type": "code",
   "execution_count": 10,
   "id": "f1182b4c",
   "metadata": {},
   "outputs": [],
   "source": [
    "## Set aside gene name to numerical id\n",
    "## Will be exported for reuse \n",
    "gene_map = genes.iloc[:, 0:2]"
   ]
  },
  {
   "cell_type": "markdown",
   "id": "87674e5b",
   "metadata": {},
   "source": [
    "### Important: Drop _ESR1_ (estrogen receptor), _PGR_ (progesterone receptor), _ERBB2_ (HER2 receptor) genes to prevent data leakage\n",
    "\n",
    "The specific reason as to why these 3 genes must be dropped to avoid _data leakage_ requires **domain-specific knowledge**, which is briefed in the _Proposal_ document."
   ]
  },
  {
   "cell_type": "code",
   "execution_count": 11,
   "id": "0a9c1a87",
   "metadata": {},
   "outputs": [
    {
     "data": {
      "text/plain": [
       "[True, True, True]"
      ]
     },
     "execution_count": 11,
     "metadata": {},
     "output_type": "execute_result"
    }
   ],
   "source": [
    "## First check if the 3 genes are in the data\n",
    "GENES_TO_DROP = [\"ESR1\", \"PGR\", \"ERBB2\"]\n",
    "[g in genes[\"Hugo_Symbol\"].values for g in GENES_TO_DROP]"
   ]
  },
  {
   "cell_type": "code",
   "execution_count": 12,
   "id": "43597388",
   "metadata": {},
   "outputs": [],
   "source": [
    "## Next, drop the 3 genes from the dataframe \n",
    "genes = genes.loc[~genes[\"Hugo_Symbol\"].isin(GENES_TO_DROP), :]"
   ]
  },
  {
   "cell_type": "code",
   "execution_count": 13,
   "id": "d3b0cede",
   "metadata": {},
   "outputs": [
    {
     "data": {
      "text/plain": [
       "[False, False, False]"
      ]
     },
     "execution_count": 13,
     "metadata": {},
     "output_type": "execute_result"
    }
   ],
   "source": [
    "## Check: all should be False\n",
    "[g in genes[\"Hugo_Symbol\"].values for g in GENES_TO_DROP]"
   ]
  },
  {
   "cell_type": "markdown",
   "id": "9d5f2f4e",
   "metadata": {},
   "source": [
    "### Drop the gene names & gene code columns, which have been set aside\n",
    "\n",
    "Keep ONLY the numerical gene IDs as row indices, which will become column indices "
   ]
  },
  {
   "cell_type": "code",
   "execution_count": 14,
   "id": "7f3824d3",
   "metadata": {},
   "outputs": [],
   "source": [
    "assert not any(genes.duplicated(\"Entrez_Gene_Id\"))  #ensure no duplicate id\n",
    "genes.index = genes[\"Entrez_Gene_Id\"]\n",
    "genes = genes.iloc[:, 2:] #drop gene id cols"
   ]
  },
  {
   "cell_type": "markdown",
   "id": "7ebf55c3",
   "metadata": {},
   "source": [
    "Note that the default format of the data on the web is that:\n",
    "\n",
    "* Features (genes) are rows\n",
    "* Observations (patients) are columns\n",
    "\n",
    "This isn't what Python machine learning algorithms are typically expecting. Thus, we need to **transpose** the DataFrame such that:\n",
    "\n",
    "* Features are columns\n",
    "* Observations are rows"
   ]
  },
  {
   "cell_type": "code",
   "execution_count": 15,
   "id": "edfa91ed",
   "metadata": {},
   "outputs": [
    {
     "data": {
      "text/html": [
       "<div>\n",
       "<style scoped>\n",
       "    .dataframe tbody tr th:only-of-type {\n",
       "        vertical-align: middle;\n",
       "    }\n",
       "\n",
       "    .dataframe tbody tr th {\n",
       "        vertical-align: top;\n",
       "    }\n",
       "\n",
       "    .dataframe thead th {\n",
       "        text-align: right;\n",
       "    }\n",
       "</style>\n",
       "<table border=\"1\" class=\"dataframe\">\n",
       "  <thead>\n",
       "    <tr style=\"text-align: right;\">\n",
       "      <th>Entrez_Gene_Id</th>\n",
       "      <th>100130426</th>\n",
       "      <th>100133144</th>\n",
       "      <th>100134869</th>\n",
       "      <th>10357</th>\n",
       "      <th>10431</th>\n",
       "      <th>136542</th>\n",
       "      <th>155060</th>\n",
       "      <th>26823</th>\n",
       "      <th>280660</th>\n",
       "      <th>317712</th>\n",
       "      <th>...</th>\n",
       "      <th>7789</th>\n",
       "      <th>158586</th>\n",
       "      <th>79364</th>\n",
       "      <th>440590</th>\n",
       "      <th>79699</th>\n",
       "      <th>7791</th>\n",
       "      <th>23140</th>\n",
       "      <th>26009</th>\n",
       "      <th>387590</th>\n",
       "      <th>389932</th>\n",
       "    </tr>\n",
       "  </thead>\n",
       "  <tbody>\n",
       "    <tr>\n",
       "      <th>TCGA-3C-AAAU-01</th>\n",
       "      <td>-1.7608</td>\n",
       "      <td>1.0944</td>\n",
       "      <td>1.0230</td>\n",
       "      <td>-1.7033</td>\n",
       "      <td>-2.5248</td>\n",
       "      <td>NaN</td>\n",
       "      <td>2.6672</td>\n",
       "      <td>-1.9754</td>\n",
       "      <td>-1.0239</td>\n",
       "      <td>-3.8503</td>\n",
       "      <td>...</td>\n",
       "      <td>1.6674</td>\n",
       "      <td>1.3652</td>\n",
       "      <td>1.7323</td>\n",
       "      <td>1.1787</td>\n",
       "      <td>1.0112</td>\n",
       "      <td>0.0077</td>\n",
       "      <td>1.2480</td>\n",
       "      <td>0.7011</td>\n",
       "      <td>-2.2857</td>\n",
       "      <td>-1.0151</td>\n",
       "    </tr>\n",
       "    <tr>\n",
       "      <th>TCGA-3C-AALI-01</th>\n",
       "      <td>-1.7608</td>\n",
       "      <td>0.3540</td>\n",
       "      <td>1.4736</td>\n",
       "      <td>-1.0056</td>\n",
       "      <td>-1.6307</td>\n",
       "      <td>NaN</td>\n",
       "      <td>1.4841</td>\n",
       "      <td>0.6553</td>\n",
       "      <td>-0.5570</td>\n",
       "      <td>-3.8503</td>\n",
       "      <td>...</td>\n",
       "      <td>0.0469</td>\n",
       "      <td>-0.2845</td>\n",
       "      <td>0.8841</td>\n",
       "      <td>0.9389</td>\n",
       "      <td>-0.8990</td>\n",
       "      <td>0.9335</td>\n",
       "      <td>0.3568</td>\n",
       "      <td>-1.8110</td>\n",
       "      <td>1.7416</td>\n",
       "      <td>-1.0151</td>\n",
       "    </tr>\n",
       "    <tr>\n",
       "      <th>TCGA-3C-AALJ-01</th>\n",
       "      <td>1.1240</td>\n",
       "      <td>0.6451</td>\n",
       "      <td>0.5206</td>\n",
       "      <td>0.9114</td>\n",
       "      <td>0.8069</td>\n",
       "      <td>NaN</td>\n",
       "      <td>1.6791</td>\n",
       "      <td>-1.9754</td>\n",
       "      <td>-1.0239</td>\n",
       "      <td>-3.8503</td>\n",
       "      <td>...</td>\n",
       "      <td>-1.0439</td>\n",
       "      <td>0.0704</td>\n",
       "      <td>-1.3588</td>\n",
       "      <td>1.4057</td>\n",
       "      <td>-1.2453</td>\n",
       "      <td>0.9163</td>\n",
       "      <td>-0.4675</td>\n",
       "      <td>-1.2802</td>\n",
       "      <td>-0.4957</td>\n",
       "      <td>-1.0151</td>\n",
       "    </tr>\n",
       "    <tr>\n",
       "      <th>TCGA-3C-AALK-01</th>\n",
       "      <td>-1.7608</td>\n",
       "      <td>0.6963</td>\n",
       "      <td>0.7910</td>\n",
       "      <td>0.7418</td>\n",
       "      <td>-0.4455</td>\n",
       "      <td>NaN</td>\n",
       "      <td>1.5817</td>\n",
       "      <td>-0.7379</td>\n",
       "      <td>-1.0239</td>\n",
       "      <td>-3.8503</td>\n",
       "      <td>...</td>\n",
       "      <td>-0.1270</td>\n",
       "      <td>-0.3346</td>\n",
       "      <td>-0.8902</td>\n",
       "      <td>0.8269</td>\n",
       "      <td>-0.8818</td>\n",
       "      <td>1.0020</td>\n",
       "      <td>-0.9299</td>\n",
       "      <td>-0.5286</td>\n",
       "      <td>-0.0672</td>\n",
       "      <td>-1.0151</td>\n",
       "    </tr>\n",
       "    <tr>\n",
       "      <th>TCGA-4H-AAAK-01</th>\n",
       "      <td>-1.7608</td>\n",
       "      <td>-0.0246</td>\n",
       "      <td>1.1891</td>\n",
       "      <td>-0.5522</td>\n",
       "      <td>-0.7821</td>\n",
       "      <td>NaN</td>\n",
       "      <td>0.5166</td>\n",
       "      <td>-0.7082</td>\n",
       "      <td>-1.0239</td>\n",
       "      <td>-3.8503</td>\n",
       "      <td>...</td>\n",
       "      <td>-0.3710</td>\n",
       "      <td>-0.3982</td>\n",
       "      <td>-0.1067</td>\n",
       "      <td>-1.4182</td>\n",
       "      <td>-0.2086</td>\n",
       "      <td>0.2990</td>\n",
       "      <td>-0.7752</td>\n",
       "      <td>0.0127</td>\n",
       "      <td>0.6400</td>\n",
       "      <td>-1.0151</td>\n",
       "    </tr>\n",
       "  </tbody>\n",
       "</table>\n",
       "<p>5 rows × 20528 columns</p>\n",
       "</div>"
      ],
      "text/plain": [
       "Entrez_Gene_Id   100130426  100133144  100134869  10357      10431      \\\n",
       "TCGA-3C-AAAU-01    -1.7608     1.0944     1.0230    -1.7033    -2.5248   \n",
       "TCGA-3C-AALI-01    -1.7608     0.3540     1.4736    -1.0056    -1.6307   \n",
       "TCGA-3C-AALJ-01     1.1240     0.6451     0.5206     0.9114     0.8069   \n",
       "TCGA-3C-AALK-01    -1.7608     0.6963     0.7910     0.7418    -0.4455   \n",
       "TCGA-4H-AAAK-01    -1.7608    -0.0246     1.1891    -0.5522    -0.7821   \n",
       "\n",
       "Entrez_Gene_Id   136542     155060     26823      280660     317712     ...  \\\n",
       "TCGA-3C-AAAU-01        NaN     2.6672    -1.9754    -1.0239    -3.8503  ...   \n",
       "TCGA-3C-AALI-01        NaN     1.4841     0.6553    -0.5570    -3.8503  ...   \n",
       "TCGA-3C-AALJ-01        NaN     1.6791    -1.9754    -1.0239    -3.8503  ...   \n",
       "TCGA-3C-AALK-01        NaN     1.5817    -0.7379    -1.0239    -3.8503  ...   \n",
       "TCGA-4H-AAAK-01        NaN     0.5166    -0.7082    -1.0239    -3.8503  ...   \n",
       "\n",
       "Entrez_Gene_Id   7789       158586     79364      440590     79699      \\\n",
       "TCGA-3C-AAAU-01     1.6674     1.3652     1.7323     1.1787     1.0112   \n",
       "TCGA-3C-AALI-01     0.0469    -0.2845     0.8841     0.9389    -0.8990   \n",
       "TCGA-3C-AALJ-01    -1.0439     0.0704    -1.3588     1.4057    -1.2453   \n",
       "TCGA-3C-AALK-01    -0.1270    -0.3346    -0.8902     0.8269    -0.8818   \n",
       "TCGA-4H-AAAK-01    -0.3710    -0.3982    -0.1067    -1.4182    -0.2086   \n",
       "\n",
       "Entrez_Gene_Id   7791       23140      26009      387590     389932     \n",
       "TCGA-3C-AAAU-01     0.0077     1.2480     0.7011    -2.2857    -1.0151  \n",
       "TCGA-3C-AALI-01     0.9335     0.3568    -1.8110     1.7416    -1.0151  \n",
       "TCGA-3C-AALJ-01     0.9163    -0.4675    -1.2802    -0.4957    -1.0151  \n",
       "TCGA-3C-AALK-01     1.0020    -0.9299    -0.5286    -0.0672    -1.0151  \n",
       "TCGA-4H-AAAK-01     0.2990    -0.7752     0.0127     0.6400    -1.0151  \n",
       "\n",
       "[5 rows x 20528 columns]"
      ]
     },
     "execution_count": 15,
     "metadata": {},
     "output_type": "execute_result"
    }
   ],
   "source": [
    "## Transpose dataframe such that each row=patient(observation), each col=gene(feature)\n",
    "genes = genes.transpose()\n",
    "genes.head() #preview again"
   ]
  },
  {
   "cell_type": "markdown",
   "id": "080b914e",
   "metadata": {},
   "source": [
    "## Step 3. Load & Inspect Clinical Data, and Define Class Label\n",
    "\n",
    "The clinical data is a separate, structured dataframe (text file) with columns necessary to define the \"triple-negative\" class label."
   ]
  },
  {
   "cell_type": "code",
   "execution_count": 16,
   "id": "e197f055",
   "metadata": {},
   "outputs": [
    {
     "data": {
      "text/plain": [
       "(1108, 140)"
      ]
     },
     "execution_count": 16,
     "metadata": {},
     "output_type": "execute_result"
    }
   ],
   "source": [
    "clinical = pd.read_csv(path_annot, delimiter=\"\\t\")\n",
    "# sorted(clinical.columns.to_list())\n",
    "clinical.shape"
   ]
  },
  {
   "cell_type": "code",
   "execution_count": 17,
   "id": "ca1f005d",
   "metadata": {},
   "outputs": [
    {
     "data": {
      "text/html": [
       "<div>\n",
       "<style scoped>\n",
       "    .dataframe tbody tr th:only-of-type {\n",
       "        vertical-align: middle;\n",
       "    }\n",
       "\n",
       "    .dataframe tbody tr th {\n",
       "        vertical-align: top;\n",
       "    }\n",
       "\n",
       "    .dataframe thead th {\n",
       "        text-align: right;\n",
       "    }\n",
       "</style>\n",
       "<table border=\"1\" class=\"dataframe\">\n",
       "  <thead>\n",
       "    <tr style=\"text-align: right;\">\n",
       "      <th></th>\n",
       "      <th>Sample ID</th>\n",
       "      <th>Sample Type</th>\n",
       "      <th>Fraction Genome Altered</th>\n",
       "      <th>Diagnosis Age</th>\n",
       "      <th>Sex</th>\n",
       "      <th>Race Category</th>\n",
       "      <th>Ethnicity Category</th>\n",
       "      <th>Informed consent verified</th>\n",
       "      <th>ER Status By IHC</th>\n",
       "      <th>PR status by ihc</th>\n",
       "      <th>IHC-HER2</th>\n",
       "    </tr>\n",
       "  </thead>\n",
       "  <tbody>\n",
       "    <tr>\n",
       "      <th>0</th>\n",
       "      <td>TCGA-3C-AAAU-01</td>\n",
       "      <td>Primary</td>\n",
       "      <td>0.7787</td>\n",
       "      <td>55.0</td>\n",
       "      <td>Female</td>\n",
       "      <td>WHITE</td>\n",
       "      <td>NOT HISPANIC OR LATINO</td>\n",
       "      <td>YES</td>\n",
       "      <td>Positive</td>\n",
       "      <td>Positive</td>\n",
       "      <td>Negative</td>\n",
       "    </tr>\n",
       "    <tr>\n",
       "      <th>1</th>\n",
       "      <td>TCGA-3C-AALI-01</td>\n",
       "      <td>Primary</td>\n",
       "      <td>0.7164</td>\n",
       "      <td>50.0</td>\n",
       "      <td>Female</td>\n",
       "      <td>BLACK OR AFRICAN AMERICAN</td>\n",
       "      <td>NOT HISPANIC OR LATINO</td>\n",
       "      <td>YES</td>\n",
       "      <td>Positive</td>\n",
       "      <td>Positive</td>\n",
       "      <td>Positive</td>\n",
       "    </tr>\n",
       "    <tr>\n",
       "      <th>2</th>\n",
       "      <td>TCGA-3C-AALJ-01</td>\n",
       "      <td>Primary</td>\n",
       "      <td>0.5340</td>\n",
       "      <td>62.0</td>\n",
       "      <td>Female</td>\n",
       "      <td>BLACK OR AFRICAN AMERICAN</td>\n",
       "      <td>NOT HISPANIC OR LATINO</td>\n",
       "      <td>YES</td>\n",
       "      <td>Positive</td>\n",
       "      <td>Positive</td>\n",
       "      <td>Indeterminate</td>\n",
       "    </tr>\n",
       "    <tr>\n",
       "      <th>3</th>\n",
       "      <td>TCGA-3C-AALK-01</td>\n",
       "      <td>Primary</td>\n",
       "      <td>0.0764</td>\n",
       "      <td>52.0</td>\n",
       "      <td>Female</td>\n",
       "      <td>BLACK OR AFRICAN AMERICAN</td>\n",
       "      <td>NOT HISPANIC OR LATINO</td>\n",
       "      <td>YES</td>\n",
       "      <td>Positive</td>\n",
       "      <td>Positive</td>\n",
       "      <td>Positive</td>\n",
       "    </tr>\n",
       "    <tr>\n",
       "      <th>4</th>\n",
       "      <td>TCGA-4H-AAAK-01</td>\n",
       "      <td>Primary</td>\n",
       "      <td>0.2364</td>\n",
       "      <td>50.0</td>\n",
       "      <td>Female</td>\n",
       "      <td>WHITE</td>\n",
       "      <td>NOT HISPANIC OR LATINO</td>\n",
       "      <td>YES</td>\n",
       "      <td>Positive</td>\n",
       "      <td>Positive</td>\n",
       "      <td>Equivocal</td>\n",
       "    </tr>\n",
       "  </tbody>\n",
       "</table>\n",
       "</div>"
      ],
      "text/plain": [
       "         Sample ID Sample Type  Fraction Genome Altered  Diagnosis Age  \\\n",
       "0  TCGA-3C-AAAU-01     Primary                   0.7787           55.0   \n",
       "1  TCGA-3C-AALI-01     Primary                   0.7164           50.0   \n",
       "2  TCGA-3C-AALJ-01     Primary                   0.5340           62.0   \n",
       "3  TCGA-3C-AALK-01     Primary                   0.0764           52.0   \n",
       "4  TCGA-4H-AAAK-01     Primary                   0.2364           50.0   \n",
       "\n",
       "      Sex              Race Category      Ethnicity Category  \\\n",
       "0  Female                      WHITE  NOT HISPANIC OR LATINO   \n",
       "1  Female  BLACK OR AFRICAN AMERICAN  NOT HISPANIC OR LATINO   \n",
       "2  Female  BLACK OR AFRICAN AMERICAN  NOT HISPANIC OR LATINO   \n",
       "3  Female  BLACK OR AFRICAN AMERICAN  NOT HISPANIC OR LATINO   \n",
       "4  Female                      WHITE  NOT HISPANIC OR LATINO   \n",
       "\n",
       "  Informed consent verified ER Status By IHC PR status by ihc       IHC-HER2  \n",
       "0                       YES         Positive         Positive       Negative  \n",
       "1                       YES         Positive         Positive       Positive  \n",
       "2                       YES         Positive         Positive  Indeterminate  \n",
       "3                       YES         Positive         Positive       Positive  \n",
       "4                       YES         Positive         Positive      Equivocal  "
      ]
     },
     "execution_count": 17,
     "metadata": {},
     "output_type": "execute_result"
    }
   ],
   "source": [
    "COLUMNS_CLIN = [\n",
    "    'Sample ID', #ids\n",
    "    'Sample Type','Fraction Genome Altered', #tumor info\n",
    "    'Diagnosis Age','Sex','Race Category','Ethnicity Category', #patient info\n",
    "    'Informed consent verified', #ethics\n",
    "    'ER Status By IHC','PR status by ihc','IHC-HER2' #required for CLASS LABEL\n",
    "]\n",
    "\n",
    "clinical = clinical[COLUMNS_CLIN]\n",
    "clinical.head()"
   ]
  },
  {
   "cell_type": "markdown",
   "id": "21fc509a",
   "metadata": {},
   "source": [
    "### Subset data & re-group features\n",
    "\n",
    "We want to focus on:\n",
    "\n",
    "* Primary, non-metastatic tumors (Metastasis can be a confounding variable and such tumors are very few in number)\n",
    "* Female breast cancer patients only (There are <10 male patients, and gender is also a known confounding variable)"
   ]
  },
  {
   "cell_type": "code",
   "execution_count": 18,
   "id": "818fada0",
   "metadata": {},
   "outputs": [],
   "source": [
    "clinical = clinical[(clinical[\"Sex\"]==\"Female\") & (clinical[\"Sample Type\"]==\"Primary\")]"
   ]
  },
  {
   "cell_type": "markdown",
   "id": "67940014",
   "metadata": {},
   "source": [
    "Aggregate Race Category into \"white\" vs. \"non-white\". Most patients in the dataset are white. This is a known limitation of the dataset, and has been critiqued in literature (hopefully in the future we will have datasets that cover a wider range of race)."
   ]
  },
  {
   "cell_type": "code",
   "execution_count": 19,
   "id": "61384aaf",
   "metadata": {},
   "outputs": [
    {
     "name": "stdout",
     "output_type": "stream",
     "text": [
      "Number of NaNs: 94\n"
     ]
    }
   ],
   "source": [
    "print(\"Number of NaNs: %d\" % sum(clinical['Race Category'].isna()))\n",
    "clinical['RaceWhite'] = (clinical['Race Category']==\"WHITE\") "
   ]
  },
  {
   "cell_type": "code",
   "execution_count": 20,
   "id": "eab03653",
   "metadata": {},
   "outputs": [
    {
     "data": {
      "text/plain": [
       "94"
      ]
     },
     "execution_count": 20,
     "metadata": {},
     "output_type": "execute_result"
    }
   ],
   "source": [
    "clinical.loc[clinical['Race Category'].isna(), \"RaceWhite\"] = None\n",
    "sum(clinical['RaceWhite'].isna()) #should be same as above"
   ]
  },
  {
   "cell_type": "markdown",
   "id": "a0506f09",
   "metadata": {},
   "source": [
    "### Define class labels, 1 if a cancer is ER-negative, PR-negative, and HER2-negative; 0 otherwise\n",
    "\n",
    "Receptors ER, PR, HER2 have missing values!\n",
    "\n",
    "* All 3 needs to be 'Negative' for Label=1. \n",
    "* As long as one of which is 'Positive' or 'Intermediate' or 'Equivocal', we have Label=0.\n",
    "* Label=None is defined\n",
    "    - All 3 are 'Negative'\n",
    "    - 1 'Negative' + 2 NaN\n",
    "    - 2 'Negative' + 1 NaN\n",
    "\n",
    "We need to exclude samples whose Label=NaN."
   ]
  },
  {
   "cell_type": "code",
   "execution_count": 21,
   "id": "460d758c",
   "metadata": {},
   "outputs": [
    {
     "data": {
      "text/plain": [
       "[0, 0, 18, 1, 0, 94, 171, 0, 49, 50, 176]"
      ]
     },
     "execution_count": 21,
     "metadata": {},
     "output_type": "execute_result"
    }
   ],
   "source": [
    "## The last 3 integers indicate missing receptors required to define labels\n",
    "[sum(clinical[col].isna()) for col in COLUMNS_CLIN] "
   ]
  },
  {
   "cell_type": "code",
   "execution_count": 22,
   "id": "e5acf8d9",
   "metadata": {},
   "outputs": [],
   "source": [
    "## Initialize the label definition:\n",
    "clinical['Label'] = (clinical['ER Status By IHC']=='Negative') & \\\n",
    "                    (clinical['PR status by ihc']=='Negative') & \\\n",
    "                    (clinical['IHC-HER2']=='Negative')"
   ]
  },
  {
   "cell_type": "code",
   "execution_count": 23,
   "id": "686173eb",
   "metadata": {},
   "outputs": [
    {
     "data": {
      "text/html": [
       "<div>\n",
       "<style scoped>\n",
       "    .dataframe tbody tr th:only-of-type {\n",
       "        vertical-align: middle;\n",
       "    }\n",
       "\n",
       "    .dataframe tbody tr th {\n",
       "        vertical-align: top;\n",
       "    }\n",
       "\n",
       "    .dataframe thead th {\n",
       "        text-align: right;\n",
       "    }\n",
       "</style>\n",
       "<table border=\"1\" class=\"dataframe\">\n",
       "  <thead>\n",
       "    <tr style=\"text-align: right;\">\n",
       "      <th></th>\n",
       "      <th>ER Status By IHC</th>\n",
       "      <th>PR status by ihc</th>\n",
       "      <th>IHC-HER2</th>\n",
       "    </tr>\n",
       "  </thead>\n",
       "  <tbody>\n",
       "    <tr>\n",
       "      <th>0</th>\n",
       "      <td>False</td>\n",
       "      <td>False</td>\n",
       "      <td>False</td>\n",
       "    </tr>\n",
       "    <tr>\n",
       "      <th>1</th>\n",
       "      <td>False</td>\n",
       "      <td>False</td>\n",
       "      <td>False</td>\n",
       "    </tr>\n",
       "    <tr>\n",
       "      <th>2</th>\n",
       "      <td>False</td>\n",
       "      <td>False</td>\n",
       "      <td>False</td>\n",
       "    </tr>\n",
       "    <tr>\n",
       "      <th>3</th>\n",
       "      <td>False</td>\n",
       "      <td>False</td>\n",
       "      <td>False</td>\n",
       "    </tr>\n",
       "    <tr>\n",
       "      <th>4</th>\n",
       "      <td>False</td>\n",
       "      <td>False</td>\n",
       "      <td>False</td>\n",
       "    </tr>\n",
       "    <tr>\n",
       "      <th>...</th>\n",
       "      <td>...</td>\n",
       "      <td>...</td>\n",
       "      <td>...</td>\n",
       "    </tr>\n",
       "    <tr>\n",
       "      <th>1103</th>\n",
       "      <td>False</td>\n",
       "      <td>False</td>\n",
       "      <td>False</td>\n",
       "    </tr>\n",
       "    <tr>\n",
       "      <th>1104</th>\n",
       "      <td>False</td>\n",
       "      <td>False</td>\n",
       "      <td>False</td>\n",
       "    </tr>\n",
       "    <tr>\n",
       "      <th>1105</th>\n",
       "      <td>False</td>\n",
       "      <td>False</td>\n",
       "      <td>False</td>\n",
       "    </tr>\n",
       "    <tr>\n",
       "      <th>1106</th>\n",
       "      <td>False</td>\n",
       "      <td>False</td>\n",
       "      <td>False</td>\n",
       "    </tr>\n",
       "    <tr>\n",
       "      <th>1107</th>\n",
       "      <td>False</td>\n",
       "      <td>False</td>\n",
       "      <td>False</td>\n",
       "    </tr>\n",
       "  </tbody>\n",
       "</table>\n",
       "<p>1085 rows × 3 columns</p>\n",
       "</div>"
      ],
      "text/plain": [
       "      ER Status By IHC  PR status by ihc  IHC-HER2\n",
       "0                False             False     False\n",
       "1                False             False     False\n",
       "2                False             False     False\n",
       "3                False             False     False\n",
       "4                False             False     False\n",
       "...                ...               ...       ...\n",
       "1103             False             False     False\n",
       "1104             False             False     False\n",
       "1105             False             False     False\n",
       "1106             False             False     False\n",
       "1107             False             False     False\n",
       "\n",
       "[1085 rows x 3 columns]"
      ]
     },
     "execution_count": 23,
     "metadata": {},
     "output_type": "execute_result"
    }
   ],
   "source": [
    "clinical.loc[:,['ER Status By IHC','PR status by ihc','IHC-HER2']].isna()"
   ]
  },
  {
   "cell_type": "code",
   "execution_count": 24,
   "id": "ee67a94c",
   "metadata": {},
   "outputs": [
    {
     "data": {
      "text/plain": [
       "{0, 1, 2, 3}"
      ]
     },
     "execution_count": 24,
     "metadata": {},
     "output_type": "execute_result"
    }
   ],
   "source": [
    "## Count the number of missing receptors in each patient or sample\n",
    "clinical['num_receptor_missing'] = clinical.loc[:,['ER Status By IHC','PR status by ihc','IHC-HER2']].isna().sum(axis=1)\n",
    "set(clinical['num_receptor_missing'].to_list()) #few as 0, up to all 3 missing"
   ]
  },
  {
   "cell_type": "code",
   "execution_count": 25,
   "id": "c2a7c6a4",
   "metadata": {},
   "outputs": [
    {
     "data": {
      "text/plain": [
       "178"
      ]
     },
     "execution_count": 25,
     "metadata": {},
     "output_type": "execute_result"
    }
   ],
   "source": [
    "## Begin by setting any patient with 1+ receptor missing has having Label=None\n",
    "clinical.loc[clinical['num_receptor_missing']>0, \"Label\"] = None\n",
    "sum(clinical['Label'].isna())"
   ]
  },
  {
   "cell_type": "code",
   "execution_count": 26,
   "id": "86905106",
   "metadata": {},
   "outputs": [
    {
     "data": {
      "text/plain": [
       "83"
      ]
     },
     "execution_count": 26,
     "metadata": {},
     "output_type": "execute_result"
    }
   ],
   "source": [
    "## Then, re-set Label=0 from NaN if at least 1 receptor is NOT negative\n",
    "label0_indicator = ['Positive','Intermediate','Equivocal']\n",
    "\n",
    "clinical.loc[clinical['ER Status By IHC'].isin(label0_indicator) | \\\n",
    "         clinical['PR status by ihc'].isin(label0_indicator) | \\\n",
    "         clinical['IHC-HER2'].isin(label0_indicator), \"Label\"] = 0\n",
    "\n",
    "sum(clinical['Label'].isna())"
   ]
  },
  {
   "cell_type": "code",
   "execution_count": 27,
   "id": "1a58be26",
   "metadata": {},
   "outputs": [],
   "source": [
    "## Finally, exclude label-less rows (patients)\n",
    "clinical = clinical.loc[~clinical['Label'].isna(), :]"
   ]
  },
  {
   "cell_type": "markdown",
   "id": "b266ff26",
   "metadata": {},
   "source": [
    "### After defining our labels, make a summary table stratified by _Class Label=1 (True)_ vs. _Class Label=0 (False)_\n",
    "\n",
    "We will use a \"Table One\" commonly used in medical and healthcare literature to summarize the dataset or patient population. Table One can be created for each feature one-by-one, but can also be automated by Python package `tableone`."
   ]
  },
  {
   "cell_type": "code",
   "execution_count": 28,
   "id": "d37dc6a5",
   "metadata": {},
   "outputs": [
    {
     "name": "stdout",
     "output_type": "stream",
     "text": [
      "Requirement already satisfied: tableone in /home/ec2-user/anaconda3/envs/python3/lib/python3.6/site-packages (0.7.10)\n",
      "Requirement already satisfied: numpy>=1.12.1 in /home/ec2-user/anaconda3/envs/python3/lib/python3.6/site-packages (from tableone) (1.19.5)\n",
      "Requirement already satisfied: tabulate>=0.8.2 in /home/ec2-user/anaconda3/envs/python3/lib/python3.6/site-packages (from tableone) (0.8.9)\n",
      "Requirement already satisfied: pandas>=0.22.0 in /home/ec2-user/anaconda3/envs/python3/lib/python3.6/site-packages (from tableone) (1.1.5)\n",
      "Requirement already satisfied: statsmodels>=0.8.0 in /home/ec2-user/anaconda3/envs/python3/lib/python3.6/site-packages (from tableone) (0.12.2)\n",
      "Requirement already satisfied: scipy>=0.18.1 in /home/ec2-user/anaconda3/envs/python3/lib/python3.6/site-packages (from tableone) (1.5.3)\n",
      "Requirement already satisfied: python-dateutil>=2.7.3 in /home/ec2-user/anaconda3/envs/python3/lib/python3.6/site-packages (from pandas>=0.22.0->tableone) (2.8.1)\n",
      "Requirement already satisfied: pytz>=2017.2 in /home/ec2-user/anaconda3/envs/python3/lib/python3.6/site-packages (from pandas>=0.22.0->tableone) (2021.1)\n",
      "Requirement already satisfied: six>=1.5 in /home/ec2-user/anaconda3/envs/python3/lib/python3.6/site-packages (from python-dateutil>=2.7.3->pandas>=0.22.0->tableone) (1.15.0)\n",
      "Requirement already satisfied: patsy>=0.5 in /home/ec2-user/anaconda3/envs/python3/lib/python3.6/site-packages (from statsmodels>=0.8.0->tableone) (0.5.1)\n"
     ]
    }
   ],
   "source": [
    "!pip install tableone"
   ]
  },
  {
   "cell_type": "code",
   "execution_count": 30,
   "id": "9f7906e3",
   "metadata": {},
   "outputs": [],
   "source": [
    "from tableone import TableOne\n",
    "\n",
    "selected_cols = ['Sex','RaceWhite','num_receptor_missing','Informed consent verified']\n",
    "\n",
    "myTable1 = TableOne(\n",
    "    clinical,\n",
    "    columns = selected_cols, \n",
    "    groupby = 'Label'\n",
    ")"
   ]
  },
  {
   "cell_type": "code",
   "execution_count": 31,
   "id": "2f86f11e",
   "metadata": {},
   "outputs": [
    {
     "name": "stdout",
     "output_type": "stream",
     "text": [
      "================================  ======  =========  ============  ===========  ===========\n",
      "..                                        Missing    Overall       0.0          1.0\n",
      "================================  ======  =========  ============  ===========  ===========\n",
      "n                                                    1002          886          116\n",
      "Sex, n (%)                        Female  0          1002 (100.0)  886 (100.0)  116 (100.0)\n",
      "RaceWhite, n (%)                  0.0     94         216 (23.8)    176 (22.0)   40 (36.7)\n",
      "..                                1.0                692 (76.2)    623 (78.0)   69 (63.3)\n",
      "num_receptor_missing, n (%)       0       0          907 (90.5)    791 (89.3)   116 (100.0)\n",
      "..                                1                  95 (9.5)      95 (10.7)\n",
      "Informed consent verified, n (%)  YES     0          1002 (100.0)  886 (100.0)  116 (100.0)\n",
      "================================  ======  =========  ============  ===========  ===========\n"
     ]
    }
   ],
   "source": [
    "## Column 'True' or '1.0' means Class=1, i.e. the triple negative cancers\n",
    "print(myTable1.tabulate(tablefmt=\"rst\"))"
   ]
  },
  {
   "cell_type": "markdown",
   "id": "559eb75e",
   "metadata": {},
   "source": [
    "### Important note about research ethics\n",
    "\n",
    "Even though the data is **publicly available**, the Table One above shows that 100\\% data points have informed consent, a basic ethical principle for Healthcare research."
   ]
  },
  {
   "cell_type": "markdown",
   "id": "75779e07",
   "metadata": {},
   "source": [
    "## Step 4. Mutually Subset Features DataFrame & Labels (Clinical) DataFrame for Export\n",
    "\n",
    "* The exported data will be the data we use for Machine Learning tasks.\n",
    "* Ensure all rows in the dataframe `genes` have a matching record in `clinical` (with class labels)\n",
    "* Make the order of data and class label the same\n",
    "* Export the subsetted, order-matched data to another S3 bucket folder `processed_data/` (I have manually created this folder in S3, under the parent directory `assets/`)"
   ]
  },
  {
   "cell_type": "code",
   "execution_count": 32,
   "id": "ee2372af",
   "metadata": {},
   "outputs": [
    {
     "data": {
      "text/plain": [
       "999"
      ]
     },
     "execution_count": 32,
     "metadata": {},
     "output_type": "execute_result"
    }
   ],
   "source": [
    "sum(clinical['Sample ID'].isin(genes.index)) #number of observations in each dataframe"
   ]
  },
  {
   "cell_type": "code",
   "execution_count": 33,
   "id": "f001955a",
   "metadata": {},
   "outputs": [
    {
     "data": {
      "text/plain": [
       "999"
      ]
     },
     "execution_count": 33,
     "metadata": {},
     "output_type": "execute_result"
    }
   ],
   "source": [
    "sum(genes.index.isin(clinical['Sample ID'])) #should match cell above"
   ]
  },
  {
   "cell_type": "code",
   "execution_count": 34,
   "id": "58bbf795",
   "metadata": {},
   "outputs": [
    {
     "data": {
      "text/plain": [
       "(999, 14)"
      ]
     },
     "execution_count": 34,
     "metadata": {},
     "output_type": "execute_result"
    }
   ],
   "source": [
    "clinical = clinical.loc[clinical['Sample ID'].isin(genes.index), :]\n",
    "clinical.shape"
   ]
  },
  {
   "cell_type": "code",
   "execution_count": 35,
   "id": "24db9845",
   "metadata": {},
   "outputs": [
    {
     "data": {
      "text/plain": [
       "(999, 20528)"
      ]
     },
     "execution_count": 35,
     "metadata": {},
     "output_type": "execute_result"
    }
   ],
   "source": [
    "genes = genes.loc[clinical['Sample ID'],:]\n",
    "genes.shape"
   ]
  },
  {
   "cell_type": "code",
   "execution_count": 36,
   "id": "09bd7901",
   "metadata": {},
   "outputs": [
    {
     "data": {
      "text/plain": [
       "True"
      ]
     },
     "execution_count": 36,
     "metadata": {},
     "output_type": "execute_result"
    }
   ],
   "source": [
    "## Bonus: Confirm mutually subsetted dataframes are also matched\n",
    "all(genes.index == clinical['Sample ID'])"
   ]
  },
  {
   "cell_type": "markdown",
   "id": "35164cc3",
   "metadata": {},
   "source": [
    "Export the processed data (features) and annotation (with class labels) to another directory in S3 bucket:"
   ]
  },
  {
   "cell_type": "code",
   "execution_count": 37,
   "id": "660d5390",
   "metadata": {},
   "outputs": [],
   "source": [
    "directS3Save(clinical, bucket, \"assets/processed_data/clinical.csv\")"
   ]
  },
  {
   "cell_type": "code",
   "execution_count": 38,
   "id": "f4eaf264",
   "metadata": {},
   "outputs": [],
   "source": [
    "directS3Save(genes, bucket, \"assets/processed_data/genes.csv\")"
   ]
  },
  {
   "cell_type": "code",
   "execution_count": 39,
   "id": "0931be7c",
   "metadata": {},
   "outputs": [],
   "source": [
    "directS3Save(gene_map, bucket, \"assets/processed_data/gene_name_map.csv\")"
   ]
  }
 ],
 "metadata": {
  "kernelspec": {
   "display_name": "conda_python3",
   "language": "python",
   "name": "conda_python3"
  },
  "language_info": {
   "codemirror_mode": {
    "name": "ipython",
    "version": 3
   },
   "file_extension": ".py",
   "mimetype": "text/x-python",
   "name": "python",
   "nbconvert_exporter": "python",
   "pygments_lexer": "ipython3",
   "version": "3.6.13"
  }
 },
 "nbformat": 4,
 "nbformat_minor": 5
}
