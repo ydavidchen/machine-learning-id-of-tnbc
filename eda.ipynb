{
 "cells": [
  {
   "cell_type": "markdown",
   "id": "tamil-reconstruction",
   "metadata": {},
   "source": [
    "# Healthcare ML Project: Exploratory Data Analysis & Data Subsetting\n",
    "\n",
    "In this notebook, we will accomplish the following:\n",
    "\n",
    "* Load clinical data as a DataFrame `clinical`, required to define class label `clinical[Label] : bool`\n",
    "* Load molecular data as an mxn DataFrame, `genes`. We will select the appropriate rows (patients) and match the `genes` DataFrame with the `clinical` data."
   ]
  },
  {
   "cell_type": "code",
   "execution_count": 1,
   "id": "forbidden-triple",
   "metadata": {},
   "outputs": [],
   "source": [
    "import pandas as pd \n",
    "import numpy as np\n",
    "import matplotlib.pyplot as plt\n",
    "%matplotlib inline"
   ]
  },
  {
   "cell_type": "markdown",
   "id": "seeing-provision",
   "metadata": {},
   "source": [
    "## Sagemaker Resources\n",
    "\n",
    "The data downloaded has been uploaded to S3 default bucket"
   ]
  },
  {
   "cell_type": "code",
   "execution_count": 2,
   "id": "renewable-sister",
   "metadata": {},
   "outputs": [],
   "source": [
    "import boto3\n",
    "import sagemaker\n",
    "from sagemaker import get_execution_role"
   ]
  },
  {
   "cell_type": "code",
   "execution_count": 3,
   "id": "worse-medicare",
   "metadata": {},
   "outputs": [
    {
     "data": {
      "text/plain": [
       "<sagemaker.session.Session at 0x7f983a68bf28>"
      ]
     },
     "execution_count": 3,
     "metadata": {},
     "output_type": "execute_result"
    }
   ],
   "source": [
    "sagemaker_session = sagemaker.Session()\n",
    "sagemaker_session"
   ]
  },
  {
   "cell_type": "code",
   "execution_count": 4,
   "id": "provincial-evolution",
   "metadata": {},
   "outputs": [
    {
     "data": {
      "text/plain": [
       "'arn:aws:iam::906713186745:role/service-role/AmazonSageMaker-ExecutionRole-20210419T071573'"
      ]
     },
     "execution_count": 4,
     "metadata": {},
     "output_type": "execute_result"
    }
   ],
   "source": [
    "role = sagemaker.get_execution_role()\n",
    "role"
   ]
  },
  {
   "cell_type": "code",
   "execution_count": 5,
   "id": "positive-florist",
   "metadata": {},
   "outputs": [
    {
     "data": {
      "text/plain": [
       "'sagemaker-us-east-1-906713186745'"
      ]
     },
     "execution_count": 5,
     "metadata": {},
     "output_type": "execute_result"
    }
   ],
   "source": [
    "bucket = sagemaker_session.default_bucket()\n",
    "bucket"
   ]
  },
  {
   "cell_type": "code",
   "execution_count": 6,
   "id": "unnecessary-sphere",
   "metadata": {},
   "outputs": [
    {
     "name": "stdout",
     "output_type": "stream",
     "text": [
      "assets/\n",
      "assets/data/brca_tcga_clinical_data.tsv\n",
      "assets/data/data_RNA_Seq_v2_mRNA_median_all_sample_Zscores.txt\n",
      "assets/data/meta_RNA_Seq_v2_mRNA_median_all_sample_Zscores.txt\n",
      "sagemaker-scikit-learn-2021-04-22-02-22-29-590/debug-output/training_job_end.ts\n",
      "sagemaker-scikit-learn-2021-04-22-02-22-29-590/output/model.tar.gz\n",
      "sagemaker-scikit-learn-2021-04-22-02-22-29-590/profiler-output/framework/training_job_end.ts\n",
      "sagemaker-scikit-learn-2021-04-22-02-22-29-590/profiler-output/system/incremental/2021042202/1619058240.algo-1.json\n",
      "sagemaker-scikit-learn-2021-04-22-02-22-29-590/profiler-output/system/incremental/2021042202/1619058300.algo-1.json\n",
      "sagemaker-scikit-learn-2021-04-22-02-22-29-590/profiler-output/system/training_job_end.ts\n",
      "sagemaker-scikit-learn-2021-04-22-02-22-29-590/rule-output/ProfilerReport-1619058149/profiler-output/profiler-report.html\n",
      "sagemaker-scikit-learn-2021-04-22-02-22-29-590/rule-output/ProfilerReport-1619058149/profiler-output/profiler-report.ipynb\n",
      "sagemaker-scikit-learn-2021-04-22-02-22-29-590/rule-output/ProfilerReport-1619058149/profiler-output/profiler-reports/BatchSize.json\n",
      "sagemaker-scikit-learn-2021-04-22-02-22-29-590/rule-output/ProfilerReport-1619058149/profiler-output/profiler-reports/CPUBottleneck.json\n",
      "sagemaker-scikit-learn-2021-04-22-02-22-29-590/rule-output/ProfilerReport-1619058149/profiler-output/profiler-reports/Dataloader.json\n",
      "sagemaker-scikit-learn-2021-04-22-02-22-29-590/rule-output/ProfilerReport-1619058149/profiler-output/profiler-reports/GPUMemoryIncrease.json\n",
      "sagemaker-scikit-learn-2021-04-22-02-22-29-590/rule-output/ProfilerReport-1619058149/profiler-output/profiler-reports/IOBottleneck.json\n",
      "sagemaker-scikit-learn-2021-04-22-02-22-29-590/rule-output/ProfilerReport-1619058149/profiler-output/profiler-reports/LoadBalancing.json\n",
      "sagemaker-scikit-learn-2021-04-22-02-22-29-590/rule-output/ProfilerReport-1619058149/profiler-output/profiler-reports/LowGPUUtilization.json\n",
      "sagemaker-scikit-learn-2021-04-22-02-22-29-590/rule-output/ProfilerReport-1619058149/profiler-output/profiler-reports/MaxInitializationTime.json\n",
      "sagemaker-scikit-learn-2021-04-22-02-22-29-590/rule-output/ProfilerReport-1619058149/profiler-output/profiler-reports/OverallFrameworkMetrics.json\n",
      "sagemaker-scikit-learn-2021-04-22-02-22-29-590/rule-output/ProfilerReport-1619058149/profiler-output/profiler-reports/OverallSystemUsage.json\n",
      "sagemaker-scikit-learn-2021-04-22-02-22-29-590/rule-output/ProfilerReport-1619058149/profiler-output/profiler-reports/StepOutlier.json\n",
      "sagemaker-scikit-learn-2021-04-22-02-22-29-590/source/sourcedir.tar.gz\n",
      "sagemaker/iris-data/iris.csv\n"
     ]
    }
   ],
   "source": [
    "for obj in boto3.resource('s3').Bucket(bucket).objects.all():\n",
    "     print(obj.key)"
   ]
  },
  {
   "cell_type": "markdown",
   "id": "union-dating",
   "metadata": {},
   "source": [
    "### Load Data from S3"
   ]
  },
  {
   "cell_type": "code",
   "execution_count": 7,
   "id": "colonial-marijuana",
   "metadata": {},
   "outputs": [],
   "source": [
    "def get_s3_uri(prefix, bucket=bucket):\n",
    "    return \"s3://{}/{}\".format(bucket, prefix)"
   ]
  },
  {
   "cell_type": "code",
   "execution_count": 8,
   "id": "referenced-efficiency",
   "metadata": {},
   "outputs": [],
   "source": [
    "path_input = get_s3_uri(\"assets/data/data_RNA_Seq_v2_mRNA_median_all_sample_Zscores.txt\")\n",
    "path_annot = get_s3_uri(\"assets/data/brca_tcga_clinical_data.tsv\")"
   ]
  },
  {
   "cell_type": "code",
   "execution_count": 9,
   "id": "oriented-effect",
   "metadata": {},
   "outputs": [
    {
     "data": {
      "text/plain": [
       "(20531, 1102)"
      ]
     },
     "execution_count": 9,
     "metadata": {},
     "output_type": "execute_result"
    }
   ],
   "source": [
    "genes = pd.read_csv(path_input, delimiter=\"\\t\")\n",
    "genes.shape"
   ]
  },
  {
   "cell_type": "code",
   "execution_count": 10,
   "id": "differential-scholar",
   "metadata": {},
   "outputs": [
    {
     "data": {
      "text/plain": [
       "(1108, 140)"
      ]
     },
     "execution_count": 10,
     "metadata": {},
     "output_type": "execute_result"
    }
   ],
   "source": [
    "clinical = pd.read_csv(path_annot, delimiter=\"\\t\")\n",
    "# sorted(clinical.columns.to_list())\n",
    "clinical.shape"
   ]
  },
  {
   "cell_type": "markdown",
   "id": "loving-mechanism",
   "metadata": {},
   "source": [
    "## Wrangle with the Clinical Information"
   ]
  },
  {
   "cell_type": "code",
   "execution_count": 25,
   "id": "unlike-hotel",
   "metadata": {},
   "outputs": [
    {
     "data": {
      "text/html": [
       "<div>\n",
       "<style scoped>\n",
       "    .dataframe tbody tr th:only-of-type {\n",
       "        vertical-align: middle;\n",
       "    }\n",
       "\n",
       "    .dataframe tbody tr th {\n",
       "        vertical-align: top;\n",
       "    }\n",
       "\n",
       "    .dataframe thead th {\n",
       "        text-align: right;\n",
       "    }\n",
       "</style>\n",
       "<table border=\"1\" class=\"dataframe\">\n",
       "  <thead>\n",
       "    <tr style=\"text-align: right;\">\n",
       "      <th></th>\n",
       "      <th>Patient ID</th>\n",
       "      <th>Sample ID</th>\n",
       "      <th>Sample Type</th>\n",
       "      <th>Fraction Genome Altered</th>\n",
       "      <th>Diagnosis Age</th>\n",
       "      <th>Sex</th>\n",
       "      <th>Race Category</th>\n",
       "      <th>Ethnicity Category</th>\n",
       "      <th>Informed consent verified</th>\n",
       "      <th>ER Status By IHC</th>\n",
       "      <th>PR status by ihc</th>\n",
       "      <th>IHC-HER2</th>\n",
       "    </tr>\n",
       "  </thead>\n",
       "  <tbody>\n",
       "    <tr>\n",
       "      <th>0</th>\n",
       "      <td>TCGA-3C-AAAU</td>\n",
       "      <td>TCGA-3C-AAAU-01</td>\n",
       "      <td>Primary</td>\n",
       "      <td>0.7787</td>\n",
       "      <td>55.0</td>\n",
       "      <td>Female</td>\n",
       "      <td>WHITE</td>\n",
       "      <td>NOT HISPANIC OR LATINO</td>\n",
       "      <td>YES</td>\n",
       "      <td>Positive</td>\n",
       "      <td>Positive</td>\n",
       "      <td>Negative</td>\n",
       "    </tr>\n",
       "    <tr>\n",
       "      <th>1</th>\n",
       "      <td>TCGA-3C-AALI</td>\n",
       "      <td>TCGA-3C-AALI-01</td>\n",
       "      <td>Primary</td>\n",
       "      <td>0.7164</td>\n",
       "      <td>50.0</td>\n",
       "      <td>Female</td>\n",
       "      <td>BLACK OR AFRICAN AMERICAN</td>\n",
       "      <td>NOT HISPANIC OR LATINO</td>\n",
       "      <td>YES</td>\n",
       "      <td>Positive</td>\n",
       "      <td>Positive</td>\n",
       "      <td>Positive</td>\n",
       "    </tr>\n",
       "    <tr>\n",
       "      <th>2</th>\n",
       "      <td>TCGA-3C-AALJ</td>\n",
       "      <td>TCGA-3C-AALJ-01</td>\n",
       "      <td>Primary</td>\n",
       "      <td>0.5340</td>\n",
       "      <td>62.0</td>\n",
       "      <td>Female</td>\n",
       "      <td>BLACK OR AFRICAN AMERICAN</td>\n",
       "      <td>NOT HISPANIC OR LATINO</td>\n",
       "      <td>YES</td>\n",
       "      <td>Positive</td>\n",
       "      <td>Positive</td>\n",
       "      <td>Indeterminate</td>\n",
       "    </tr>\n",
       "    <tr>\n",
       "      <th>3</th>\n",
       "      <td>TCGA-3C-AALK</td>\n",
       "      <td>TCGA-3C-AALK-01</td>\n",
       "      <td>Primary</td>\n",
       "      <td>0.0764</td>\n",
       "      <td>52.0</td>\n",
       "      <td>Female</td>\n",
       "      <td>BLACK OR AFRICAN AMERICAN</td>\n",
       "      <td>NOT HISPANIC OR LATINO</td>\n",
       "      <td>YES</td>\n",
       "      <td>Positive</td>\n",
       "      <td>Positive</td>\n",
       "      <td>Positive</td>\n",
       "    </tr>\n",
       "    <tr>\n",
       "      <th>4</th>\n",
       "      <td>TCGA-4H-AAAK</td>\n",
       "      <td>TCGA-4H-AAAK-01</td>\n",
       "      <td>Primary</td>\n",
       "      <td>0.2364</td>\n",
       "      <td>50.0</td>\n",
       "      <td>Female</td>\n",
       "      <td>WHITE</td>\n",
       "      <td>NOT HISPANIC OR LATINO</td>\n",
       "      <td>YES</td>\n",
       "      <td>Positive</td>\n",
       "      <td>Positive</td>\n",
       "      <td>Equivocal</td>\n",
       "    </tr>\n",
       "  </tbody>\n",
       "</table>\n",
       "</div>"
      ],
      "text/plain": [
       "     Patient ID        Sample ID Sample Type  Fraction Genome Altered  \\\n",
       "0  TCGA-3C-AAAU  TCGA-3C-AAAU-01     Primary                   0.7787   \n",
       "1  TCGA-3C-AALI  TCGA-3C-AALI-01     Primary                   0.7164   \n",
       "2  TCGA-3C-AALJ  TCGA-3C-AALJ-01     Primary                   0.5340   \n",
       "3  TCGA-3C-AALK  TCGA-3C-AALK-01     Primary                   0.0764   \n",
       "4  TCGA-4H-AAAK  TCGA-4H-AAAK-01     Primary                   0.2364   \n",
       "\n",
       "   Diagnosis Age     Sex              Race Category      Ethnicity Category  \\\n",
       "0           55.0  Female                      WHITE  NOT HISPANIC OR LATINO   \n",
       "1           50.0  Female  BLACK OR AFRICAN AMERICAN  NOT HISPANIC OR LATINO   \n",
       "2           62.0  Female  BLACK OR AFRICAN AMERICAN  NOT HISPANIC OR LATINO   \n",
       "3           52.0  Female  BLACK OR AFRICAN AMERICAN  NOT HISPANIC OR LATINO   \n",
       "4           50.0  Female                      WHITE  NOT HISPANIC OR LATINO   \n",
       "\n",
       "  Informed consent verified ER Status By IHC PR status by ihc       IHC-HER2  \n",
       "0                       YES         Positive         Positive       Negative  \n",
       "1                       YES         Positive         Positive       Positive  \n",
       "2                       YES         Positive         Positive  Indeterminate  \n",
       "3                       YES         Positive         Positive       Positive  \n",
       "4                       YES         Positive         Positive      Equivocal  "
      ]
     },
     "execution_count": 25,
     "metadata": {},
     "output_type": "execute_result"
    }
   ],
   "source": [
    "COLUMNS_CLIN = [\n",
    "    'Patient ID', 'Sample ID', #ids\n",
    "    'Sample Type','Fraction Genome Altered', #tumor info\n",
    "    'Diagnosis Age','Sex','Race Category','Ethnicity Category', #patient info\n",
    "    'Informed consent verified', #ethics\n",
    "    'ER Status By IHC','PR status by ihc','IHC-HER2' #required for CLASS LABEL\n",
    "]\n",
    "\n",
    "clinical = clinical[COLUMNS_CLIN]\n",
    "clinical.head()"
   ]
  },
  {
   "cell_type": "code",
   "execution_count": 13,
   "id": "willing-decrease",
   "metadata": {},
   "outputs": [
    {
     "name": "stdout",
     "output_type": "stream",
     "text": [
      "Requirement already satisfied: tableone in /home/ec2-user/anaconda3/envs/pytorch_p36/lib/python3.6/site-packages (0.7.10)\n",
      "Requirement already satisfied: pandas>=0.22.0 in /home/ec2-user/anaconda3/envs/pytorch_p36/lib/python3.6/site-packages (from tableone) (1.1.5)\n",
      "Requirement already satisfied: tabulate>=0.8.2 in /home/ec2-user/anaconda3/envs/pytorch_p36/lib/python3.6/site-packages (from tableone) (0.8.9)\n",
      "Requirement already satisfied: statsmodels>=0.8.0 in /home/ec2-user/anaconda3/envs/pytorch_p36/lib/python3.6/site-packages (from tableone) (0.12.2)\n",
      "Requirement already satisfied: scipy>=0.18.1 in /home/ec2-user/anaconda3/envs/pytorch_p36/lib/python3.6/site-packages (from tableone) (1.5.3)\n",
      "Requirement already satisfied: numpy>=1.12.1 in /home/ec2-user/anaconda3/envs/pytorch_p36/lib/python3.6/site-packages (from tableone) (1.19.5)\n",
      "Requirement already satisfied: python-dateutil>=2.7.3 in /home/ec2-user/anaconda3/envs/pytorch_p36/lib/python3.6/site-packages (from pandas>=0.22.0->tableone) (2.8.1)\n",
      "Requirement already satisfied: pytz>=2017.2 in /home/ec2-user/anaconda3/envs/pytorch_p36/lib/python3.6/site-packages (from pandas>=0.22.0->tableone) (2021.1)\n",
      "Requirement already satisfied: six>=1.5 in /home/ec2-user/anaconda3/envs/pytorch_p36/lib/python3.6/site-packages (from python-dateutil>=2.7.3->pandas>=0.22.0->tableone) (1.15.0)\n",
      "Requirement already satisfied: patsy>=0.5 in /home/ec2-user/anaconda3/envs/pytorch_p36/lib/python3.6/site-packages (from statsmodels>=0.8.0->tableone) (0.5.1)\n"
     ]
    }
   ],
   "source": [
    "# Create “Table 1” summary statistics for a patient population\n",
    "!pip install tableone"
   ]
  },
  {
   "cell_type": "code",
   "execution_count": 26,
   "id": "missing-glass",
   "metadata": {},
   "outputs": [],
   "source": [
    "## Focus on primary tumors from female patients only\n",
    "clinical = clinical[(clinical[\"Sex\"]==\"Female\") & (clinical[\"Sample Type\"]==\"Primary\")]"
   ]
  },
  {
   "cell_type": "code",
   "execution_count": 27,
   "id": "parallel-stations",
   "metadata": {},
   "outputs": [],
   "source": [
    "## Define triple negative\n",
    "clinical['Label'] = (clinical['ER Status By IHC']=='Negative') & \\\n",
    "                    (clinical['PR status by ihc']=='Negative') & \\\n",
    "                    (clinical['IHC-HER2']=='Negative')"
   ]
  },
  {
   "cell_type": "markdown",
   "id": "leading-bacon",
   "metadata": {},
   "source": [
    "### Make a summary table stratified by _Class Label=1 (True)_ vs. _Class Label=0 (False)_"
   ]
  },
  {
   "cell_type": "code",
   "execution_count": 32,
   "id": "adverse-benchmark",
   "metadata": {},
   "outputs": [],
   "source": [
    "from tableone import TableOne\n",
    "\n",
    "myTable1 = TableOne(\n",
    "    clinical,\n",
    "    columns=COLUMNS_CLIN[3:9], \n",
    "    categorical=COLUMNS_CLIN[5:9],\n",
    "    groupby='Label'\n",
    ")"
   ]
  },
  {
   "cell_type": "code",
   "execution_count": 33,
   "id": "voluntary-adrian",
   "metadata": {},
   "outputs": [
    {
     "name": "stdout",
     "output_type": "stream",
     "text": [
      "|                                    |                                  | Missing   | Overall      | False       | True        |\n",
      "|------------------------------------|----------------------------------|-----------|--------------|-------------|-------------|\n",
      "| n                                  |                                  |           | 1085         | 969         | 116         |\n",
      "| Fraction Genome Altered, mean (SD) |                                  | 18        | 0.3 (0.2)    | 0.3 (0.2)   | 0.4 (0.2)   |\n",
      "| Diagnosis Age, mean (SD)           |                                  | 1         | 58.4 (13.2)  | 58.9 (13.3) | 54.5 (12.0) |\n",
      "| Sex, n (%)                         | Female                           | 0         | 1085 (100.0) | 969 (100.0) | 116 (100.0) |\n",
      "| Race Category, n (%)               | AMERICAN INDIAN OR ALASKA NATIVE | 94        | 1 (0.1)      | 1 (0.1)     |             |\n",
      "|                                    | ASIAN                            |           | 61 (6.2)     | 53 (6.0)    | 8 (7.3)     |\n",
      "|                                    | BLACK OR AFRICAN AMERICAN        |           | 180 (18.2)   | 148 (16.8)  | 32 (29.4)   |\n",
      "|                                    | WHITE                            |           | 749 (75.6)   | 680 (77.1)  | 69 (63.3)   |\n",
      "| Ethnicity Category, n (%)          | HISPANIC OR LATINO               | 171       | 37 (4.0)     | 33 (4.1)    | 4 (3.9)     |\n",
      "|                                    | NOT HISPANIC OR LATINO           |           | 877 (96.0)   | 778 (95.9)  | 99 (96.1)   |\n",
      "| Informed consent verified, n (%)   | YES                              | 0         | 1085 (100.0) | 969 (100.0) | 116 (100.0) |\n"
     ]
    }
   ],
   "source": [
    "# Column 'True' means Class=1, i.e. the triple negative tumors\n",
    "print(myTable1.tabulate(tablefmt=\"github\"))"
   ]
  },
  {
   "cell_type": "markdown",
   "id": "eligible-sympathy",
   "metadata": {},
   "source": [
    "### Important: \n",
    "\n",
    "Even though the data is public, I made sure that 100\\% data points have informed consent, a basic ethical principle for Healthcare research"
   ]
  },
  {
   "cell_type": "markdown",
   "id": "silent-sender",
   "metadata": {},
   "source": [
    "## Subset the mRNA data\n",
    "\n",
    "* Ensure all rows in the dataframe `genes` have a matching record in `clinical` (with class labels)\n",
    "* "
   ]
  }
 ],
 "metadata": {
  "kernelspec": {
   "display_name": "conda_pytorch_p36",
   "language": "python",
   "name": "conda_pytorch_p36"
  },
  "language_info": {
   "codemirror_mode": {
    "name": "ipython",
    "version": 3
   },
   "file_extension": ".py",
   "mimetype": "text/x-python",
   "name": "python",
   "nbconvert_exporter": "python",
   "pygments_lexer": "ipython3",
   "version": "3.6.13"
  }
 },
 "nbformat": 4,
 "nbformat_minor": 5
}
